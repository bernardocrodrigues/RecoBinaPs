{
 "cells": [
  {
   "cell_type": "markdown",
   "metadata": {},
   "source": [
    "# BinaryDataset Demo\n",
    "\n",
    "Copyright 2022 Bernardo C. Rodrigues\n",
    "\n",
    "This program is free software: you can redistribute it and/or modify it under the terms of the GNU General Public\n",
    "License as published by the Free Software Foundation, either version 3 of the License, or (at your option) any later\n",
    "version. This program is distributed in the hope that it will be useful, but WITHOUT ANY WARRANTY; without even the\n",
    "implied warranty of MERCHANTABILITY or FITNESS FOR A PARTICULAR PURPOSE. See the GNU General Public License for more\n",
    "details. You should have received a copy of the GNU General Public License along with this program. If not, \n",
    "see <https://www.gnu.org/licenses/>. \n",
    "\n",
    "This notebook demonstrates the usability of the BinaryDataset class.\n",
    "\n",
    "The BinaryDataset class works as a wrapper over a binary numpy matrix to add some helper functions to aid us perform FCA\n",
    "related tasks such as computation of intents/extents."
   ]
  },
  {
   "cell_type": "code",
   "execution_count": 7,
   "metadata": {},
   "outputs": [],
   "source": [
    "from rich.jupyter import print # provide better printing\n",
    "import numpy as np\n",
    "\n",
    "\n",
    "from lib.BinaryDataset import BinaryDataset\n",
    "\n",
    "# import raw data\n",
    "from tests.ToyDatasets import  zaki_dataset_raw"
   ]
  },
  {
   "cell_type": "code",
   "execution_count": 2,
   "metadata": {},
   "outputs": [],
   "source": [
    "# create BinaryDataset from raw data\n",
    "zaki_dataset = BinaryDataset(zaki_dataset_raw)"
   ]
  },
  {
   "cell_type": "code",
   "execution_count": 22,
   "metadata": {},
   "outputs": [
    {
     "data": {
      "text/html": [
       "<pre style=\"white-space:pre;overflow-x:auto;line-height:normal;font-family:Menlo,'DejaVu Sans Mono',consolas,'Courier New',monospace\"><span style=\"font-weight: bold\">[[</span> <span style=\"color: #00ff00; text-decoration-color: #00ff00; font-style: italic\">True</span>  <span style=\"color: #00ff00; text-decoration-color: #00ff00; font-style: italic\">True</span> <span style=\"color: #ff0000; text-decoration-color: #ff0000; font-style: italic\">False</span>  <span style=\"color: #00ff00; text-decoration-color: #00ff00; font-style: italic\">True</span>  <span style=\"color: #00ff00; text-decoration-color: #00ff00; font-style: italic\">True</span><span style=\"font-weight: bold\">]</span>\n",
       " <span style=\"font-weight: bold\">[</span><span style=\"color: #ff0000; text-decoration-color: #ff0000; font-style: italic\">False</span>  <span style=\"color: #00ff00; text-decoration-color: #00ff00; font-style: italic\">True</span>  <span style=\"color: #00ff00; text-decoration-color: #00ff00; font-style: italic\">True</span> <span style=\"color: #ff0000; text-decoration-color: #ff0000; font-style: italic\">False</span>  <span style=\"color: #00ff00; text-decoration-color: #00ff00; font-style: italic\">True</span><span style=\"font-weight: bold\">]</span>\n",
       " <span style=\"font-weight: bold\">[</span> <span style=\"color: #00ff00; text-decoration-color: #00ff00; font-style: italic\">True</span>  <span style=\"color: #00ff00; text-decoration-color: #00ff00; font-style: italic\">True</span> <span style=\"color: #ff0000; text-decoration-color: #ff0000; font-style: italic\">False</span> <span style=\"color: #ff0000; text-decoration-color: #ff0000; font-style: italic\">False</span>  <span style=\"color: #00ff00; text-decoration-color: #00ff00; font-style: italic\">True</span><span style=\"font-weight: bold\">]</span>\n",
       " <span style=\"font-weight: bold\">[</span> <span style=\"color: #00ff00; text-decoration-color: #00ff00; font-style: italic\">True</span>  <span style=\"color: #00ff00; text-decoration-color: #00ff00; font-style: italic\">True</span>  <span style=\"color: #00ff00; text-decoration-color: #00ff00; font-style: italic\">True</span> <span style=\"color: #ff0000; text-decoration-color: #ff0000; font-style: italic\">False</span>  <span style=\"color: #00ff00; text-decoration-color: #00ff00; font-style: italic\">True</span><span style=\"font-weight: bold\">]</span>\n",
       " <span style=\"font-weight: bold\">[</span> <span style=\"color: #00ff00; text-decoration-color: #00ff00; font-style: italic\">True</span>  <span style=\"color: #00ff00; text-decoration-color: #00ff00; font-style: italic\">True</span>  <span style=\"color: #00ff00; text-decoration-color: #00ff00; font-style: italic\">True</span>  <span style=\"color: #00ff00; text-decoration-color: #00ff00; font-style: italic\">True</span>  <span style=\"color: #00ff00; text-decoration-color: #00ff00; font-style: italic\">True</span><span style=\"font-weight: bold\">]</span>\n",
       " <span style=\"font-weight: bold\">[</span><span style=\"color: #ff0000; text-decoration-color: #ff0000; font-style: italic\">False</span>  <span style=\"color: #00ff00; text-decoration-color: #00ff00; font-style: italic\">True</span>  <span style=\"color: #00ff00; text-decoration-color: #00ff00; font-style: italic\">True</span>  <span style=\"color: #00ff00; text-decoration-color: #00ff00; font-style: italic\">True</span> <span style=\"color: #ff0000; text-decoration-color: #ff0000; font-style: italic\">False</span><span style=\"font-weight: bold\">]]</span>\n",
       "</pre>\n"
      ],
      "text/plain": [
       "\u001b[1m[\u001b[0m\u001b[1m[\u001b[0m \u001b[3;92mTrue\u001b[0m  \u001b[3;92mTrue\u001b[0m \u001b[3;91mFalse\u001b[0m  \u001b[3;92mTrue\u001b[0m  \u001b[3;92mTrue\u001b[0m\u001b[1m]\u001b[0m\n",
       " \u001b[1m[\u001b[0m\u001b[3;91mFalse\u001b[0m  \u001b[3;92mTrue\u001b[0m  \u001b[3;92mTrue\u001b[0m \u001b[3;91mFalse\u001b[0m  \u001b[3;92mTrue\u001b[0m\u001b[1m]\u001b[0m\n",
       " \u001b[1m[\u001b[0m \u001b[3;92mTrue\u001b[0m  \u001b[3;92mTrue\u001b[0m \u001b[3;91mFalse\u001b[0m \u001b[3;91mFalse\u001b[0m  \u001b[3;92mTrue\u001b[0m\u001b[1m]\u001b[0m\n",
       " \u001b[1m[\u001b[0m \u001b[3;92mTrue\u001b[0m  \u001b[3;92mTrue\u001b[0m  \u001b[3;92mTrue\u001b[0m \u001b[3;91mFalse\u001b[0m  \u001b[3;92mTrue\u001b[0m\u001b[1m]\u001b[0m\n",
       " \u001b[1m[\u001b[0m \u001b[3;92mTrue\u001b[0m  \u001b[3;92mTrue\u001b[0m  \u001b[3;92mTrue\u001b[0m  \u001b[3;92mTrue\u001b[0m  \u001b[3;92mTrue\u001b[0m\u001b[1m]\u001b[0m\n",
       " \u001b[1m[\u001b[0m\u001b[3;91mFalse\u001b[0m  \u001b[3;92mTrue\u001b[0m  \u001b[3;92mTrue\u001b[0m  \u001b[3;92mTrue\u001b[0m \u001b[3;91mFalse\u001b[0m\u001b[1m]\u001b[0m\u001b[1m]\u001b[0m\n"
      ]
     },
     "metadata": {},
     "output_type": "display_data"
    },
    {
     "data": {
      "text/html": [
       "<pre style=\"white-space:pre;overflow-x:auto;line-height:normal;font-family:Menlo,'DejaVu Sans Mono',consolas,'Courier New',monospace\"><span style=\"font-weight: bold\">[[</span> <span style=\"color: #00ff00; text-decoration-color: #00ff00; font-style: italic\">True</span> <span style=\"color: #ff0000; text-decoration-color: #ff0000; font-style: italic\">False</span>  <span style=\"color: #00ff00; text-decoration-color: #00ff00; font-style: italic\">True</span>  <span style=\"color: #00ff00; text-decoration-color: #00ff00; font-style: italic\">True</span>  <span style=\"color: #00ff00; text-decoration-color: #00ff00; font-style: italic\">True</span> <span style=\"color: #ff0000; text-decoration-color: #ff0000; font-style: italic\">False</span><span style=\"font-weight: bold\">]</span>\n",
       " <span style=\"font-weight: bold\">[</span> <span style=\"color: #00ff00; text-decoration-color: #00ff00; font-style: italic\">True</span>  <span style=\"color: #00ff00; text-decoration-color: #00ff00; font-style: italic\">True</span>  <span style=\"color: #00ff00; text-decoration-color: #00ff00; font-style: italic\">True</span>  <span style=\"color: #00ff00; text-decoration-color: #00ff00; font-style: italic\">True</span>  <span style=\"color: #00ff00; text-decoration-color: #00ff00; font-style: italic\">True</span>  <span style=\"color: #00ff00; text-decoration-color: #00ff00; font-style: italic\">True</span><span style=\"font-weight: bold\">]</span>\n",
       " <span style=\"font-weight: bold\">[</span><span style=\"color: #ff0000; text-decoration-color: #ff0000; font-style: italic\">False</span>  <span style=\"color: #00ff00; text-decoration-color: #00ff00; font-style: italic\">True</span> <span style=\"color: #ff0000; text-decoration-color: #ff0000; font-style: italic\">False</span>  <span style=\"color: #00ff00; text-decoration-color: #00ff00; font-style: italic\">True</span>  <span style=\"color: #00ff00; text-decoration-color: #00ff00; font-style: italic\">True</span>  <span style=\"color: #00ff00; text-decoration-color: #00ff00; font-style: italic\">True</span><span style=\"font-weight: bold\">]</span>\n",
       " <span style=\"font-weight: bold\">[</span> <span style=\"color: #00ff00; text-decoration-color: #00ff00; font-style: italic\">True</span> <span style=\"color: #ff0000; text-decoration-color: #ff0000; font-style: italic\">False</span> <span style=\"color: #ff0000; text-decoration-color: #ff0000; font-style: italic\">False</span> <span style=\"color: #ff0000; text-decoration-color: #ff0000; font-style: italic\">False</span>  <span style=\"color: #00ff00; text-decoration-color: #00ff00; font-style: italic\">True</span>  <span style=\"color: #00ff00; text-decoration-color: #00ff00; font-style: italic\">True</span><span style=\"font-weight: bold\">]</span>\n",
       " <span style=\"font-weight: bold\">[</span> <span style=\"color: #00ff00; text-decoration-color: #00ff00; font-style: italic\">True</span>  <span style=\"color: #00ff00; text-decoration-color: #00ff00; font-style: italic\">True</span>  <span style=\"color: #00ff00; text-decoration-color: #00ff00; font-style: italic\">True</span>  <span style=\"color: #00ff00; text-decoration-color: #00ff00; font-style: italic\">True</span>  <span style=\"color: #00ff00; text-decoration-color: #00ff00; font-style: italic\">True</span> <span style=\"color: #ff0000; text-decoration-color: #ff0000; font-style: italic\">False</span><span style=\"font-weight: bold\">]]</span>\n",
       "</pre>\n"
      ],
      "text/plain": [
       "\u001b[1m[\u001b[0m\u001b[1m[\u001b[0m \u001b[3;92mTrue\u001b[0m \u001b[3;91mFalse\u001b[0m  \u001b[3;92mTrue\u001b[0m  \u001b[3;92mTrue\u001b[0m  \u001b[3;92mTrue\u001b[0m \u001b[3;91mFalse\u001b[0m\u001b[1m]\u001b[0m\n",
       " \u001b[1m[\u001b[0m \u001b[3;92mTrue\u001b[0m  \u001b[3;92mTrue\u001b[0m  \u001b[3;92mTrue\u001b[0m  \u001b[3;92mTrue\u001b[0m  \u001b[3;92mTrue\u001b[0m  \u001b[3;92mTrue\u001b[0m\u001b[1m]\u001b[0m\n",
       " \u001b[1m[\u001b[0m\u001b[3;91mFalse\u001b[0m  \u001b[3;92mTrue\u001b[0m \u001b[3;91mFalse\u001b[0m  \u001b[3;92mTrue\u001b[0m  \u001b[3;92mTrue\u001b[0m  \u001b[3;92mTrue\u001b[0m\u001b[1m]\u001b[0m\n",
       " \u001b[1m[\u001b[0m \u001b[3;92mTrue\u001b[0m \u001b[3;91mFalse\u001b[0m \u001b[3;91mFalse\u001b[0m \u001b[3;91mFalse\u001b[0m  \u001b[3;92mTrue\u001b[0m  \u001b[3;92mTrue\u001b[0m\u001b[1m]\u001b[0m\n",
       " \u001b[1m[\u001b[0m \u001b[3;92mTrue\u001b[0m  \u001b[3;92mTrue\u001b[0m  \u001b[3;92mTrue\u001b[0m  \u001b[3;92mTrue\u001b[0m  \u001b[3;92mTrue\u001b[0m \u001b[3;91mFalse\u001b[0m\u001b[1m]\u001b[0m\u001b[1m]\u001b[0m\n"
      ]
     },
     "metadata": {},
     "output_type": "display_data"
    }
   ],
   "source": [
    "# Raw access to the datasets\n",
    "print(zaki_dataset._binary_dataset)\n",
    "\n",
    "print(zaki_dataset._transposed_binary_dataset)"
   ]
  },
  {
   "cell_type": "code",
   "execution_count": 26,
   "metadata": {},
   "outputs": [
    {
     "data": {
      "text/html": [
       "<pre style=\"white-space:pre;overflow-x:auto;line-height:normal;font-family:Menlo,'DejaVu Sans Mono',consolas,'Courier New',monospace\">Shape: <span style=\"font-weight: bold\">(</span><span style=\"color: #008080; text-decoration-color: #008080; font-weight: bold\">6</span>, <span style=\"color: #008080; text-decoration-color: #008080; font-weight: bold\">5</span><span style=\"font-weight: bold\">)</span>\n",
       "</pre>\n"
      ],
      "text/plain": [
       "Shape: \u001b[1m(\u001b[0m\u001b[1;36m6\u001b[0m, \u001b[1;36m5\u001b[0m\u001b[1m)\u001b[0m\n"
      ]
     },
     "metadata": {},
     "output_type": "display_data"
    }
   ],
   "source": [
    "# Access shape as in numpy arrays\n",
    "print(f\"Shape: {zaki_dataset.shape}\")"
   ]
  },
  {
   "cell_type": "code",
   "execution_count": 28,
   "metadata": {},
   "outputs": [
    {
     "data": {
      "text/html": [
       "<pre style=\"white-space:pre;overflow-x:auto;line-height:normal;font-family:Menlo,'DejaVu Sans Mono',consolas,'Courier New',monospace\">Dataset Rows: <span style=\"font-weight: bold\">[</span><span style=\"color: #008080; text-decoration-color: #008080; font-weight: bold\">0</span> <span style=\"color: #008080; text-decoration-color: #008080; font-weight: bold\">1</span> <span style=\"color: #008080; text-decoration-color: #008080; font-weight: bold\">2</span> <span style=\"color: #008080; text-decoration-color: #008080; font-weight: bold\">3</span> <span style=\"color: #008080; text-decoration-color: #008080; font-weight: bold\">4</span> <span style=\"color: #008080; text-decoration-color: #008080; font-weight: bold\">5</span><span style=\"font-weight: bold\">]</span>\n",
       "</pre>\n"
      ],
      "text/plain": [
       "Dataset Rows: \u001b[1m[\u001b[0m\u001b[1;36m0\u001b[0m \u001b[1;36m1\u001b[0m \u001b[1;36m2\u001b[0m \u001b[1;36m3\u001b[0m \u001b[1;36m4\u001b[0m \u001b[1;36m5\u001b[0m\u001b[1m]\u001b[0m\n"
      ]
     },
     "metadata": {},
     "output_type": "display_data"
    },
    {
     "data": {
      "text/html": [
       "<pre style=\"white-space:pre;overflow-x:auto;line-height:normal;font-family:Menlo,'DejaVu Sans Mono',consolas,'Courier New',monospace\">Dataset Columns: <span style=\"font-weight: bold\">[</span><span style=\"color: #008080; text-decoration-color: #008080; font-weight: bold\">0</span> <span style=\"color: #008080; text-decoration-color: #008080; font-weight: bold\">1</span> <span style=\"color: #008080; text-decoration-color: #008080; font-weight: bold\">2</span> <span style=\"color: #008080; text-decoration-color: #008080; font-weight: bold\">3</span> <span style=\"color: #008080; text-decoration-color: #008080; font-weight: bold\">4</span><span style=\"font-weight: bold\">]</span>\n",
       "</pre>\n"
      ],
      "text/plain": [
       "Dataset Columns: \u001b[1m[\u001b[0m\u001b[1;36m0\u001b[0m \u001b[1;36m1\u001b[0m \u001b[1;36m2\u001b[0m \u001b[1;36m3\u001b[0m \u001b[1;36m4\u001b[0m\u001b[1m]\u001b[0m\n"
      ]
     },
     "metadata": {},
     "output_type": "display_data"
    }
   ],
   "source": [
    "# Access the sets of rows and columns\n",
    "print(f\"Dataset Rows: {zaki_dataset.X}\")\n",
    "\n",
    "print(f\"Dataset Columns: {zaki_dataset.Y}\")"
   ]
  },
  {
   "cell_type": "code",
   "execution_count": 32,
   "metadata": {},
   "outputs": [
    {
     "data": {
      "text/html": [
       "<pre style=\"white-space:pre;overflow-x:auto;line-height:normal;font-family:Menlo,'DejaVu Sans Mono',consolas,'Courier New',monospace\"><span style=\"color: #800080; text-decoration-color: #800080; font-weight: bold\">i</span><span style=\"font-weight: bold\">([</span><span style=\"color: #008080; text-decoration-color: #008080; font-weight: bold\">0</span><span style=\"font-weight: bold\">])</span> = <span style=\"font-weight: bold\">[</span><span style=\"color: #008080; text-decoration-color: #008080; font-weight: bold\">0</span> <span style=\"color: #008080; text-decoration-color: #008080; font-weight: bold\">1</span> <span style=\"color: #008080; text-decoration-color: #008080; font-weight: bold\">3</span> <span style=\"color: #008080; text-decoration-color: #008080; font-weight: bold\">4</span><span style=\"font-weight: bold\">]</span>\n",
       "</pre>\n"
      ],
      "text/plain": [
       "\u001b[1;35mi\u001b[0m\u001b[1m(\u001b[0m\u001b[1m[\u001b[0m\u001b[1;36m0\u001b[0m\u001b[1m]\u001b[0m\u001b[1m)\u001b[0m = \u001b[1m[\u001b[0m\u001b[1;36m0\u001b[0m \u001b[1;36m1\u001b[0m \u001b[1;36m3\u001b[0m \u001b[1;36m4\u001b[0m\u001b[1m]\u001b[0m\n"
      ]
     },
     "metadata": {},
     "output_type": "display_data"
    },
    {
     "data": {
      "text/html": [
       "<pre style=\"white-space:pre;overflow-x:auto;line-height:normal;font-family:Menlo,'DejaVu Sans Mono',consolas,'Courier New',monospace\"><span style=\"color: #800080; text-decoration-color: #800080; font-weight: bold\">i</span><span style=\"font-weight: bold\">([</span><span style=\"color: #008080; text-decoration-color: #008080; font-weight: bold\">5</span><span style=\"font-weight: bold\">])</span> = <span style=\"font-weight: bold\">[</span><span style=\"color: #008080; text-decoration-color: #008080; font-weight: bold\">1</span> <span style=\"color: #008080; text-decoration-color: #008080; font-weight: bold\">2</span> <span style=\"color: #008080; text-decoration-color: #008080; font-weight: bold\">3</span><span style=\"font-weight: bold\">]</span>\n",
       "</pre>\n"
      ],
      "text/plain": [
       "\u001b[1;35mi\u001b[0m\u001b[1m(\u001b[0m\u001b[1m[\u001b[0m\u001b[1;36m5\u001b[0m\u001b[1m]\u001b[0m\u001b[1m)\u001b[0m = \u001b[1m[\u001b[0m\u001b[1;36m1\u001b[0m \u001b[1;36m2\u001b[0m \u001b[1;36m3\u001b[0m\u001b[1m]\u001b[0m\n"
      ]
     },
     "metadata": {},
     "output_type": "display_data"
    },
    {
     "data": {
      "text/html": [
       "<pre style=\"white-space:pre;overflow-x:auto;line-height:normal;font-family:Menlo,'DejaVu Sans Mono',consolas,'Courier New',monospace\"><span style=\"color: #800080; text-decoration-color: #800080; font-weight: bold\">i</span><span style=\"font-weight: bold\">([</span><span style=\"color: #008080; text-decoration-color: #008080; font-weight: bold\">1</span> <span style=\"color: #008080; text-decoration-color: #008080; font-weight: bold\">2</span> <span style=\"color: #008080; text-decoration-color: #008080; font-weight: bold\">4</span><span style=\"font-weight: bold\">])</span> = <span style=\"font-weight: bold\">[</span><span style=\"color: #008080; text-decoration-color: #008080; font-weight: bold\">1</span> <span style=\"color: #008080; text-decoration-color: #008080; font-weight: bold\">4</span><span style=\"font-weight: bold\">]</span>\n",
       "</pre>\n"
      ],
      "text/plain": [
       "\u001b[1;35mi\u001b[0m\u001b[1m(\u001b[0m\u001b[1m[\u001b[0m\u001b[1;36m1\u001b[0m \u001b[1;36m2\u001b[0m \u001b[1;36m4\u001b[0m\u001b[1m]\u001b[0m\u001b[1m)\u001b[0m = \u001b[1m[\u001b[0m\u001b[1;36m1\u001b[0m \u001b[1;36m4\u001b[0m\u001b[1m]\u001b[0m\n"
      ]
     },
     "metadata": {},
     "output_type": "display_data"
    },
    {
     "data": {
      "text/html": [
       "<pre style=\"white-space:pre;overflow-x:auto;line-height:normal;font-family:Menlo,'DejaVu Sans Mono',consolas,'Courier New',monospace\"><span style=\"color: #800080; text-decoration-color: #800080; font-weight: bold\">i</span><span style=\"font-weight: bold\">([</span><span style=\"color: #008080; text-decoration-color: #008080; font-weight: bold\">0</span> <span style=\"color: #008080; text-decoration-color: #008080; font-weight: bold\">1</span> <span style=\"color: #008080; text-decoration-color: #008080; font-weight: bold\">2</span> <span style=\"color: #008080; text-decoration-color: #008080; font-weight: bold\">3</span> <span style=\"color: #008080; text-decoration-color: #008080; font-weight: bold\">4</span><span style=\"font-weight: bold\">])</span> = <span style=\"font-weight: bold\">[</span><span style=\"color: #008080; text-decoration-color: #008080; font-weight: bold\">1</span> <span style=\"color: #008080; text-decoration-color: #008080; font-weight: bold\">4</span><span style=\"font-weight: bold\">]</span>\n",
       "</pre>\n"
      ],
      "text/plain": [
       "\u001b[1;35mi\u001b[0m\u001b[1m(\u001b[0m\u001b[1m[\u001b[0m\u001b[1;36m0\u001b[0m \u001b[1;36m1\u001b[0m \u001b[1;36m2\u001b[0m \u001b[1;36m3\u001b[0m \u001b[1;36m4\u001b[0m\u001b[1m]\u001b[0m\u001b[1m)\u001b[0m = \u001b[1m[\u001b[0m\u001b[1;36m1\u001b[0m \u001b[1;36m4\u001b[0m\u001b[1m]\u001b[0m\n"
      ]
     },
     "metadata": {},
     "output_type": "display_data"
    }
   ],
   "source": [
    "# Compute i over dataset given tidset T\n",
    "\n",
    "T = np.array([0])\n",
    "print(f\"i({T}) = {zaki_dataset.i(T)}\")\n",
    "\n",
    "T = np.array([5])\n",
    "print(f\"i({T}) = {zaki_dataset.i(T)}\")\n",
    "\n",
    "T = np.array([1, 2, 4])\n",
    "print(f\"i({T}) = {zaki_dataset.i(T)}\")\n",
    "\n",
    "T = np.array([0, 1, 2, 3, 4])\n",
    "print(f\"i({T}) = {zaki_dataset.i(T)}\")"
   ]
  },
  {
   "cell_type": "code",
   "execution_count": 35,
   "metadata": {},
   "outputs": [
    {
     "data": {
      "text/html": [
       "<pre style=\"white-space:pre;overflow-x:auto;line-height:normal;font-family:Menlo,'DejaVu Sans Mono',consolas,'Courier New',monospace\"><span style=\"color: #800080; text-decoration-color: #800080; font-weight: bold\">t</span><span style=\"font-weight: bold\">([</span><span style=\"color: #008080; text-decoration-color: #008080; font-weight: bold\">0</span><span style=\"font-weight: bold\">])</span> = <span style=\"font-weight: bold\">[</span><span style=\"color: #008080; text-decoration-color: #008080; font-weight: bold\">0</span> <span style=\"color: #008080; text-decoration-color: #008080; font-weight: bold\">2</span> <span style=\"color: #008080; text-decoration-color: #008080; font-weight: bold\">3</span> <span style=\"color: #008080; text-decoration-color: #008080; font-weight: bold\">4</span><span style=\"font-weight: bold\">]</span>\n",
       "</pre>\n"
      ],
      "text/plain": [
       "\u001b[1;35mt\u001b[0m\u001b[1m(\u001b[0m\u001b[1m[\u001b[0m\u001b[1;36m0\u001b[0m\u001b[1m]\u001b[0m\u001b[1m)\u001b[0m = \u001b[1m[\u001b[0m\u001b[1;36m0\u001b[0m \u001b[1;36m2\u001b[0m \u001b[1;36m3\u001b[0m \u001b[1;36m4\u001b[0m\u001b[1m]\u001b[0m\n"
      ]
     },
     "metadata": {},
     "output_type": "display_data"
    },
    {
     "data": {
      "text/html": [
       "<pre style=\"white-space:pre;overflow-x:auto;line-height:normal;font-family:Menlo,'DejaVu Sans Mono',consolas,'Courier New',monospace\"><span style=\"color: #800080; text-decoration-color: #800080; font-weight: bold\">t</span><span style=\"font-weight: bold\">([</span><span style=\"color: #008080; text-decoration-color: #008080; font-weight: bold\">0</span> <span style=\"color: #008080; text-decoration-color: #008080; font-weight: bold\">4</span><span style=\"font-weight: bold\">])</span> = <span style=\"font-weight: bold\">[</span><span style=\"color: #008080; text-decoration-color: #008080; font-weight: bold\">0</span> <span style=\"color: #008080; text-decoration-color: #008080; font-weight: bold\">2</span> <span style=\"color: #008080; text-decoration-color: #008080; font-weight: bold\">3</span> <span style=\"color: #008080; text-decoration-color: #008080; font-weight: bold\">4</span><span style=\"font-weight: bold\">]</span>\n",
       "</pre>\n"
      ],
      "text/plain": [
       "\u001b[1;35mt\u001b[0m\u001b[1m(\u001b[0m\u001b[1m[\u001b[0m\u001b[1;36m0\u001b[0m \u001b[1;36m4\u001b[0m\u001b[1m]\u001b[0m\u001b[1m)\u001b[0m = \u001b[1m[\u001b[0m\u001b[1;36m0\u001b[0m \u001b[1;36m2\u001b[0m \u001b[1;36m3\u001b[0m \u001b[1;36m4\u001b[0m\u001b[1m]\u001b[0m\n"
      ]
     },
     "metadata": {},
     "output_type": "display_data"
    },
    {
     "data": {
      "text/html": [
       "<pre style=\"white-space:pre;overflow-x:auto;line-height:normal;font-family:Menlo,'DejaVu Sans Mono',consolas,'Courier New',monospace\"><span style=\"color: #800080; text-decoration-color: #800080; font-weight: bold\">t</span><span style=\"font-weight: bold\">([</span><span style=\"color: #008080; text-decoration-color: #008080; font-weight: bold\">0</span> <span style=\"color: #008080; text-decoration-color: #008080; font-weight: bold\">2</span> <span style=\"color: #008080; text-decoration-color: #008080; font-weight: bold\">3</span><span style=\"font-weight: bold\">])</span> = <span style=\"font-weight: bold\">[</span><span style=\"color: #008080; text-decoration-color: #008080; font-weight: bold\">4</span><span style=\"font-weight: bold\">]</span>\n",
       "</pre>\n"
      ],
      "text/plain": [
       "\u001b[1;35mt\u001b[0m\u001b[1m(\u001b[0m\u001b[1m[\u001b[0m\u001b[1;36m0\u001b[0m \u001b[1;36m2\u001b[0m \u001b[1;36m3\u001b[0m\u001b[1m]\u001b[0m\u001b[1m)\u001b[0m = \u001b[1m[\u001b[0m\u001b[1;36m4\u001b[0m\u001b[1m]\u001b[0m\n"
      ]
     },
     "metadata": {},
     "output_type": "display_data"
    },
    {
     "data": {
      "text/html": [
       "<pre style=\"white-space:pre;overflow-x:auto;line-height:normal;font-family:Menlo,'DejaVu Sans Mono',consolas,'Courier New',monospace\"><span style=\"color: #800080; text-decoration-color: #800080; font-weight: bold\">t</span><span style=\"font-weight: bold\">([</span><span style=\"color: #008080; text-decoration-color: #008080; font-weight: bold\">0</span> <span style=\"color: #008080; text-decoration-color: #008080; font-weight: bold\">1</span> <span style=\"color: #008080; text-decoration-color: #008080; font-weight: bold\">2</span> <span style=\"color: #008080; text-decoration-color: #008080; font-weight: bold\">4</span><span style=\"font-weight: bold\">])</span> = <span style=\"font-weight: bold\">[</span><span style=\"color: #008080; text-decoration-color: #008080; font-weight: bold\">3</span> <span style=\"color: #008080; text-decoration-color: #008080; font-weight: bold\">4</span><span style=\"font-weight: bold\">]</span>\n",
       "</pre>\n"
      ],
      "text/plain": [
       "\u001b[1;35mt\u001b[0m\u001b[1m(\u001b[0m\u001b[1m[\u001b[0m\u001b[1;36m0\u001b[0m \u001b[1;36m1\u001b[0m \u001b[1;36m2\u001b[0m \u001b[1;36m4\u001b[0m\u001b[1m]\u001b[0m\u001b[1m)\u001b[0m = \u001b[1m[\u001b[0m\u001b[1;36m3\u001b[0m \u001b[1;36m4\u001b[0m\u001b[1m]\u001b[0m\n"
      ]
     },
     "metadata": {},
     "output_type": "display_data"
    }
   ],
   "source": [
    "# Compute t over dataset given itemset X\n",
    "\n",
    "X = np.array([0])\n",
    "print(f\"t({X}) = {zaki_dataset.t(X)}\")\n",
    "\n",
    "X = np.array([0, 4])\n",
    "print(f\"t({X}) = {zaki_dataset.t(X)}\")\n",
    "\n",
    "X = np.array([0, 2, 3])\n",
    "print(f\"t({X}) = {zaki_dataset.t(X)}\")\n",
    "\n",
    "X = np.array([0, 1, 2, 4])\n",
    "print(f\"t({X}) = {zaki_dataset.t(X)}\")"
   ]
  }
 ],
 "metadata": {
  "kernelspec": {
   "display_name": "binaps",
   "language": "python",
   "name": "binaps"
  },
  "language_info": {
   "codemirror_mode": {
    "name": "ipython",
    "version": 3
   },
   "file_extension": ".py",
   "mimetype": "text/x-python",
   "name": "python",
   "nbconvert_exporter": "python",
   "pygments_lexer": "ipython3",
   "version": "3.8.10"
  },
  "orig_nbformat": 4,
  "vscode": {
   "interpreter": {
    "hash": "31f2aee4e71d21fbe5cf8b01ff0e069b9275f58929596ceb00d14d90e3e16cd6"
   }
  }
 },
 "nbformat": 4,
 "nbformat_minor": 2
}
