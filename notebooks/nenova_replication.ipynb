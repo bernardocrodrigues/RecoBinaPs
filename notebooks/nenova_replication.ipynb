{
 "cells": [
  {
   "cell_type": "code",
   "execution_count": 1,
   "metadata": {},
   "outputs": [],
   "source": [
    "import numpy as np\n",
    "import pandas as pd\n",
    "from surprise import Dataset\n",
    "from lib.BooleanMatrixBasedRecomenders import FcaBmf, cosine_distance\n",
    "\n",
    "from rich.jupyter import print"
   ]
  },
  {
   "cell_type": "code",
   "execution_count": 2,
   "metadata": {},
   "outputs": [
    {
     "name": "stdout",
     "output_type": "stream",
     "text": [
      "Dataset ml-100k could not be found. Do you want to download it? [Y/n] Trying to download dataset from https://files.grouplens.org/datasets/movielens/ml-100k.zip...\n",
      "Done! Dataset ml-100k has been saved to /home/brodrigues/.surprise_data/ml-100k\n"
     ]
    }
   ],
   "source": [
    "# Create a trainset from the complemte MovieLens 100K dataset\n",
    "dataset = Dataset.load_builtin(\"ml-100k\")\n",
    "trainset = dataset.build_full_trainset()"
   ]
  },
  {
   "cell_type": "code",
   "execution_count": null,
   "metadata": {},
   "outputs": [],
   "source": [
    "results = []\n",
    "\n",
    "for coverage in [1.0, 0.8, 0.6]:\n",
    "    algo = FcaBmf(coverage=coverage, distance_strategy=cosine_distance, verbose=True)\n",
    "    algo.fit(trainset)\n",
    "\n",
    "    result = []\n",
    "\n",
    "    result = algo.actual_coverage)\n",
    "    result = algo.number_of_factors)\n",
    "    results.append(result)\n",
    "\n"
   ]
  },
  {
   "cell_type": "code",
   "execution_count": 4,
   "metadata": {},
   "outputs": [
    {
     "data": {
      "text/html": [
       "<div>\n",
       "<style scoped>\n",
       "    .dataframe tbody tr th:only-of-type {\n",
       "        vertical-align: middle;\n",
       "    }\n",
       "\n",
       "    .dataframe tbody tr th {\n",
       "        vertical-align: top;\n",
       "    }\n",
       "\n",
       "    .dataframe thead th {\n",
       "        text-align: right;\n",
       "    }\n",
       "</style>\n",
       "<table border=\"1\" class=\"dataframe\">\n",
       "  <thead>\n",
       "    <tr style=\"text-align: right;\">\n",
       "      <th></th>\n",
       "      <th>Actual Coverage</th>\n",
       "      <th>Number of factors</th>\n",
       "    </tr>\n",
       "  </thead>\n",
       "  <tbody>\n",
       "    <tr>\n",
       "      <th>100%</th>\n",
       "      <td>NaN</td>\n",
       "      <td>NaN</td>\n",
       "    </tr>\n",
       "    <tr>\n",
       "      <th>80%</th>\n",
       "      <td>NaN</td>\n",
       "      <td>NaN</td>\n",
       "    </tr>\n",
       "    <tr>\n",
       "      <th>60%</th>\n",
       "      <td>NaN</td>\n",
       "      <td>NaN</td>\n",
       "    </tr>\n",
       "  </tbody>\n",
       "</table>\n",
       "</div>"
      ],
      "text/plain": [
       "     Actual Coverage Number of factors\n",
       "100%             NaN               NaN\n",
       "80%              NaN               NaN\n",
       "60%              NaN               NaN"
      ]
     },
     "execution_count": 4,
     "metadata": {},
     "output_type": "execute_result"
    }
   ],
   "source": [
    "pd.DataFrame(results, columns=['Actual Coverage', \"Number of factors\"], index=[\"100%\", \"80%\", \"60%\"])"
   ]
  },
  {
   "cell_type": "code",
   "execution_count": 3,
   "metadata": {},
   "outputs": [],
   "source": [
    "import itertools\n",
    "from surprise.model_selection import KFold\n",
    "\n",
    "kf = KFold(n_splits=5)\n",
    "# trainset, testset = next(kf.split(dataset))\n",
    "\n",
    "data = []\n",
    "for trainset, testset in kf.split(dataset):\n",
    "    data.append((trainset, testset))\n",
    "\n",
    "coverages = [1.0, 0.8, 0.6]\n",
    "ks = [1, 5, 10, 20, 30, 40 ,50 , 60]\n",
    "\n",
    "thread_args = [d for d in itertools.product(coverages, ks, data)]"
   ]
  },
  {
   "cell_type": "code",
   "execution_count": 10,
   "metadata": {},
   "outputs": [],
   "source": [
    "kf = KFold(n_splits=5)\n",
    "trainset, testset = next(kf.split(dataset))\n",
    "\n",
    "algo = FcaBmf(coverage=1.0, distance_strategy=cosine_distance, k=30)\n",
    "algo.fit(trainset)\n",
    "predictions = algo.test(testset)\n"
   ]
  },
  {
   "cell_type": "code",
   "execution_count": 54,
   "metadata": {},
   "outputs": [],
   "source": [
    "import statistics\n",
    "from collections import defaultdict\n",
    "\n",
    "def get_global_precision(predictions, relevance_threshold = 1):\n",
    "    \"\"\"\n",
    "    Returns the global precision, or micro-averaged precision, from a predictions list.\n",
    "\n",
    "    Precision is defined as the fraction of relevant instances among the retrieved instances. In recommender systems,\n",
    "    it measures the fraction of items that are liked by the user among the items that are recommended by the system.\n",
    "    \n",
    "    Precision = True Positives / (True Positives + False Positives)\n",
    "\n",
    "    For example, if you have a recommender system that suggests movies to a user, and you have 100 movies in total,\n",
    "    10 of which are liked by the user. If your system recommends 8 movies to the user, 4 of which are liked by the user\n",
    "    (true positives), but also 4 of which are disliked by the user (false positives), then your precision is 4 / (4 + 4)\n",
    "    = 0.5. This means that 50% of the movies that your system recommended were actually liked by the user.\n",
    "    \n",
    "    Global precision gives equal weight to each item, regardless of which user rated or was recommended it.\n",
    "    \"\"\"\n",
    "\n",
    "    def is_relevant(measure):\n",
    "        return measure >= relevance_threshold\n",
    "\n",
    "    true_positives = 0\n",
    "    false_positives = 0\n",
    "\n",
    "    for _, _, true_rating, estimate, _ in predictions:\n",
    "\n",
    "        if is_relevant(estimate):\n",
    "            if is_relevant(true_rating):\n",
    "                true_positives += 1\n",
    "            else:\n",
    "                false_positives += 1\n",
    "\n",
    "    return true_positives / (true_positives + false_positives)\n",
    "\n",
    "\n",
    "def get_user_averaged_precision(predictions, relevance_threshold = 1):\n",
    "\n",
    "    def is_relevant(measure):\n",
    "        return measure >= relevance_threshold\n",
    "\n",
    "    precisions = []\n",
    "    ratings_per_user = defaultdict(list)\n",
    "    for user_id, _, true_rating, estimate, _ in predictions:\n",
    "        ratings_per_user[user_id].append((estimate, true_rating))\n",
    "\n",
    "    for _, user_ratings in ratings_per_user.items():\n",
    "        \n",
    "        true_positives = 0\n",
    "        false_positives = 0\n",
    "\n",
    "        for (estimate, true_rating) in user_ratings:\n",
    "        \n",
    "            if is_relevant(estimate):\n",
    "                if is_relevant(true_rating):\n",
    "                    true_positives += 1\n",
    "                else:\n",
    "                    false_positives += 1\n",
    "\n",
    "        try:\n",
    "            precision = true_positives / (true_positives + false_positives)\n",
    "        except ZeroDivisionError:\n",
    "            pass\n",
    "        else:\n",
    "            precisions.append(precision)\n",
    "\n",
    "    return statistics.mean(precisions)\n",
    "\n",
    "\n",
    "def get_precision_at_k(predictions, relevance_threshold = 1, k = 20):\n",
    "\n",
    "    def is_relevant(measure):\n",
    "        return measure >= relevance_threshold\n",
    "\n",
    "    precisions = []\n",
    "    ratings_per_user = defaultdict(list)\n",
    "    for user_id, _, true_rating, estimate, _ in predictions:\n",
    "        ratings_per_user[user_id].append((estimate, true_rating))\n",
    "\n",
    "    for _, user_ratings in ratings_per_user.items():\n",
    "        \n",
    "        relevant_itens_in_the_top_k = 0\n",
    "\n",
    "        user_ratings.sort(key=lambda x: x[0], reverse=True)\n",
    "\n",
    "        for (estimate, true_rating) in user_ratings[:k]:\n",
    "            if is_relevant(true_rating):\n",
    "                relevant_itens_in_the_top_k += 1\n",
    "\n",
    "        precisions.append(relevant_itens_in_the_top_k/k)\n",
    "            \n",
    "    return statistics.mean(precisions)\n",
    "\n",
    "\n",
    "def get_global_recall(predictions, relevance_threshold = 1):\n",
    "    \"\"\"\n",
    "    Returns the recall from a predictions list.\n",
    "\n",
    "    Recall is defined as the fraction of relevant instances that were retrieved. In recommender systems,\n",
    "    it measures the fraction of items that are liked by the user among all the items that are available.\n",
    "    \n",
    "    Recall = True Positives / (True Positives + False Negatives)\n",
    "\n",
    "    For example, if you have a recommender system that suggests movies to a user, and you have 100 movies in total,\n",
    "    10 of which are liked by the user. If your system misses 6 movies that are liked by the user (false negatives), then\n",
    "    your recall is 4 / (4 + 6) = 0.4. This means that 40% of the movies that are actually liked by the user were\n",
    "    recommended by your system.\n",
    "    \n",
    "    \"\"\"\n",
    "\n",
    "    def is_relevant(measure):\n",
    "        return measure >= relevance_threshold\n",
    "\n",
    "    true_positives = 0\n",
    "    false_negatives = 0\n",
    "\n",
    "    for _, _, true_rating, estimate, _ in predictions:\n",
    "\n",
    "        if is_relevant(estimate):\n",
    "            if is_relevant(true_rating):\n",
    "                true_positives += 1\n",
    "        else:\n",
    "            if is_relevant(true_rating):\n",
    "                false_negatives += 1\n",
    "\n",
    "    return true_positives / (true_positives + false_negatives)\n",
    "\n",
    "\n",
    "def get_user_averaged_recall(predictions, relevance_threshold = 1):\n",
    "\n",
    "    def is_relevant(measure):\n",
    "        return measure >= relevance_threshold\n",
    "\n",
    "    recalls = []\n",
    "    ratings_per_user = defaultdict(list)\n",
    "    for user_id, _, true_rating, estimate, _ in predictions:\n",
    "        ratings_per_user[user_id].append((estimate, true_rating))\n",
    "\n",
    "    for _, user_ratings in ratings_per_user.items():\n",
    "        \n",
    "        true_positives = 0\n",
    "        false_negatives = 0\n",
    "\n",
    "        for (estimate, true_rating) in user_ratings:\n",
    "        \n",
    "            if is_relevant(estimate):\n",
    "                if is_relevant(true_rating):\n",
    "                    true_positives += 1\n",
    "            else:\n",
    "                if is_relevant(true_rating):\n",
    "                    false_negatives += 1\n",
    "        try:\n",
    "            recall = true_positives / (true_positives + false_negatives)\n",
    "        except ZeroDivisionError:\n",
    "            pass\n",
    "        else:\n",
    "            recalls.append(recall)\n",
    "\n",
    "    return statistics.mean(recalls)\n",
    "\n",
    "\n",
    "def get_recall_at_k(predictions, relevance_threshold = 1, k = 20):\n",
    "\n",
    "    def is_relevant(measure):\n",
    "        return measure >= relevance_threshold\n",
    "\n",
    "    recalls = []\n",
    "    ratings_per_user = defaultdict(list)\n",
    "    for user_id, _, true_rating, estimate, _ in predictions:\n",
    "        ratings_per_user[user_id].append((estimate, true_rating))\n",
    "\n",
    "    for _, user_ratings in ratings_per_user.items():\n",
    "        \n",
    "        relevant_itens_in_the_top_k = 0\n",
    "        total_relevant_itens = 0\n",
    "\n",
    "        user_ratings.sort(key=lambda x: x[0], reverse=True)\n",
    "\n",
    "        for (estimate, true_rating) in user_ratings[:k]:\n",
    "            if is_relevant(true_rating):\n",
    "                relevant_itens_in_the_top_k += 1\n",
    "\n",
    "        for (estimate, true_rating) in user_ratings:\n",
    "            if is_relevant(true_rating):\n",
    "                total_relevant_itens += 1\n",
    "        try:\n",
    "            recalls.append(relevant_itens_in_the_top_k/total_relevant_itens)\n",
    "        except ZeroDivisionError:\n",
    "            pass\n",
    "            \n",
    "    return statistics.mean(recalls)\n",
    "\n",
    "\n",
    "# print(get_precision_at_k(predictions = predictions, relevance_threshold = 5, k = 20))\n",
    "# print(get_user_averaged_precision(predictions=predictions, relevance_threshold=3))\n",
    "# print(get_global_precision(predictions=predictions, relevance_threshold=3))\n",
    "# print(get_global_recall(predictions=predictions, relevance_threshold=3))\n"
   ]
  },
  {
   "cell_type": "code",
   "execution_count": 14,
   "metadata": {},
   "outputs": [],
   "source": [
    "from surprise.accuracy import mae, rmse\n",
    "\n",
    "def work(coverage, k, dataset_tuple):\n",
    "\n",
    "    result = {}\n",
    "\n",
    "    (trainset, testset) = dataset_tuple\n",
    "    \n",
    "    algo = FcaBmf(coverage=coverage, distance_strategy=cosine_distance, k=k)\n",
    "    algo.fit(trainset)\n",
    "    predictions = algo.test(testset)\n",
    "\n",
    "    result['predictions'] = predictions\n",
    "\n",
    "    result['actual_coverage'] = algo.actual_coverage\n",
    "    result['number_of_factors'] = algo.number_of_factors\n",
    "\n",
    "    return coverage, k, result"
   ]
  },
  {
   "cell_type": "code",
   "execution_count": 15,
   "metadata": {},
   "outputs": [
    {
     "name": "stderr",
     "output_type": "stream",
     "text": [
      "/usr/local/lib/python3.8/dist-packages/scipy/spatial/distance.py:620: RuntimeWarning: invalid value encountered in double_scalars\n",
      "  dist = 1.0 - uv / np.sqrt(uu * vv)\n",
      "/usr/local/lib/python3.8/dist-packages/scipy/spatial/distance.py:620: RuntimeWarning: invalid value encountered in double_scalars\n",
      "  dist = 1.0 - uv / np.sqrt(uu * vv)\n",
      "/usr/local/lib/python3.8/dist-packages/scipy/spatial/distance.py:620: RuntimeWarning: invalid value encountered in double_scalars\n",
      "  dist = 1.0 - uv / np.sqrt(uu * vv)\n",
      "/usr/local/lib/python3.8/dist-packages/scipy/spatial/distance.py:620: RuntimeWarning: invalid value encountered in double_scalars\n",
      "  dist = 1.0 - uv / np.sqrt(uu * vv)\n",
      "/usr/local/lib/python3.8/dist-packages/scipy/spatial/distance.py:620: RuntimeWarning: invalid value encountered in double_scalars\n",
      "  dist = 1.0 - uv / np.sqrt(uu * vv)\n",
      "/usr/local/lib/python3.8/dist-packages/scipy/spatial/distance.py:620: RuntimeWarning: invalid value encountered in double_scalars\n",
      "  dist = 1.0 - uv / np.sqrt(uu * vv)\n",
      "/usr/local/lib/python3.8/dist-packages/scipy/spatial/distance.py:620: RuntimeWarning: invalid value encountered in double_scalars\n",
      "  dist = 1.0 - uv / np.sqrt(uu * vv)\n",
      "/usr/local/lib/python3.8/dist-packages/scipy/spatial/distance.py:620: RuntimeWarning: invalid value encountered in double_scalars\n",
      "  dist = 1.0 - uv / np.sqrt(uu * vv)\n",
      "/usr/local/lib/python3.8/dist-packages/scipy/spatial/distance.py:620: RuntimeWarning: invalid value encountered in double_scalars\n",
      "  dist = 1.0 - uv / np.sqrt(uu * vv)\n",
      "/usr/local/lib/python3.8/dist-packages/scipy/spatial/distance.py:620: RuntimeWarning: invalid value encountered in double_scalars\n",
      "  dist = 1.0 - uv / np.sqrt(uu * vv)\n",
      "/usr/local/lib/python3.8/dist-packages/scipy/spatial/distance.py:620: RuntimeWarning: invalid value encountered in double_scalars\n",
      "  dist = 1.0 - uv / np.sqrt(uu * vv)\n",
      "/usr/local/lib/python3.8/dist-packages/scipy/spatial/distance.py:620: RuntimeWarning: invalid value encountered in double_scalars\n",
      "  dist = 1.0 - uv / np.sqrt(uu * vv)\n",
      "/usr/local/lib/python3.8/dist-packages/scipy/spatial/distance.py:620: RuntimeWarning: invalid value encountered in double_scalars\n",
      "  dist = 1.0 - uv / np.sqrt(uu * vv)\n",
      "/usr/local/lib/python3.8/dist-packages/scipy/spatial/distance.py:620: RuntimeWarning: invalid value encountered in double_scalars\n",
      "  dist = 1.0 - uv / np.sqrt(uu * vv)\n"
     ]
    }
   ],
   "source": [
    "from multiprocessing import Pool\n",
    "\n",
    "with Pool(16) as pool:\n",
    "    raw_results = pool.starmap(work, iterable=thread_args)\n"
   ]
  },
  {
   "cell_type": "code",
   "execution_count": 56,
   "metadata": {},
   "outputs": [],
   "source": [
    "RELEVANCE_THRESHOLD = 5\n",
    "NUMBER_OF_TOP_RECOMMENDATIONS = 20\n",
    "\n",
    "for (coverage, k, result) in raw_results:\n",
    "    result['mae'] = mae(predictions = result['predictions'], verbose=False)\n",
    "    result['rmse'] = rmse(predictions = result['predictions'], verbose=False)\n",
    "\n",
    "    result['global_recall'] = get_global_recall(predictions = result['predictions'], relevance_threshold = RELEVANCE_THRESHOLD)\n",
    "    result['user_averaged_recall'] = get_user_averaged_recall(predictions = result['predictions'], relevance_threshold = RELEVANCE_THRESHOLD)\n",
    "    result['recall_at_k'] = get_recall_at_k(predictions = result['predictions'], relevance_threshold = RELEVANCE_THRESHOLD, k = NUMBER_OF_TOP_RECOMMENDATIONS)\n",
    "\n",
    "    result['global_precision'] = get_global_precision(predictions = result['predictions'], relevance_threshold = RELEVANCE_THRESHOLD)\n",
    "    result['user_averaged_precision'] = get_user_averaged_precision(predictions = result['predictions'], relevance_threshold = RELEVANCE_THRESHOLD)\n",
    "    result['precision_at_k'] = get_precision_at_k(predictions = result['predictions'], relevance_threshold = RELEVANCE_THRESHOLD, k = NUMBER_OF_TOP_RECOMMENDATIONS)"
   ]
  },
  {
   "cell_type": "code",
   "execution_count": 57,
   "metadata": {},
   "outputs": [],
   "source": [
    "results = {}\n",
    "\n",
    "for coverage in coverages:\n",
    "    results[coverage] = {}\n",
    "    for k in ks:\n",
    "        results[coverage][k] = defaultdict(list)\n",
    "\n",
    "for (coverage, k, result) in raw_results:\n",
    "    # print(coverage, k, result['number_of_factors'])\n",
    "\n",
    "    results[coverage][k]['actual_coverages'].append(result['actual_coverage'])\n",
    "    results[coverage][k]['numbers_of_factors'].append(result['number_of_factors'])\n",
    "\n",
    "    results[coverage][k]['maes'].append(result['mae'])\n",
    "    results[coverage][k]['rmses'].append(result['rmse'])\n",
    "\n",
    "    results[coverage][k]['global_recalls'].append(result['global_recall'])\n",
    "    results[coverage][k]['user_averaged_recalls'].append(result['user_averaged_recall'])\n",
    "    results[coverage][k]['recalls_at_k'].append(result['recall_at_k'])\n",
    "\n",
    "    results[coverage][k]['global_precisions'].append(result['global_precision'])\n",
    "    results[coverage][k]['user_averaged_precisions'].append(result['user_averaged_precision'])\n",
    "    results[coverage][k]['precisions_at_k'].append(result['precision_at_k'])\n",
    "\n",
    "    # results[coverage][k]['f1s'].append(result['f1'])\n",
    "    # results[coverage][k]['predictions_sets'].append(result['predictions'])\n"
   ]
  },
  {
   "cell_type": "code",
   "execution_count": 98,
   "metadata": {},
   "outputs": [],
   "source": [
    "import json\n",
    "\n",
    "with open('result.json', 'w') as f:\n",
    "    json.dump(results, f, indent=4)"
   ]
  },
  {
   "cell_type": "code",
   "execution_count": 58,
   "metadata": {},
   "outputs": [],
   "source": [
    "import statistics\n",
    "\n",
    "actual_coverages_curves = defaultdict(list)\n",
    "numbers_of_factors_curves = defaultdict(list)\n",
    "\n",
    "mae_curves = defaultdict(list)\n",
    "rmse_curves = defaultdict(list)\n",
    "\n",
    "global_recall_curves = defaultdict(list)\n",
    "user_averaged_recall_curves = defaultdict(list)\n",
    "recalls_at_k_curve = defaultdict(list)\n",
    "\n",
    "global_precision_curves = defaultdict(list)\n",
    "user_averaged_precision_curves = defaultdict(list)\n",
    "precisions_at_k_curve = defaultdict(list)\n",
    "\n",
    "for coverage in coverages:\n",
    "    for k in ks:\n",
    "\n",
    "        actual_coverages_curves[coverage].append(statistics.mean(results[coverage][k]['actual_coverages']))\n",
    "        numbers_of_factors_curves[coverage].append(statistics.mean(results[coverage][k]['numbers_of_factors']))\n",
    "\n",
    "        rmse_curves[coverage].append(statistics.mean(results[coverage][k]['rmses']))\n",
    "        mae_curves[coverage].append(statistics.mean(results[coverage][k]['maes']))\n",
    "\n",
    "        global_recall_curves[coverage].append(statistics.mean(results[coverage][k]['global_recalls']))\n",
    "        user_averaged_recall_curves[coverage].append(statistics.mean(results[coverage][k]['user_averaged_recalls']))\n",
    "        recalls_at_k_curve[coverage].append(statistics.mean(results[coverage][k]['recalls_at_k']))\n",
    "\n",
    "        global_precision_curves[coverage].append(statistics.mean(results[coverage][k]['global_precisions']))\n",
    "        user_averaged_precision_curves[coverage].append(statistics.mean(results[coverage][k]['user_averaged_precisions']))\n",
    "        precisions_at_k_curve[coverage].append(statistics.mean(results[coverage][k]['precisions_at_k']))\n"
   ]
  },
  {
   "cell_type": "code",
   "execution_count": 59,
   "metadata": {},
   "outputs": [
    {
     "data": {
      "application/vnd.plotly.v1+json": {
       "config": {
        "plotlyServerURL": "https://plot.ly"
       },
       "data": [
        {
         "line": {
          "color": "red"
         },
         "mode": "lines+markers",
         "name": "100.0%",
         "showlegend": true,
         "type": "scatter",
         "x": [
          1,
          5,
          10,
          20,
          30,
          40,
          50,
          60
         ],
         "xaxis": "x",
         "y": [
          1,
          1,
          1,
          1,
          1,
          1,
          1,
          1
         ],
         "yaxis": "y"
        },
        {
         "line": {
          "color": "red"
         },
         "mode": "lines+markers",
         "name": "100.0%",
         "showlegend": false,
         "type": "scatter",
         "x": [
          1,
          5,
          10,
          20,
          30,
          40,
          50,
          60
         ],
         "xaxis": "x2",
         "y": [
          1363.6,
          1363.6,
          1363.6,
          1363.6,
          1363.6,
          1363.6,
          1363.6,
          1363.6
         ],
         "yaxis": "y2"
        },
        {
         "line": {
          "color": "red"
         },
         "mode": "lines+markers",
         "name": "100.0%",
         "showlegend": false,
         "type": "scatter",
         "x": [
          1,
          5,
          10,
          20,
          30,
          40,
          50,
          60
         ],
         "xaxis": "x3",
         "y": [
          1.013940570125,
          0.8517638678600477,
          0.8246057974299768,
          0.8134368037181664,
          0.8103132792688633,
          0.8098057928956071,
          0.8099512176115625,
          0.8104212326390854
         ],
         "yaxis": "y3"
        },
        {
         "line": {
          "color": "red"
         },
         "mode": "lines+markers",
         "name": "100.0%",
         "showlegend": false,
         "type": "scatter",
         "x": [
          1,
          5,
          10,
          20,
          30,
          40,
          50,
          60
         ],
         "xaxis": "x4",
         "y": [
          1.357448041399763,
          1.0747691503871393,
          1.0369473979553097,
          1.0218981711320398,
          1.0179277185403388,
          1.0171357573374449,
          1.0171064459546095,
          1.0173491258957665
         ],
         "yaxis": "y4"
        },
        {
         "line": {
          "color": "red"
         },
         "mode": "lines+markers",
         "name": "100.0%",
         "showlegend": false,
         "type": "scatter",
         "x": [
          1,
          5,
          10,
          20,
          30,
          40,
          50,
          60
         ],
         "xaxis": "x5",
         "y": [
          0.29431018150957194,
          0.013672485086745935,
          0.0012765485573628852,
          0.0004722152415051219,
          0.0004722152415051219,
          0.0004722152415051219,
          0.0004722152415051219,
          0.0004722152415051219
         ],
         "yaxis": "y5"
        },
        {
         "line": {
          "color": "red"
         },
         "mode": "lines+markers",
         "name": "100.0%",
         "showlegend": false,
         "type": "scatter",
         "x": [
          1,
          5,
          10,
          20,
          30,
          40,
          50,
          60
         ],
         "xaxis": "x6",
         "y": [
          0.3044859805736828,
          0.01581954494154962,
          0.0019493559830816949,
          0.0004317322733345304,
          0.0004317322733345304,
          0.0004317322733345304,
          0.0004317322733345304,
          0.0004317322733345304
         ],
         "yaxis": "y6"
        },
        {
         "line": {
          "color": "red"
         },
         "mode": "lines+markers",
         "name": "100.0%",
         "showlegend": false,
         "type": "scatter",
         "x": [
          1,
          5,
          10,
          20,
          30,
          40,
          50,
          60
         ],
         "xaxis": "x7",
         "y": [
          0.3313380668846433,
          0.5590049933016684,
          0.48928571428571427,
          0.35944444444444446,
          0.35944444444444446,
          0.35944444444444446,
          0.35944444444444446,
          0.35944444444444446
         ],
         "yaxis": "y7"
        },
        {
         "line": {
          "color": "red"
         },
         "mode": "lines+markers",
         "name": "100.0%",
         "showlegend": false,
         "type": "scatter",
         "x": [
          1,
          5,
          10,
          20,
          30,
          40,
          50,
          60
         ],
         "xaxis": "x8",
         "y": [
          0.33181251920044513,
          0.5597467886134286,
          0.49883116883116885,
          0.3694444444444444,
          0.3694444444444444,
          0.3694444444444444,
          0.3694444444444444,
          0.3694444444444444
         ],
         "yaxis": "y8"
        },
        {
         "line": {
          "color": "red"
         },
         "mode": "lines+markers",
         "name": "100.0%",
         "showlegend": false,
         "type": "scatter",
         "x": [
          1,
          5,
          10,
          20,
          30,
          40,
          50,
          60
         ],
         "xaxis": "x9",
         "y": [
          0.8702394529910649,
          0.8993228049732477,
          0.9065535816321736,
          0.9095052597792549,
          0.9112389112335653,
          0.9120624425701883,
          0.9120348304551167,
          0.9113707027908565
         ],
         "yaxis": "y9"
        },
        {
         "line": {
          "color": "red"
         },
         "mode": "lines+markers",
         "name": "100.0%",
         "showlegend": false,
         "type": "scatter",
         "x": [
          1,
          5,
          10,
          20,
          30,
          40,
          50,
          60
         ],
         "xaxis": "x10",
         "y": [
          0.1653672331603819,
          0.17489834551727806,
          0.17798694451378522,
          0.179579178614655,
          0.18000322134592575,
          0.18025791963824167,
          0.18034272132957563,
          0.18010944600274448
         ],
         "yaxis": "y10"
        },
        {
         "line": {
          "color": "green"
         },
         "mode": "lines+markers",
         "name": "80.0%",
         "showlegend": true,
         "type": "scatter",
         "x": [
          1,
          5,
          10,
          20,
          30,
          40,
          50,
          60
         ],
         "xaxis": "x",
         "y": [
          0.80046,
          0.80046,
          0.80046,
          0.80046,
          0.80046,
          0.80046,
          0.80046,
          0.80046
         ],
         "yaxis": "y"
        },
        {
         "line": {
          "color": "green"
         },
         "mode": "lines+markers",
         "name": "80.0%",
         "showlegend": false,
         "type": "scatter",
         "x": [
          1,
          5,
          10,
          20,
          30,
          40,
          50,
          60
         ],
         "xaxis": "x2",
         "y": [
          407.8,
          407.8,
          407.8,
          407.8,
          407.8,
          407.8,
          407.8,
          407.8
         ],
         "yaxis": "y2"
        },
        {
         "line": {
          "color": "green"
         },
         "mode": "lines+markers",
         "name": "80.0%",
         "showlegend": false,
         "type": "scatter",
         "x": [
          1,
          5,
          10,
          20,
          30,
          40,
          50,
          60
         ],
         "xaxis": "x3",
         "y": [
          1.03314529375,
          0.8618068964568713,
          0.8324948836706062,
          0.8183756598706105,
          0.8144282175742241,
          0.8130076903762454,
          0.812628342513765,
          0.8125598655925463
         ],
         "yaxis": "y3"
        },
        {
         "line": {
          "color": "green"
         },
         "mode": "lines+markers",
         "name": "80.0%",
         "showlegend": false,
         "type": "scatter",
         "x": [
          1,
          5,
          10,
          20,
          30,
          40,
          50,
          60
         ],
         "xaxis": "x4",
         "y": [
          1.3774457930149426,
          1.0852167632022007,
          1.0446174560727821,
          1.0269537354548968,
          1.0222921674537246,
          1.0206237946972412,
          1.019857988132406,
          1.0197647656885027
         ],
         "yaxis": "y4"
        },
        {
         "line": {
          "color": "green"
         },
         "mode": "lines+markers",
         "name": "80.0%",
         "showlegend": false,
         "type": "scatter",
         "x": [
          1,
          5,
          10,
          20,
          30,
          40,
          50,
          60
         ],
         "xaxis": "x5",
         "y": [
          0.3007852320572732,
          0.01066330175909443,
          0.0007083740477363311,
          0.0003767795993722725,
          0.0003767795993722725,
          0.0003767795993722725,
          0.0003767795993722725,
          0.0003767795993722725
         ],
         "yaxis": "y5"
        },
        {
         "line": {
          "color": "green"
         },
         "mode": "lines+markers",
         "name": "80.0%",
         "showlegend": false,
         "type": "scatter",
         "x": [
          1,
          5,
          10,
          20,
          30,
          40,
          50,
          60
         ],
         "xaxis": "x6",
         "y": [
          0.3097716721593016,
          0.012864179693464298,
          0.0008031927274911078,
          0.00034930482999538567,
          0.00034930482999538567,
          0.00034930482999538567,
          0.00034930482999538567,
          0.00034930482999538567
         ],
         "yaxis": "y6"
        },
        {
         "line": {
          "color": "green"
         },
         "mode": "lines+markers",
         "name": "80.0%",
         "showlegend": false,
         "type": "scatter",
         "x": [
          1,
          5,
          10,
          20,
          30,
          40,
          50,
          60
         ],
         "xaxis": "x7",
         "y": [
          0.3210540302422532,
          0.48787393240928284,
          0.3809090909090909,
          0.3265873015873016,
          0.3265873015873016,
          0.3265873015873016,
          0.3265873015873016,
          0.3265873015873016
         ],
         "yaxis": "y7"
        },
        {
         "line": {
          "color": "green"
         },
         "mode": "lines+markers",
         "name": "80.0%",
         "showlegend": false,
         "type": "scatter",
         "x": [
          1,
          5,
          10,
          20,
          30,
          40,
          50,
          60
         ],
         "xaxis": "x8",
         "y": [
          0.33105270929299513,
          0.4875086243740474,
          0.3921212121212121,
          0.3357142857142857,
          0.3357142857142857,
          0.3357142857142857,
          0.3357142857142857,
          0.3357142857142857
         ],
         "yaxis": "y8"
        },
        {
         "line": {
          "color": "green"
         },
         "mode": "lines+markers",
         "name": "80.0%",
         "showlegend": false,
         "type": "scatter",
         "x": [
          1,
          5,
          10,
          20,
          30,
          40,
          50,
          60
         ],
         "xaxis": "x9",
         "y": [
          0.8649057661737684,
          0.8968978387854046,
          0.9039595209219292,
          0.9078509960720365,
          0.9097509900712334,
          0.910046090659299,
          0.9106838466172724,
          0.9107674039806446
         ],
         "yaxis": "y9"
        },
        {
         "line": {
          "color": "green"
         },
         "mode": "lines+markers",
         "name": "80.0%",
         "showlegend": false,
         "type": "scatter",
         "x": [
          1,
          5,
          10,
          20,
          30,
          40,
          50,
          60
         ],
         "xaxis": "x10",
         "y": [
          0.16418972249687164,
          0.17437842301725914,
          0.17720147174873366,
          0.1790582758849748,
          0.1792177370363751,
          0.17965266601496355,
          0.17985446601268718,
          0.17985453348520009
         ],
         "yaxis": "y10"
        },
        {
         "line": {
          "color": "blue"
         },
         "mode": "lines+markers",
         "name": "60.0%",
         "showlegend": true,
         "type": "scatter",
         "x": [
          1,
          5,
          10,
          20,
          30,
          40,
          50,
          60
         ],
         "xaxis": "x",
         "y": [
          0.60087,
          0.60087,
          0.60087,
          0.60087,
          0.60087,
          0.60087,
          0.60087,
          0.60087
         ],
         "yaxis": "y"
        },
        {
         "line": {
          "color": "blue"
         },
         "mode": "lines+markers",
         "name": "60.0%",
         "showlegend": false,
         "type": "scatter",
         "x": [
          1,
          5,
          10,
          20,
          30,
          40,
          50,
          60
         ],
         "xaxis": "x2",
         "y": [
          227.2,
          227.2,
          227.2,
          227.2,
          227.2,
          227.2,
          227.2,
          227.2
         ],
         "yaxis": "y2"
        },
        {
         "line": {
          "color": "blue"
         },
         "mode": "lines+markers",
         "name": "60.0%",
         "showlegend": false,
         "type": "scatter",
         "x": [
          1,
          5,
          10,
          20,
          30,
          40,
          50,
          60
         ],
         "xaxis": "x3",
         "y": [
          1.04326941375,
          0.8657065636623822,
          0.8348280327984147,
          0.8205932388283046,
          0.8163085146379239,
          0.8147473196706057,
          0.8140497210279539,
          0.8138342030283451
         ],
         "yaxis": "y3"
        },
        {
         "line": {
          "color": "blue"
         },
         "mode": "lines+markers",
         "name": "60.0%",
         "showlegend": false,
         "type": "scatter",
         "x": [
          1,
          5,
          10,
          20,
          30,
          40,
          50,
          60
         ],
         "xaxis": "x4",
         "y": [
          1.3898923224848794,
          1.0897233522262206,
          1.0481282050290437,
          1.0299646881533362,
          1.0243926499126843,
          1.0224219680779485,
          1.0216213590157903,
          1.0212908947004709
         ],
         "yaxis": "y4"
        },
        {
         "line": {
          "color": "blue"
         },
         "mode": "lines+markers",
         "name": "60.0%",
         "showlegend": false,
         "type": "scatter",
         "x": [
          1,
          5,
          10,
          20,
          30,
          40,
          50,
          60
         ],
         "xaxis": "x5",
         "y": [
          0.3134878302479906,
          0.009802753240878348,
          0.000989888870173152,
          0.0004728641537801514,
          0.0004728641537801514,
          0.0004728641537801514,
          0.0004728641537801514,
          0.0004728641537801514
         ],
         "yaxis": "y5"
        },
        {
         "line": {
          "color": "blue"
         },
         "mode": "lines+markers",
         "name": "60.0%",
         "showlegend": false,
         "type": "scatter",
         "x": [
          1,
          5,
          10,
          20,
          30,
          40,
          50,
          60
         ],
         "xaxis": "x6",
         "y": [
          0.32346166631520973,
          0.011192642443769319,
          0.0009605906033560858,
          0.0004513456463219163,
          0.0004513456463219163,
          0.0004513456463219163,
          0.0004513456463219163,
          0.0004513456463219163
         ],
         "yaxis": "y6"
        },
        {
         "line": {
          "color": "blue"
         },
         "mode": "lines+markers",
         "name": "60.0%",
         "showlegend": false,
         "type": "scatter",
         "x": [
          1,
          5,
          10,
          20,
          30,
          40,
          50,
          60
         ],
         "xaxis": "x7",
         "y": [
          0.3147365348862198,
          0.4772691193375376,
          0.5076190476190476,
          0.378989898989899,
          0.378989898989899,
          0.378989898989899,
          0.378989898989899,
          0.378989898989899
         ],
         "yaxis": "y7"
        },
        {
         "line": {
          "color": "blue"
         },
         "mode": "lines+markers",
         "name": "60.0%",
         "showlegend": false,
         "type": "scatter",
         "x": [
          1,
          5,
          10,
          20,
          30,
          40,
          50,
          60
         ],
         "xaxis": "x8",
         "y": [
          0.32325010780701846,
          0.47576182153576346,
          0.5184415584415585,
          0.39,
          0.39,
          0.39,
          0.39,
          0.39
         ],
         "yaxis": "y8"
        },
        {
         "line": {
          "color": "blue"
         },
         "mode": "lines+markers",
         "name": "60.0%",
         "showlegend": false,
         "type": "scatter",
         "x": [
          1,
          5,
          10,
          20,
          30,
          40,
          50,
          60
         ],
         "xaxis": "x9",
         "y": [
          0.8650563302965093,
          0.8933570549314851,
          0.9030535614871034,
          0.9075571109639414,
          0.9092360861034112,
          0.9091614291366462,
          0.909274677699747,
          0.9094465085674625
         ],
         "yaxis": "y9"
        },
        {
         "line": {
          "color": "blue"
         },
         "mode": "lines+markers",
         "name": "60.0%",
         "showlegend": false,
         "type": "scatter",
         "x": [
          1,
          5,
          10,
          20,
          30,
          40,
          50,
          60
         ],
         "xaxis": "x10",
         "y": [
          0.16306407318070662,
          0.17340213745934355,
          0.17711672634430983,
          0.17836900913741244,
          0.1793025612185467,
          0.1793662105522402,
          0.17944054323718422,
          0.17945127145047787
         ],
         "yaxis": "y10"
        }
       ],
       "layout": {
        "annotations": [
         {
          "font": {
           "size": 16
          },
          "showarrow": false,
          "text": "Actual Coverage",
          "x": 0.225,
          "xanchor": "center",
          "xref": "paper",
          "y": 1,
          "yanchor": "bottom",
          "yref": "paper"
         },
         {
          "font": {
           "size": 16
          },
          "showarrow": false,
          "text": "Number of factors",
          "x": 0.775,
          "xanchor": "center",
          "xref": "paper",
          "y": 1,
          "yanchor": "bottom",
          "yref": "paper"
         },
         {
          "font": {
           "size": 16
          },
          "showarrow": false,
          "text": "MAE",
          "x": 0.225,
          "xanchor": "center",
          "xref": "paper",
          "y": 0.78,
          "yanchor": "bottom",
          "yref": "paper"
         },
         {
          "font": {
           "size": 16
          },
          "showarrow": false,
          "text": "RMSE",
          "x": 0.775,
          "xanchor": "center",
          "xref": "paper",
          "y": 0.78,
          "yanchor": "bottom",
          "yref": "paper"
         },
         {
          "font": {
           "size": 16
          },
          "showarrow": false,
          "text": "Global Recall",
          "x": 0.225,
          "xanchor": "center",
          "xref": "paper",
          "y": 0.56,
          "yanchor": "bottom",
          "yref": "paper"
         },
         {
          "font": {
           "size": 16
          },
          "showarrow": false,
          "text": "User Averaged Recall",
          "x": 0.775,
          "xanchor": "center",
          "xref": "paper",
          "y": 0.56,
          "yanchor": "bottom",
          "yref": "paper"
         },
         {
          "font": {
           "size": 16
          },
          "showarrow": false,
          "text": "Global Precision",
          "x": 0.225,
          "xanchor": "center",
          "xref": "paper",
          "y": 0.33999999999999997,
          "yanchor": "bottom",
          "yref": "paper"
         },
         {
          "font": {
           "size": 16
          },
          "showarrow": false,
          "text": "User Averaged Precision",
          "x": 0.775,
          "xanchor": "center",
          "xref": "paper",
          "y": 0.33999999999999997,
          "yanchor": "bottom",
          "yref": "paper"
         },
         {
          "font": {
           "size": 16
          },
          "showarrow": false,
          "text": "Recall@K",
          "x": 0.225,
          "xanchor": "center",
          "xref": "paper",
          "y": 0.12,
          "yanchor": "bottom",
          "yref": "paper"
         },
         {
          "font": {
           "size": 16
          },
          "showarrow": false,
          "text": "Precision@K",
          "x": 0.775,
          "xanchor": "center",
          "xref": "paper",
          "y": 0.12,
          "yanchor": "bottom",
          "yref": "paper"
         }
        ],
        "height": 2000,
        "legend": {
         "title": {
          "text": "Rating Coverage Level"
         }
        },
        "template": {
         "data": {
          "bar": [
           {
            "error_x": {
             "color": "#2a3f5f"
            },
            "error_y": {
             "color": "#2a3f5f"
            },
            "marker": {
             "line": {
              "color": "#E5ECF6",
              "width": 0.5
             },
             "pattern": {
              "fillmode": "overlay",
              "size": 10,
              "solidity": 0.2
             }
            },
            "type": "bar"
           }
          ],
          "barpolar": [
           {
            "marker": {
             "line": {
              "color": "#E5ECF6",
              "width": 0.5
             },
             "pattern": {
              "fillmode": "overlay",
              "size": 10,
              "solidity": 0.2
             }
            },
            "type": "barpolar"
           }
          ],
          "carpet": [
           {
            "aaxis": {
             "endlinecolor": "#2a3f5f",
             "gridcolor": "white",
             "linecolor": "white",
             "minorgridcolor": "white",
             "startlinecolor": "#2a3f5f"
            },
            "baxis": {
             "endlinecolor": "#2a3f5f",
             "gridcolor": "white",
             "linecolor": "white",
             "minorgridcolor": "white",
             "startlinecolor": "#2a3f5f"
            },
            "type": "carpet"
           }
          ],
          "choropleth": [
           {
            "colorbar": {
             "outlinewidth": 0,
             "ticks": ""
            },
            "type": "choropleth"
           }
          ],
          "contour": [
           {
            "colorbar": {
             "outlinewidth": 0,
             "ticks": ""
            },
            "colorscale": [
             [
              0,
              "#0d0887"
             ],
             [
              0.1111111111111111,
              "#46039f"
             ],
             [
              0.2222222222222222,
              "#7201a8"
             ],
             [
              0.3333333333333333,
              "#9c179e"
             ],
             [
              0.4444444444444444,
              "#bd3786"
             ],
             [
              0.5555555555555556,
              "#d8576b"
             ],
             [
              0.6666666666666666,
              "#ed7953"
             ],
             [
              0.7777777777777778,
              "#fb9f3a"
             ],
             [
              0.8888888888888888,
              "#fdca26"
             ],
             [
              1,
              "#f0f921"
             ]
            ],
            "type": "contour"
           }
          ],
          "contourcarpet": [
           {
            "colorbar": {
             "outlinewidth": 0,
             "ticks": ""
            },
            "type": "contourcarpet"
           }
          ],
          "heatmap": [
           {
            "colorbar": {
             "outlinewidth": 0,
             "ticks": ""
            },
            "colorscale": [
             [
              0,
              "#0d0887"
             ],
             [
              0.1111111111111111,
              "#46039f"
             ],
             [
              0.2222222222222222,
              "#7201a8"
             ],
             [
              0.3333333333333333,
              "#9c179e"
             ],
             [
              0.4444444444444444,
              "#bd3786"
             ],
             [
              0.5555555555555556,
              "#d8576b"
             ],
             [
              0.6666666666666666,
              "#ed7953"
             ],
             [
              0.7777777777777778,
              "#fb9f3a"
             ],
             [
              0.8888888888888888,
              "#fdca26"
             ],
             [
              1,
              "#f0f921"
             ]
            ],
            "type": "heatmap"
           }
          ],
          "heatmapgl": [
           {
            "colorbar": {
             "outlinewidth": 0,
             "ticks": ""
            },
            "colorscale": [
             [
              0,
              "#0d0887"
             ],
             [
              0.1111111111111111,
              "#46039f"
             ],
             [
              0.2222222222222222,
              "#7201a8"
             ],
             [
              0.3333333333333333,
              "#9c179e"
             ],
             [
              0.4444444444444444,
              "#bd3786"
             ],
             [
              0.5555555555555556,
              "#d8576b"
             ],
             [
              0.6666666666666666,
              "#ed7953"
             ],
             [
              0.7777777777777778,
              "#fb9f3a"
             ],
             [
              0.8888888888888888,
              "#fdca26"
             ],
             [
              1,
              "#f0f921"
             ]
            ],
            "type": "heatmapgl"
           }
          ],
          "histogram": [
           {
            "marker": {
             "pattern": {
              "fillmode": "overlay",
              "size": 10,
              "solidity": 0.2
             }
            },
            "type": "histogram"
           }
          ],
          "histogram2d": [
           {
            "colorbar": {
             "outlinewidth": 0,
             "ticks": ""
            },
            "colorscale": [
             [
              0,
              "#0d0887"
             ],
             [
              0.1111111111111111,
              "#46039f"
             ],
             [
              0.2222222222222222,
              "#7201a8"
             ],
             [
              0.3333333333333333,
              "#9c179e"
             ],
             [
              0.4444444444444444,
              "#bd3786"
             ],
             [
              0.5555555555555556,
              "#d8576b"
             ],
             [
              0.6666666666666666,
              "#ed7953"
             ],
             [
              0.7777777777777778,
              "#fb9f3a"
             ],
             [
              0.8888888888888888,
              "#fdca26"
             ],
             [
              1,
              "#f0f921"
             ]
            ],
            "type": "histogram2d"
           }
          ],
          "histogram2dcontour": [
           {
            "colorbar": {
             "outlinewidth": 0,
             "ticks": ""
            },
            "colorscale": [
             [
              0,
              "#0d0887"
             ],
             [
              0.1111111111111111,
              "#46039f"
             ],
             [
              0.2222222222222222,
              "#7201a8"
             ],
             [
              0.3333333333333333,
              "#9c179e"
             ],
             [
              0.4444444444444444,
              "#bd3786"
             ],
             [
              0.5555555555555556,
              "#d8576b"
             ],
             [
              0.6666666666666666,
              "#ed7953"
             ],
             [
              0.7777777777777778,
              "#fb9f3a"
             ],
             [
              0.8888888888888888,
              "#fdca26"
             ],
             [
              1,
              "#f0f921"
             ]
            ],
            "type": "histogram2dcontour"
           }
          ],
          "mesh3d": [
           {
            "colorbar": {
             "outlinewidth": 0,
             "ticks": ""
            },
            "type": "mesh3d"
           }
          ],
          "parcoords": [
           {
            "line": {
             "colorbar": {
              "outlinewidth": 0,
              "ticks": ""
             }
            },
            "type": "parcoords"
           }
          ],
          "pie": [
           {
            "automargin": true,
            "type": "pie"
           }
          ],
          "scatter": [
           {
            "fillpattern": {
             "fillmode": "overlay",
             "size": 10,
             "solidity": 0.2
            },
            "type": "scatter"
           }
          ],
          "scatter3d": [
           {
            "line": {
             "colorbar": {
              "outlinewidth": 0,
              "ticks": ""
             }
            },
            "marker": {
             "colorbar": {
              "outlinewidth": 0,
              "ticks": ""
             }
            },
            "type": "scatter3d"
           }
          ],
          "scattercarpet": [
           {
            "marker": {
             "colorbar": {
              "outlinewidth": 0,
              "ticks": ""
             }
            },
            "type": "scattercarpet"
           }
          ],
          "scattergeo": [
           {
            "marker": {
             "colorbar": {
              "outlinewidth": 0,
              "ticks": ""
             }
            },
            "type": "scattergeo"
           }
          ],
          "scattergl": [
           {
            "marker": {
             "colorbar": {
              "outlinewidth": 0,
              "ticks": ""
             }
            },
            "type": "scattergl"
           }
          ],
          "scattermapbox": [
           {
            "marker": {
             "colorbar": {
              "outlinewidth": 0,
              "ticks": ""
             }
            },
            "type": "scattermapbox"
           }
          ],
          "scatterpolar": [
           {
            "marker": {
             "colorbar": {
              "outlinewidth": 0,
              "ticks": ""
             }
            },
            "type": "scatterpolar"
           }
          ],
          "scatterpolargl": [
           {
            "marker": {
             "colorbar": {
              "outlinewidth": 0,
              "ticks": ""
             }
            },
            "type": "scatterpolargl"
           }
          ],
          "scatterternary": [
           {
            "marker": {
             "colorbar": {
              "outlinewidth": 0,
              "ticks": ""
             }
            },
            "type": "scatterternary"
           }
          ],
          "surface": [
           {
            "colorbar": {
             "outlinewidth": 0,
             "ticks": ""
            },
            "colorscale": [
             [
              0,
              "#0d0887"
             ],
             [
              0.1111111111111111,
              "#46039f"
             ],
             [
              0.2222222222222222,
              "#7201a8"
             ],
             [
              0.3333333333333333,
              "#9c179e"
             ],
             [
              0.4444444444444444,
              "#bd3786"
             ],
             [
              0.5555555555555556,
              "#d8576b"
             ],
             [
              0.6666666666666666,
              "#ed7953"
             ],
             [
              0.7777777777777778,
              "#fb9f3a"
             ],
             [
              0.8888888888888888,
              "#fdca26"
             ],
             [
              1,
              "#f0f921"
             ]
            ],
            "type": "surface"
           }
          ],
          "table": [
           {
            "cells": {
             "fill": {
              "color": "#EBF0F8"
             },
             "line": {
              "color": "white"
             }
            },
            "header": {
             "fill": {
              "color": "#C8D4E3"
             },
             "line": {
              "color": "white"
             }
            },
            "type": "table"
           }
          ]
         },
         "layout": {
          "annotationdefaults": {
           "arrowcolor": "#2a3f5f",
           "arrowhead": 0,
           "arrowwidth": 1
          },
          "autotypenumbers": "strict",
          "coloraxis": {
           "colorbar": {
            "outlinewidth": 0,
            "ticks": ""
           }
          },
          "colorscale": {
           "diverging": [
            [
             0,
             "#8e0152"
            ],
            [
             0.1,
             "#c51b7d"
            ],
            [
             0.2,
             "#de77ae"
            ],
            [
             0.3,
             "#f1b6da"
            ],
            [
             0.4,
             "#fde0ef"
            ],
            [
             0.5,
             "#f7f7f7"
            ],
            [
             0.6,
             "#e6f5d0"
            ],
            [
             0.7,
             "#b8e186"
            ],
            [
             0.8,
             "#7fbc41"
            ],
            [
             0.9,
             "#4d9221"
            ],
            [
             1,
             "#276419"
            ]
           ],
           "sequential": [
            [
             0,
             "#0d0887"
            ],
            [
             0.1111111111111111,
             "#46039f"
            ],
            [
             0.2222222222222222,
             "#7201a8"
            ],
            [
             0.3333333333333333,
             "#9c179e"
            ],
            [
             0.4444444444444444,
             "#bd3786"
            ],
            [
             0.5555555555555556,
             "#d8576b"
            ],
            [
             0.6666666666666666,
             "#ed7953"
            ],
            [
             0.7777777777777778,
             "#fb9f3a"
            ],
            [
             0.8888888888888888,
             "#fdca26"
            ],
            [
             1,
             "#f0f921"
            ]
           ],
           "sequentialminus": [
            [
             0,
             "#0d0887"
            ],
            [
             0.1111111111111111,
             "#46039f"
            ],
            [
             0.2222222222222222,
             "#7201a8"
            ],
            [
             0.3333333333333333,
             "#9c179e"
            ],
            [
             0.4444444444444444,
             "#bd3786"
            ],
            [
             0.5555555555555556,
             "#d8576b"
            ],
            [
             0.6666666666666666,
             "#ed7953"
            ],
            [
             0.7777777777777778,
             "#fb9f3a"
            ],
            [
             0.8888888888888888,
             "#fdca26"
            ],
            [
             1,
             "#f0f921"
            ]
           ]
          },
          "colorway": [
           "#636efa",
           "#EF553B",
           "#00cc96",
           "#ab63fa",
           "#FFA15A",
           "#19d3f3",
           "#FF6692",
           "#B6E880",
           "#FF97FF",
           "#FECB52"
          ],
          "font": {
           "color": "#2a3f5f"
          },
          "geo": {
           "bgcolor": "white",
           "lakecolor": "white",
           "landcolor": "#E5ECF6",
           "showlakes": true,
           "showland": true,
           "subunitcolor": "white"
          },
          "hoverlabel": {
           "align": "left"
          },
          "hovermode": "closest",
          "mapbox": {
           "style": "light"
          },
          "paper_bgcolor": "white",
          "plot_bgcolor": "#E5ECF6",
          "polar": {
           "angularaxis": {
            "gridcolor": "white",
            "linecolor": "white",
            "ticks": ""
           },
           "bgcolor": "#E5ECF6",
           "radialaxis": {
            "gridcolor": "white",
            "linecolor": "white",
            "ticks": ""
           }
          },
          "scene": {
           "xaxis": {
            "backgroundcolor": "#E5ECF6",
            "gridcolor": "white",
            "gridwidth": 2,
            "linecolor": "white",
            "showbackground": true,
            "ticks": "",
            "zerolinecolor": "white"
           },
           "yaxis": {
            "backgroundcolor": "#E5ECF6",
            "gridcolor": "white",
            "gridwidth": 2,
            "linecolor": "white",
            "showbackground": true,
            "ticks": "",
            "zerolinecolor": "white"
           },
           "zaxis": {
            "backgroundcolor": "#E5ECF6",
            "gridcolor": "white",
            "gridwidth": 2,
            "linecolor": "white",
            "showbackground": true,
            "ticks": "",
            "zerolinecolor": "white"
           }
          },
          "shapedefaults": {
           "line": {
            "color": "#2a3f5f"
           }
          },
          "ternary": {
           "aaxis": {
            "gridcolor": "white",
            "linecolor": "white",
            "ticks": ""
           },
           "baxis": {
            "gridcolor": "white",
            "linecolor": "white",
            "ticks": ""
           },
           "bgcolor": "#E5ECF6",
           "caxis": {
            "gridcolor": "white",
            "linecolor": "white",
            "ticks": ""
           }
          },
          "title": {
           "x": 0.05
          },
          "xaxis": {
           "automargin": true,
           "gridcolor": "white",
           "linecolor": "white",
           "ticks": "",
           "title": {
            "standoff": 15
           },
           "zerolinecolor": "white",
           "zerolinewidth": 2
          },
          "yaxis": {
           "automargin": true,
           "gridcolor": "white",
           "linecolor": "white",
           "ticks": "",
           "title": {
            "standoff": 15
           },
           "zerolinecolor": "white",
           "zerolinewidth": 2
          }
         }
        },
        "xaxis": {
         "anchor": "y",
         "domain": [
          0,
          0.45
         ],
         "title": {
          "text": "Number of nearest neighbors used (k)"
         }
        },
        "xaxis10": {
         "anchor": "y10",
         "domain": [
          0.55,
          1
         ],
         "title": {
          "text": "Number of nearest neighbors used (k)"
         }
        },
        "xaxis2": {
         "anchor": "y2",
         "domain": [
          0.55,
          1
         ],
         "title": {
          "text": "Number of nearest neighbors used (k)"
         }
        },
        "xaxis3": {
         "anchor": "y3",
         "domain": [
          0,
          0.45
         ],
         "title": {
          "text": "Number of nearest neighbors used (k)"
         }
        },
        "xaxis4": {
         "anchor": "y4",
         "domain": [
          0.55,
          1
         ],
         "title": {
          "text": "Number of nearest neighbors used (k)"
         }
        },
        "xaxis5": {
         "anchor": "y5",
         "domain": [
          0,
          0.45
         ],
         "title": {
          "text": "Number of nearest neighbors used (k)"
         }
        },
        "xaxis6": {
         "anchor": "y6",
         "domain": [
          0.55,
          1
         ],
         "title": {
          "text": "Number of nearest neighbors used (k)"
         }
        },
        "xaxis7": {
         "anchor": "y7",
         "domain": [
          0,
          0.45
         ],
         "title": {
          "text": "Number of nearest neighbors used (k)"
         }
        },
        "xaxis8": {
         "anchor": "y8",
         "domain": [
          0.55,
          1
         ],
         "title": {
          "text": "Number of nearest neighbors used (k)"
         }
        },
        "xaxis9": {
         "anchor": "y9",
         "domain": [
          0,
          0.45
         ],
         "title": {
          "text": "Number of nearest neighbors used (k)"
         }
        },
        "yaxis": {
         "anchor": "x",
         "domain": [
          0.88,
          1
         ],
         "title": {
          "text": "Actual Coverage"
         }
        },
        "yaxis10": {
         "anchor": "x10",
         "domain": [
          0,
          0.12
         ],
         "title": {
          "text": "Precision@K"
         }
        },
        "yaxis2": {
         "anchor": "x2",
         "domain": [
          0.88,
          1
         ],
         "title": {
          "text": "Number of factors"
         }
        },
        "yaxis3": {
         "anchor": "x3",
         "domain": [
          0.66,
          0.78
         ],
         "title": {
          "text": "MAE"
         }
        },
        "yaxis4": {
         "anchor": "x4",
         "domain": [
          0.66,
          0.78
         ],
         "title": {
          "text": "RMSE"
         }
        },
        "yaxis5": {
         "anchor": "x5",
         "domain": [
          0.44,
          0.56
         ],
         "title": {
          "text": "Global Recall"
         }
        },
        "yaxis6": {
         "anchor": "x6",
         "domain": [
          0.44,
          0.56
         ],
         "title": {
          "text": "User Averaged Recall"
         }
        },
        "yaxis7": {
         "anchor": "x7",
         "domain": [
          0.22,
          0.33999999999999997
         ],
         "title": {
          "text": "Global Precision"
         }
        },
        "yaxis8": {
         "anchor": "x8",
         "domain": [
          0.22,
          0.33999999999999997
         ],
         "title": {
          "text": "User Averaged Precision"
         }
        },
        "yaxis9": {
         "anchor": "x9",
         "domain": [
          0,
          0.12
         ],
         "title": {
          "text": "Recall@K"
         }
        }
       }
      },
      "text/html": [
       "<div>                            <div id=\"5ad809a5-2379-400a-a7e0-74fea6f0f519\" class=\"plotly-graph-div\" style=\"height:2000px; width:100%;\"></div>            <script type=\"text/javascript\">                require([\"plotly\"], function(Plotly) {                    window.PLOTLYENV=window.PLOTLYENV || {};                                    if (document.getElementById(\"5ad809a5-2379-400a-a7e0-74fea6f0f519\")) {                    Plotly.newPlot(                        \"5ad809a5-2379-400a-a7e0-74fea6f0f519\",                        [{\"line\":{\"color\":\"red\"},\"mode\":\"lines+markers\",\"name\":\"100.0%\",\"showlegend\":true,\"x\":[1,5,10,20,30,40,50,60],\"y\":[1.0,1.0,1.0,1.0,1.0,1.0,1.0,1.0],\"type\":\"scatter\",\"xaxis\":\"x\",\"yaxis\":\"y\"},{\"line\":{\"color\":\"red\"},\"mode\":\"lines+markers\",\"name\":\"100.0%\",\"showlegend\":false,\"x\":[1,5,10,20,30,40,50,60],\"y\":[1363.6,1363.6,1363.6,1363.6,1363.6,1363.6,1363.6,1363.6],\"type\":\"scatter\",\"xaxis\":\"x2\",\"yaxis\":\"y2\"},{\"line\":{\"color\":\"red\"},\"mode\":\"lines+markers\",\"name\":\"100.0%\",\"showlegend\":false,\"x\":[1,5,10,20,30,40,50,60],\"y\":[1.013940570125,0.8517638678600477,0.8246057974299768,0.8134368037181664,0.8103132792688633,0.8098057928956071,0.8099512176115625,0.8104212326390854],\"type\":\"scatter\",\"xaxis\":\"x3\",\"yaxis\":\"y3\"},{\"line\":{\"color\":\"red\"},\"mode\":\"lines+markers\",\"name\":\"100.0%\",\"showlegend\":false,\"x\":[1,5,10,20,30,40,50,60],\"y\":[1.357448041399763,1.0747691503871393,1.0369473979553097,1.0218981711320398,1.0179277185403388,1.0171357573374449,1.0171064459546095,1.0173491258957665],\"type\":\"scatter\",\"xaxis\":\"x4\",\"yaxis\":\"y4\"},{\"line\":{\"color\":\"red\"},\"mode\":\"lines+markers\",\"name\":\"100.0%\",\"showlegend\":false,\"x\":[1,5,10,20,30,40,50,60],\"y\":[0.29431018150957194,0.013672485086745935,0.0012765485573628852,0.0004722152415051219,0.0004722152415051219,0.0004722152415051219,0.0004722152415051219,0.0004722152415051219],\"type\":\"scatter\",\"xaxis\":\"x5\",\"yaxis\":\"y5\"},{\"line\":{\"color\":\"red\"},\"mode\":\"lines+markers\",\"name\":\"100.0%\",\"showlegend\":false,\"x\":[1,5,10,20,30,40,50,60],\"y\":[0.3044859805736828,0.01581954494154962,0.0019493559830816949,0.0004317322733345304,0.0004317322733345304,0.0004317322733345304,0.0004317322733345304,0.0004317322733345304],\"type\":\"scatter\",\"xaxis\":\"x6\",\"yaxis\":\"y6\"},{\"line\":{\"color\":\"red\"},\"mode\":\"lines+markers\",\"name\":\"100.0%\",\"showlegend\":false,\"x\":[1,5,10,20,30,40,50,60],\"y\":[0.3313380668846433,0.5590049933016684,0.48928571428571427,0.35944444444444446,0.35944444444444446,0.35944444444444446,0.35944444444444446,0.35944444444444446],\"type\":\"scatter\",\"xaxis\":\"x7\",\"yaxis\":\"y7\"},{\"line\":{\"color\":\"red\"},\"mode\":\"lines+markers\",\"name\":\"100.0%\",\"showlegend\":false,\"x\":[1,5,10,20,30,40,50,60],\"y\":[0.33181251920044513,0.5597467886134286,0.49883116883116885,0.3694444444444444,0.3694444444444444,0.3694444444444444,0.3694444444444444,0.3694444444444444],\"type\":\"scatter\",\"xaxis\":\"x8\",\"yaxis\":\"y8\"},{\"line\":{\"color\":\"red\"},\"mode\":\"lines+markers\",\"name\":\"100.0%\",\"showlegend\":false,\"x\":[1,5,10,20,30,40,50,60],\"y\":[0.8702394529910649,0.8993228049732477,0.9065535816321736,0.9095052597792549,0.9112389112335653,0.9120624425701883,0.9120348304551167,0.9113707027908565],\"type\":\"scatter\",\"xaxis\":\"x9\",\"yaxis\":\"y9\"},{\"line\":{\"color\":\"red\"},\"mode\":\"lines+markers\",\"name\":\"100.0%\",\"showlegend\":false,\"x\":[1,5,10,20,30,40,50,60],\"y\":[0.1653672331603819,0.17489834551727806,0.17798694451378522,0.179579178614655,0.18000322134592575,0.18025791963824167,0.18034272132957563,0.18010944600274448],\"type\":\"scatter\",\"xaxis\":\"x10\",\"yaxis\":\"y10\"},{\"line\":{\"color\":\"green\"},\"mode\":\"lines+markers\",\"name\":\"80.0%\",\"showlegend\":true,\"x\":[1,5,10,20,30,40,50,60],\"y\":[0.80046,0.80046,0.80046,0.80046,0.80046,0.80046,0.80046,0.80046],\"type\":\"scatter\",\"xaxis\":\"x\",\"yaxis\":\"y\"},{\"line\":{\"color\":\"green\"},\"mode\":\"lines+markers\",\"name\":\"80.0%\",\"showlegend\":false,\"x\":[1,5,10,20,30,40,50,60],\"y\":[407.8,407.8,407.8,407.8,407.8,407.8,407.8,407.8],\"type\":\"scatter\",\"xaxis\":\"x2\",\"yaxis\":\"y2\"},{\"line\":{\"color\":\"green\"},\"mode\":\"lines+markers\",\"name\":\"80.0%\",\"showlegend\":false,\"x\":[1,5,10,20,30,40,50,60],\"y\":[1.03314529375,0.8618068964568713,0.8324948836706062,0.8183756598706105,0.8144282175742241,0.8130076903762454,0.812628342513765,0.8125598655925463],\"type\":\"scatter\",\"xaxis\":\"x3\",\"yaxis\":\"y3\"},{\"line\":{\"color\":\"green\"},\"mode\":\"lines+markers\",\"name\":\"80.0%\",\"showlegend\":false,\"x\":[1,5,10,20,30,40,50,60],\"y\":[1.3774457930149426,1.0852167632022007,1.0446174560727821,1.0269537354548968,1.0222921674537246,1.0206237946972412,1.019857988132406,1.0197647656885027],\"type\":\"scatter\",\"xaxis\":\"x4\",\"yaxis\":\"y4\"},{\"line\":{\"color\":\"green\"},\"mode\":\"lines+markers\",\"name\":\"80.0%\",\"showlegend\":false,\"x\":[1,5,10,20,30,40,50,60],\"y\":[0.3007852320572732,0.01066330175909443,0.0007083740477363311,0.0003767795993722725,0.0003767795993722725,0.0003767795993722725,0.0003767795993722725,0.0003767795993722725],\"type\":\"scatter\",\"xaxis\":\"x5\",\"yaxis\":\"y5\"},{\"line\":{\"color\":\"green\"},\"mode\":\"lines+markers\",\"name\":\"80.0%\",\"showlegend\":false,\"x\":[1,5,10,20,30,40,50,60],\"y\":[0.3097716721593016,0.012864179693464298,0.0008031927274911078,0.00034930482999538567,0.00034930482999538567,0.00034930482999538567,0.00034930482999538567,0.00034930482999538567],\"type\":\"scatter\",\"xaxis\":\"x6\",\"yaxis\":\"y6\"},{\"line\":{\"color\":\"green\"},\"mode\":\"lines+markers\",\"name\":\"80.0%\",\"showlegend\":false,\"x\":[1,5,10,20,30,40,50,60],\"y\":[0.3210540302422532,0.48787393240928284,0.3809090909090909,0.3265873015873016,0.3265873015873016,0.3265873015873016,0.3265873015873016,0.3265873015873016],\"type\":\"scatter\",\"xaxis\":\"x7\",\"yaxis\":\"y7\"},{\"line\":{\"color\":\"green\"},\"mode\":\"lines+markers\",\"name\":\"80.0%\",\"showlegend\":false,\"x\":[1,5,10,20,30,40,50,60],\"y\":[0.33105270929299513,0.4875086243740474,0.3921212121212121,0.3357142857142857,0.3357142857142857,0.3357142857142857,0.3357142857142857,0.3357142857142857],\"type\":\"scatter\",\"xaxis\":\"x8\",\"yaxis\":\"y8\"},{\"line\":{\"color\":\"green\"},\"mode\":\"lines+markers\",\"name\":\"80.0%\",\"showlegend\":false,\"x\":[1,5,10,20,30,40,50,60],\"y\":[0.8649057661737684,0.8968978387854046,0.9039595209219292,0.9078509960720365,0.9097509900712334,0.910046090659299,0.9106838466172724,0.9107674039806446],\"type\":\"scatter\",\"xaxis\":\"x9\",\"yaxis\":\"y9\"},{\"line\":{\"color\":\"green\"},\"mode\":\"lines+markers\",\"name\":\"80.0%\",\"showlegend\":false,\"x\":[1,5,10,20,30,40,50,60],\"y\":[0.16418972249687164,0.17437842301725914,0.17720147174873366,0.1790582758849748,0.1792177370363751,0.17965266601496355,0.17985446601268718,0.17985453348520009],\"type\":\"scatter\",\"xaxis\":\"x10\",\"yaxis\":\"y10\"},{\"line\":{\"color\":\"blue\"},\"mode\":\"lines+markers\",\"name\":\"60.0%\",\"showlegend\":true,\"x\":[1,5,10,20,30,40,50,60],\"y\":[0.60087,0.60087,0.60087,0.60087,0.60087,0.60087,0.60087,0.60087],\"type\":\"scatter\",\"xaxis\":\"x\",\"yaxis\":\"y\"},{\"line\":{\"color\":\"blue\"},\"mode\":\"lines+markers\",\"name\":\"60.0%\",\"showlegend\":false,\"x\":[1,5,10,20,30,40,50,60],\"y\":[227.2,227.2,227.2,227.2,227.2,227.2,227.2,227.2],\"type\":\"scatter\",\"xaxis\":\"x2\",\"yaxis\":\"y2\"},{\"line\":{\"color\":\"blue\"},\"mode\":\"lines+markers\",\"name\":\"60.0%\",\"showlegend\":false,\"x\":[1,5,10,20,30,40,50,60],\"y\":[1.04326941375,0.8657065636623822,0.8348280327984147,0.8205932388283046,0.8163085146379239,0.8147473196706057,0.8140497210279539,0.8138342030283451],\"type\":\"scatter\",\"xaxis\":\"x3\",\"yaxis\":\"y3\"},{\"line\":{\"color\":\"blue\"},\"mode\":\"lines+markers\",\"name\":\"60.0%\",\"showlegend\":false,\"x\":[1,5,10,20,30,40,50,60],\"y\":[1.3898923224848794,1.0897233522262206,1.0481282050290437,1.0299646881533362,1.0243926499126843,1.0224219680779485,1.0216213590157903,1.0212908947004709],\"type\":\"scatter\",\"xaxis\":\"x4\",\"yaxis\":\"y4\"},{\"line\":{\"color\":\"blue\"},\"mode\":\"lines+markers\",\"name\":\"60.0%\",\"showlegend\":false,\"x\":[1,5,10,20,30,40,50,60],\"y\":[0.3134878302479906,0.009802753240878348,0.000989888870173152,0.0004728641537801514,0.0004728641537801514,0.0004728641537801514,0.0004728641537801514,0.0004728641537801514],\"type\":\"scatter\",\"xaxis\":\"x5\",\"yaxis\":\"y5\"},{\"line\":{\"color\":\"blue\"},\"mode\":\"lines+markers\",\"name\":\"60.0%\",\"showlegend\":false,\"x\":[1,5,10,20,30,40,50,60],\"y\":[0.32346166631520973,0.011192642443769319,0.0009605906033560858,0.0004513456463219163,0.0004513456463219163,0.0004513456463219163,0.0004513456463219163,0.0004513456463219163],\"type\":\"scatter\",\"xaxis\":\"x6\",\"yaxis\":\"y6\"},{\"line\":{\"color\":\"blue\"},\"mode\":\"lines+markers\",\"name\":\"60.0%\",\"showlegend\":false,\"x\":[1,5,10,20,30,40,50,60],\"y\":[0.3147365348862198,0.4772691193375376,0.5076190476190476,0.378989898989899,0.378989898989899,0.378989898989899,0.378989898989899,0.378989898989899],\"type\":\"scatter\",\"xaxis\":\"x7\",\"yaxis\":\"y7\"},{\"line\":{\"color\":\"blue\"},\"mode\":\"lines+markers\",\"name\":\"60.0%\",\"showlegend\":false,\"x\":[1,5,10,20,30,40,50,60],\"y\":[0.32325010780701846,0.47576182153576346,0.5184415584415585,0.39,0.39,0.39,0.39,0.39],\"type\":\"scatter\",\"xaxis\":\"x8\",\"yaxis\":\"y8\"},{\"line\":{\"color\":\"blue\"},\"mode\":\"lines+markers\",\"name\":\"60.0%\",\"showlegend\":false,\"x\":[1,5,10,20,30,40,50,60],\"y\":[0.8650563302965093,0.8933570549314851,0.9030535614871034,0.9075571109639414,0.9092360861034112,0.9091614291366462,0.909274677699747,0.9094465085674625],\"type\":\"scatter\",\"xaxis\":\"x9\",\"yaxis\":\"y9\"},{\"line\":{\"color\":\"blue\"},\"mode\":\"lines+markers\",\"name\":\"60.0%\",\"showlegend\":false,\"x\":[1,5,10,20,30,40,50,60],\"y\":[0.16306407318070662,0.17340213745934355,0.17711672634430983,0.17836900913741244,0.1793025612185467,0.1793662105522402,0.17944054323718422,0.17945127145047787],\"type\":\"scatter\",\"xaxis\":\"x10\",\"yaxis\":\"y10\"}],                        {\"template\":{\"data\":{\"histogram2dcontour\":[{\"type\":\"histogram2dcontour\",\"colorbar\":{\"outlinewidth\":0,\"ticks\":\"\"},\"colorscale\":[[0.0,\"#0d0887\"],[0.1111111111111111,\"#46039f\"],[0.2222222222222222,\"#7201a8\"],[0.3333333333333333,\"#9c179e\"],[0.4444444444444444,\"#bd3786\"],[0.5555555555555556,\"#d8576b\"],[0.6666666666666666,\"#ed7953\"],[0.7777777777777778,\"#fb9f3a\"],[0.8888888888888888,\"#fdca26\"],[1.0,\"#f0f921\"]]}],\"choropleth\":[{\"type\":\"choropleth\",\"colorbar\":{\"outlinewidth\":0,\"ticks\":\"\"}}],\"histogram2d\":[{\"type\":\"histogram2d\",\"colorbar\":{\"outlinewidth\":0,\"ticks\":\"\"},\"colorscale\":[[0.0,\"#0d0887\"],[0.1111111111111111,\"#46039f\"],[0.2222222222222222,\"#7201a8\"],[0.3333333333333333,\"#9c179e\"],[0.4444444444444444,\"#bd3786\"],[0.5555555555555556,\"#d8576b\"],[0.6666666666666666,\"#ed7953\"],[0.7777777777777778,\"#fb9f3a\"],[0.8888888888888888,\"#fdca26\"],[1.0,\"#f0f921\"]]}],\"heatmap\":[{\"type\":\"heatmap\",\"colorbar\":{\"outlinewidth\":0,\"ticks\":\"\"},\"colorscale\":[[0.0,\"#0d0887\"],[0.1111111111111111,\"#46039f\"],[0.2222222222222222,\"#7201a8\"],[0.3333333333333333,\"#9c179e\"],[0.4444444444444444,\"#bd3786\"],[0.5555555555555556,\"#d8576b\"],[0.6666666666666666,\"#ed7953\"],[0.7777777777777778,\"#fb9f3a\"],[0.8888888888888888,\"#fdca26\"],[1.0,\"#f0f921\"]]}],\"heatmapgl\":[{\"type\":\"heatmapgl\",\"colorbar\":{\"outlinewidth\":0,\"ticks\":\"\"},\"colorscale\":[[0.0,\"#0d0887\"],[0.1111111111111111,\"#46039f\"],[0.2222222222222222,\"#7201a8\"],[0.3333333333333333,\"#9c179e\"],[0.4444444444444444,\"#bd3786\"],[0.5555555555555556,\"#d8576b\"],[0.6666666666666666,\"#ed7953\"],[0.7777777777777778,\"#fb9f3a\"],[0.8888888888888888,\"#fdca26\"],[1.0,\"#f0f921\"]]}],\"contourcarpet\":[{\"type\":\"contourcarpet\",\"colorbar\":{\"outlinewidth\":0,\"ticks\":\"\"}}],\"contour\":[{\"type\":\"contour\",\"colorbar\":{\"outlinewidth\":0,\"ticks\":\"\"},\"colorscale\":[[0.0,\"#0d0887\"],[0.1111111111111111,\"#46039f\"],[0.2222222222222222,\"#7201a8\"],[0.3333333333333333,\"#9c179e\"],[0.4444444444444444,\"#bd3786\"],[0.5555555555555556,\"#d8576b\"],[0.6666666666666666,\"#ed7953\"],[0.7777777777777778,\"#fb9f3a\"],[0.8888888888888888,\"#fdca26\"],[1.0,\"#f0f921\"]]}],\"surface\":[{\"type\":\"surface\",\"colorbar\":{\"outlinewidth\":0,\"ticks\":\"\"},\"colorscale\":[[0.0,\"#0d0887\"],[0.1111111111111111,\"#46039f\"],[0.2222222222222222,\"#7201a8\"],[0.3333333333333333,\"#9c179e\"],[0.4444444444444444,\"#bd3786\"],[0.5555555555555556,\"#d8576b\"],[0.6666666666666666,\"#ed7953\"],[0.7777777777777778,\"#fb9f3a\"],[0.8888888888888888,\"#fdca26\"],[1.0,\"#f0f921\"]]}],\"mesh3d\":[{\"type\":\"mesh3d\",\"colorbar\":{\"outlinewidth\":0,\"ticks\":\"\"}}],\"scatter\":[{\"fillpattern\":{\"fillmode\":\"overlay\",\"size\":10,\"solidity\":0.2},\"type\":\"scatter\"}],\"parcoords\":[{\"type\":\"parcoords\",\"line\":{\"colorbar\":{\"outlinewidth\":0,\"ticks\":\"\"}}}],\"scatterpolargl\":[{\"type\":\"scatterpolargl\",\"marker\":{\"colorbar\":{\"outlinewidth\":0,\"ticks\":\"\"}}}],\"bar\":[{\"error_x\":{\"color\":\"#2a3f5f\"},\"error_y\":{\"color\":\"#2a3f5f\"},\"marker\":{\"line\":{\"color\":\"#E5ECF6\",\"width\":0.5},\"pattern\":{\"fillmode\":\"overlay\",\"size\":10,\"solidity\":0.2}},\"type\":\"bar\"}],\"scattergeo\":[{\"type\":\"scattergeo\",\"marker\":{\"colorbar\":{\"outlinewidth\":0,\"ticks\":\"\"}}}],\"scatterpolar\":[{\"type\":\"scatterpolar\",\"marker\":{\"colorbar\":{\"outlinewidth\":0,\"ticks\":\"\"}}}],\"histogram\":[{\"marker\":{\"pattern\":{\"fillmode\":\"overlay\",\"size\":10,\"solidity\":0.2}},\"type\":\"histogram\"}],\"scattergl\":[{\"type\":\"scattergl\",\"marker\":{\"colorbar\":{\"outlinewidth\":0,\"ticks\":\"\"}}}],\"scatter3d\":[{\"type\":\"scatter3d\",\"line\":{\"colorbar\":{\"outlinewidth\":0,\"ticks\":\"\"}},\"marker\":{\"colorbar\":{\"outlinewidth\":0,\"ticks\":\"\"}}}],\"scattermapbox\":[{\"type\":\"scattermapbox\",\"marker\":{\"colorbar\":{\"outlinewidth\":0,\"ticks\":\"\"}}}],\"scatterternary\":[{\"type\":\"scatterternary\",\"marker\":{\"colorbar\":{\"outlinewidth\":0,\"ticks\":\"\"}}}],\"scattercarpet\":[{\"type\":\"scattercarpet\",\"marker\":{\"colorbar\":{\"outlinewidth\":0,\"ticks\":\"\"}}}],\"carpet\":[{\"aaxis\":{\"endlinecolor\":\"#2a3f5f\",\"gridcolor\":\"white\",\"linecolor\":\"white\",\"minorgridcolor\":\"white\",\"startlinecolor\":\"#2a3f5f\"},\"baxis\":{\"endlinecolor\":\"#2a3f5f\",\"gridcolor\":\"white\",\"linecolor\":\"white\",\"minorgridcolor\":\"white\",\"startlinecolor\":\"#2a3f5f\"},\"type\":\"carpet\"}],\"table\":[{\"cells\":{\"fill\":{\"color\":\"#EBF0F8\"},\"line\":{\"color\":\"white\"}},\"header\":{\"fill\":{\"color\":\"#C8D4E3\"},\"line\":{\"color\":\"white\"}},\"type\":\"table\"}],\"barpolar\":[{\"marker\":{\"line\":{\"color\":\"#E5ECF6\",\"width\":0.5},\"pattern\":{\"fillmode\":\"overlay\",\"size\":10,\"solidity\":0.2}},\"type\":\"barpolar\"}],\"pie\":[{\"automargin\":true,\"type\":\"pie\"}]},\"layout\":{\"autotypenumbers\":\"strict\",\"colorway\":[\"#636efa\",\"#EF553B\",\"#00cc96\",\"#ab63fa\",\"#FFA15A\",\"#19d3f3\",\"#FF6692\",\"#B6E880\",\"#FF97FF\",\"#FECB52\"],\"font\":{\"color\":\"#2a3f5f\"},\"hovermode\":\"closest\",\"hoverlabel\":{\"align\":\"left\"},\"paper_bgcolor\":\"white\",\"plot_bgcolor\":\"#E5ECF6\",\"polar\":{\"bgcolor\":\"#E5ECF6\",\"angularaxis\":{\"gridcolor\":\"white\",\"linecolor\":\"white\",\"ticks\":\"\"},\"radialaxis\":{\"gridcolor\":\"white\",\"linecolor\":\"white\",\"ticks\":\"\"}},\"ternary\":{\"bgcolor\":\"#E5ECF6\",\"aaxis\":{\"gridcolor\":\"white\",\"linecolor\":\"white\",\"ticks\":\"\"},\"baxis\":{\"gridcolor\":\"white\",\"linecolor\":\"white\",\"ticks\":\"\"},\"caxis\":{\"gridcolor\":\"white\",\"linecolor\":\"white\",\"ticks\":\"\"}},\"coloraxis\":{\"colorbar\":{\"outlinewidth\":0,\"ticks\":\"\"}},\"colorscale\":{\"sequential\":[[0.0,\"#0d0887\"],[0.1111111111111111,\"#46039f\"],[0.2222222222222222,\"#7201a8\"],[0.3333333333333333,\"#9c179e\"],[0.4444444444444444,\"#bd3786\"],[0.5555555555555556,\"#d8576b\"],[0.6666666666666666,\"#ed7953\"],[0.7777777777777778,\"#fb9f3a\"],[0.8888888888888888,\"#fdca26\"],[1.0,\"#f0f921\"]],\"sequentialminus\":[[0.0,\"#0d0887\"],[0.1111111111111111,\"#46039f\"],[0.2222222222222222,\"#7201a8\"],[0.3333333333333333,\"#9c179e\"],[0.4444444444444444,\"#bd3786\"],[0.5555555555555556,\"#d8576b\"],[0.6666666666666666,\"#ed7953\"],[0.7777777777777778,\"#fb9f3a\"],[0.8888888888888888,\"#fdca26\"],[1.0,\"#f0f921\"]],\"diverging\":[[0,\"#8e0152\"],[0.1,\"#c51b7d\"],[0.2,\"#de77ae\"],[0.3,\"#f1b6da\"],[0.4,\"#fde0ef\"],[0.5,\"#f7f7f7\"],[0.6,\"#e6f5d0\"],[0.7,\"#b8e186\"],[0.8,\"#7fbc41\"],[0.9,\"#4d9221\"],[1,\"#276419\"]]},\"xaxis\":{\"gridcolor\":\"white\",\"linecolor\":\"white\",\"ticks\":\"\",\"title\":{\"standoff\":15},\"zerolinecolor\":\"white\",\"automargin\":true,\"zerolinewidth\":2},\"yaxis\":{\"gridcolor\":\"white\",\"linecolor\":\"white\",\"ticks\":\"\",\"title\":{\"standoff\":15},\"zerolinecolor\":\"white\",\"automargin\":true,\"zerolinewidth\":2},\"scene\":{\"xaxis\":{\"backgroundcolor\":\"#E5ECF6\",\"gridcolor\":\"white\",\"linecolor\":\"white\",\"showbackground\":true,\"ticks\":\"\",\"zerolinecolor\":\"white\",\"gridwidth\":2},\"yaxis\":{\"backgroundcolor\":\"#E5ECF6\",\"gridcolor\":\"white\",\"linecolor\":\"white\",\"showbackground\":true,\"ticks\":\"\",\"zerolinecolor\":\"white\",\"gridwidth\":2},\"zaxis\":{\"backgroundcolor\":\"#E5ECF6\",\"gridcolor\":\"white\",\"linecolor\":\"white\",\"showbackground\":true,\"ticks\":\"\",\"zerolinecolor\":\"white\",\"gridwidth\":2}},\"shapedefaults\":{\"line\":{\"color\":\"#2a3f5f\"}},\"annotationdefaults\":{\"arrowcolor\":\"#2a3f5f\",\"arrowhead\":0,\"arrowwidth\":1},\"geo\":{\"bgcolor\":\"white\",\"landcolor\":\"#E5ECF6\",\"subunitcolor\":\"white\",\"showland\":true,\"showlakes\":true,\"lakecolor\":\"white\"},\"title\":{\"x\":0.05},\"mapbox\":{\"style\":\"light\"}}},\"xaxis\":{\"anchor\":\"y\",\"domain\":[0.0,0.45],\"title\":{\"text\":\"Number of nearest neighbors used (k)\"}},\"yaxis\":{\"anchor\":\"x\",\"domain\":[0.88,1.0],\"title\":{\"text\":\"Actual Coverage\"}},\"xaxis2\":{\"anchor\":\"y2\",\"domain\":[0.55,1.0],\"title\":{\"text\":\"Number of nearest neighbors used (k)\"}},\"yaxis2\":{\"anchor\":\"x2\",\"domain\":[0.88,1.0],\"title\":{\"text\":\"Number of factors\"}},\"xaxis3\":{\"anchor\":\"y3\",\"domain\":[0.0,0.45],\"title\":{\"text\":\"Number of nearest neighbors used (k)\"}},\"yaxis3\":{\"anchor\":\"x3\",\"domain\":[0.66,0.78],\"title\":{\"text\":\"MAE\"}},\"xaxis4\":{\"anchor\":\"y4\",\"domain\":[0.55,1.0],\"title\":{\"text\":\"Number of nearest neighbors used (k)\"}},\"yaxis4\":{\"anchor\":\"x4\",\"domain\":[0.66,0.78],\"title\":{\"text\":\"RMSE\"}},\"xaxis5\":{\"anchor\":\"y5\",\"domain\":[0.0,0.45],\"title\":{\"text\":\"Number of nearest neighbors used (k)\"}},\"yaxis5\":{\"anchor\":\"x5\",\"domain\":[0.44,0.56],\"title\":{\"text\":\"Global Recall\"}},\"xaxis6\":{\"anchor\":\"y6\",\"domain\":[0.55,1.0],\"title\":{\"text\":\"Number of nearest neighbors used (k)\"}},\"yaxis6\":{\"anchor\":\"x6\",\"domain\":[0.44,0.56],\"title\":{\"text\":\"User Averaged Recall\"}},\"xaxis7\":{\"anchor\":\"y7\",\"domain\":[0.0,0.45],\"title\":{\"text\":\"Number of nearest neighbors used (k)\"}},\"yaxis7\":{\"anchor\":\"x7\",\"domain\":[0.22,0.33999999999999997],\"title\":{\"text\":\"Global Precision\"}},\"xaxis8\":{\"anchor\":\"y8\",\"domain\":[0.55,1.0],\"title\":{\"text\":\"Number of nearest neighbors used (k)\"}},\"yaxis8\":{\"anchor\":\"x8\",\"domain\":[0.22,0.33999999999999997],\"title\":{\"text\":\"User Averaged Precision\"}},\"xaxis9\":{\"anchor\":\"y9\",\"domain\":[0.0,0.45],\"title\":{\"text\":\"Number of nearest neighbors used (k)\"}},\"yaxis9\":{\"anchor\":\"x9\",\"domain\":[0.0,0.12],\"title\":{\"text\":\"Recall@K\"}},\"xaxis10\":{\"anchor\":\"y10\",\"domain\":[0.55,1.0],\"title\":{\"text\":\"Number of nearest neighbors used (k)\"}},\"yaxis10\":{\"anchor\":\"x10\",\"domain\":[0.0,0.12],\"title\":{\"text\":\"Precision@K\"}},\"annotations\":[{\"font\":{\"size\":16},\"showarrow\":false,\"text\":\"Actual Coverage\",\"x\":0.225,\"xanchor\":\"center\",\"xref\":\"paper\",\"y\":1.0,\"yanchor\":\"bottom\",\"yref\":\"paper\"},{\"font\":{\"size\":16},\"showarrow\":false,\"text\":\"Number of factors\",\"x\":0.775,\"xanchor\":\"center\",\"xref\":\"paper\",\"y\":1.0,\"yanchor\":\"bottom\",\"yref\":\"paper\"},{\"font\":{\"size\":16},\"showarrow\":false,\"text\":\"MAE\",\"x\":0.225,\"xanchor\":\"center\",\"xref\":\"paper\",\"y\":0.78,\"yanchor\":\"bottom\",\"yref\":\"paper\"},{\"font\":{\"size\":16},\"showarrow\":false,\"text\":\"RMSE\",\"x\":0.775,\"xanchor\":\"center\",\"xref\":\"paper\",\"y\":0.78,\"yanchor\":\"bottom\",\"yref\":\"paper\"},{\"font\":{\"size\":16},\"showarrow\":false,\"text\":\"Global Recall\",\"x\":0.225,\"xanchor\":\"center\",\"xref\":\"paper\",\"y\":0.56,\"yanchor\":\"bottom\",\"yref\":\"paper\"},{\"font\":{\"size\":16},\"showarrow\":false,\"text\":\"User Averaged Recall\",\"x\":0.775,\"xanchor\":\"center\",\"xref\":\"paper\",\"y\":0.56,\"yanchor\":\"bottom\",\"yref\":\"paper\"},{\"font\":{\"size\":16},\"showarrow\":false,\"text\":\"Global Precision\",\"x\":0.225,\"xanchor\":\"center\",\"xref\":\"paper\",\"y\":0.33999999999999997,\"yanchor\":\"bottom\",\"yref\":\"paper\"},{\"font\":{\"size\":16},\"showarrow\":false,\"text\":\"User Averaged Precision\",\"x\":0.775,\"xanchor\":\"center\",\"xref\":\"paper\",\"y\":0.33999999999999997,\"yanchor\":\"bottom\",\"yref\":\"paper\"},{\"font\":{\"size\":16},\"showarrow\":false,\"text\":\"Recall@K\",\"x\":0.225,\"xanchor\":\"center\",\"xref\":\"paper\",\"y\":0.12,\"yanchor\":\"bottom\",\"yref\":\"paper\"},{\"font\":{\"size\":16},\"showarrow\":false,\"text\":\"Precision@K\",\"x\":0.775,\"xanchor\":\"center\",\"xref\":\"paper\",\"y\":0.12,\"yanchor\":\"bottom\",\"yref\":\"paper\"}],\"legend\":{\"title\":{\"text\":\"Rating Coverage Level\"}},\"height\":2000},                        {\"responsive\": true}                    ).then(function(){\n",
       "                            \n",
       "var gd = document.getElementById('5ad809a5-2379-400a-a7e0-74fea6f0f519');\n",
       "var x = new MutationObserver(function (mutations, observer) {{\n",
       "        var display = window.getComputedStyle(gd).display;\n",
       "        if (!display || display === 'none') {{\n",
       "            console.log([gd, 'removed!']);\n",
       "            Plotly.purge(gd);\n",
       "            observer.disconnect();\n",
       "        }}\n",
       "}});\n",
       "\n",
       "// Listen for the removal of the full notebook cells\n",
       "var notebookContainer = gd.closest('#notebook-container');\n",
       "if (notebookContainer) {{\n",
       "    x.observe(notebookContainer, {childList: true});\n",
       "}}\n",
       "\n",
       "// Listen for the clearing of the current output cell\n",
       "var outputEl = gd.closest('.output');\n",
       "if (outputEl) {{\n",
       "    x.observe(outputEl, {childList: true});\n",
       "}}\n",
       "\n",
       "                        })                };                });            </script>        </div>"
      ]
     },
     "metadata": {},
     "output_type": "display_data"
    }
   ],
   "source": [
    "from plotly.subplots import make_subplots\n",
    "import plotly.graph_objects as go\n",
    "\n",
    "fig = make_subplots(rows=5, cols=2, subplot_titles=(\n",
    "        'Actual Coverage', 'Number of factors', \n",
    "        'MAE', 'RMSE',\n",
    "        'Global Recall', 'User Averaged Recall',\n",
    "        'Global Precision', 'User Averaged Precision',\n",
    "        'Recall@K', 'Precision@K',\n",
    "        ))\n",
    "\n",
    "fig.update_xaxes(title_text='Number of nearest neighbors used (k)')\n",
    "\n",
    "fig.update_yaxes(title_text='Actual Coverage', row=1, col=1)\n",
    "fig.update_yaxes(title_text='Number of factors', row=1, col=2)\n",
    "\n",
    "fig.update_yaxes(title_text='MAE', row=2, col=1)\n",
    "fig.update_yaxes(title_text='RMSE', row=2, col=2)\n",
    "\n",
    "fig.update_yaxes(title_text='Global Recall', row=3, col=1)\n",
    "fig.update_yaxes(title_text='User Averaged Recall', row=3, col=2)\n",
    "\n",
    "fig.update_yaxes(title_text='Global Precision', row=4, col=1)\n",
    "fig.update_yaxes(title_text='User Averaged Precision', row=4, col=2)\n",
    "\n",
    "fig.update_yaxes(title_text='Recall@K', row=5, col=1)\n",
    "fig.update_yaxes(title_text='Precision@K', row=5, col=2)\n",
    "\n",
    "fig.update_layout(legend_title_text='Rating Coverage Level', height=2000)\n",
    "\n",
    "line_color = {1.0: dict(color='red'), 0.8: dict(color='green'),0.6: dict(color='blue'),}\n",
    "\n",
    "for coverage in coverages:\n",
    "\n",
    "    name_string = f\"{coverage*100}%\"\n",
    "\n",
    "    fig.add_trace(go.Scatter(x=ks, y=actual_coverages_curves[coverage], mode='lines+markers', name=name_string, line=line_color[coverage], showlegend=True), row=1, col=1)\n",
    "    fig.add_trace(go.Scatter(x=ks, y=numbers_of_factors_curves[coverage], mode='lines+markers', name=name_string, line=line_color[coverage], showlegend=False), row=1, col=2)\n",
    "\n",
    "    fig.add_trace(go.Scatter(x=ks, y=mae_curves[coverage], mode='lines+markers', name=name_string, line=line_color[coverage], showlegend=False), row=2, col=1)\n",
    "    fig.add_trace(go.Scatter(x=ks, y=rmse_curves[coverage], mode='lines+markers', name=name_string, line=line_color[coverage], showlegend=False), row=2, col=2)\n",
    "\n",
    "    fig.add_trace(go.Scatter(x=ks, y=global_recall_curves[coverage], mode='lines+markers', name=name_string, line=line_color[coverage], showlegend=False), row=3, col=1)\n",
    "    fig.add_trace(go.Scatter(x=ks, y=user_averaged_recall_curves[coverage], mode='lines+markers', name=name_string, line=line_color[coverage], showlegend=False), row=3, col=2)\n",
    "\n",
    "    fig.add_trace(go.Scatter(x=ks, y=global_precision_curves[coverage], mode='lines+markers', name=name_string, line=line_color[coverage], showlegend=False), row=4, col=1)\n",
    "    fig.add_trace(go.Scatter(x=ks, y=user_averaged_precision_curves[coverage], mode='lines+markers', name=name_string, line=line_color[coverage], showlegend=False), row=4, col=2)\n",
    "\n",
    "    fig.add_trace(go.Scatter(x=ks, y=recalls_at_k_curve[coverage], mode='lines+markers', name=name_string, line=line_color[coverage], showlegend=False), row=5, col=1)\n",
    "    fig.add_trace(go.Scatter(x=ks, y=precisions_at_k_curve[coverage], mode='lines+markers', name=name_string, line=line_color[coverage], showlegend=False), row=5, col=2)\n",
    "\n",
    "\n",
    "fig.show()\n",
    "\n",
    "\n",
    "\n",
    "# results[coverage][k]['actual_coverages'].append(result['actual_coverage'])\n",
    "# results[coverage][k]['numbers_of_factors'].append(result['number_of_factors'])\n",
    "# results[coverage][k]['maes'].append(result['mae'])\n",
    "# results[coverage][k]['rmses'].append(result['rmse'])\n",
    "# results[coverage][k]['recalls'].append(result['recall'])\n",
    "# results[coverage][k]['precisions'].append(result['precision'])\n",
    "# results[coverage][k]['f1s'].append(result['f1'])"
   ]
  }
 ],
 "metadata": {
  "kernelspec": {
   "display_name": "Python 3 (ipykernel)",
   "language": "python",
   "name": "python3"
  },
  "orig_nbformat": 4,
  "vscode": {
   "interpreter": {
    "hash": "916dbcbb3f70747c44a77c7bcd40155683ae19c65e1c03b4aa3499c5328201f1"
   }
  }
 },
 "nbformat": 4,
 "nbformat_minor": 2
}
