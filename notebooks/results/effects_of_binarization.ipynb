{
 "cells": [
  {
   "cell_type": "markdown",
   "metadata": {},
   "source": [
    "# Effects of Dataset Binarization on a Recommender's MAE\n",
    "\n",
    "In this notebook we will explore the effects of binarizing the dataset on the MAE of a recommender system. Since pattern mining algorithms are not able to deal with continuous values, we will use the binarized dataset to mine the patterns and then use the patterns to predict the ratings of the original dataset. Different binarization thresholds will be tested to determine its effects on the MAE of the recommender system.\n",
    "\n",
    "The binarization threshold determines the minimum rating value that will be considered as a positive rating. For example, if the threshold is 3, then all ratings greater than or equal to 3 will be considered as positive ratings, while all ratings less than 3 will be considered as negative ratings. This means that the binarization threshold will determine the number of positive ratings in the dataset. The higher the threshold, the less positive ratings there will be in the dataset.\n",
    "\n",
    "Copyright 2022 Bernardo C. Rodrigues\n",
    "\n",
    "See COPYING file for license details"
   ]
  },
  {
   "cell_type": "code",
   "execution_count": null,
   "metadata": {},
   "outputs": [],
   "source": [
    "# Determine the number of concepts for different binarization thresholds\n",
    "\n",
    "import pandas as pd\n",
    "from surprise import Dataset\n",
    "from dataset.binary_dataset import BinaryDataset\n",
    "from fca.formal_concept_analysis import GreConD\n",
    "\n",
    "dataset = Dataset.load_builtin(\"ml-100k\", prompt=False)\n",
    "trainset = dataset.build_full_trainset()\n",
    "\n",
    "results = []\n",
    "\n",
    "for threshold in range(1, 6):\n",
    "    binary_dataset = BinaryDataset.load_from_trainset(trainset, threshold=threshold)\n",
    "    concepts, _ = GreConD(binary_dataset)\n",
    "\n",
    "    result = [threshold, binary_dataset.number_of_trues, binary_dataset.sparsity, len(concepts)]\n",
    "    results.append(result)\n",
    "\n",
    "pd.DataFrame(results, columns=[\"Threshold\", \"# of True's\", \"Sparsity\", \"# of Concepts\"])"
   ]
  },
  {
   "cell_type": "code",
   "execution_count": null,
   "metadata": {},
   "outputs": [],
   "source": [
    "# Generate some predictions\n",
    "from surprise.model_selection import KFold\n",
    "\n",
    "# Lets create a 80% train / 20% test ratio\n",
    "kf = KFold(n_splits=5)\n",
    "fold_generator = kf.split(dataset)\n",
    "trainset, testset = next(fold_generator)"
   ]
  },
  {
   "cell_type": "code",
   "execution_count": null,
   "metadata": {},
   "outputs": [],
   "source": [
    "from itertools import product\n",
    "from surprise.accuracy import mae, rmse\n",
    "from recommenders.grecond_recommender import GreConDRecommender\n",
    "\n",
    "thresholds = [1, 2, 3, 4, 5]\n",
    "ks = [1, 5, 10, 20, 30, 50, 60]\n",
    "coverages = [0.6, 0.8, 1.0]\n",
    "results = []\n",
    "\n",
    "for threshold, k, coverage in product(thresholds, ks, coverages):\n",
    "    algo = GreConDRecommender(\n",
    "        knn_k=k, grecond_coverage=coverage, dataset_binarization_threshold=threshold\n",
    "    )\n",
    "    algo.fit(trainset)\n",
    "\n",
    "    predictions = algo.test(testset)\n",
    "\n",
    "    result = [threshold, k, coverage, mae(predictions=predictions, verbose=False)]\n",
    "    results.append(result)\n",
    "\n",
    "results = pd.DataFrame(results, columns=[\"threshold\", \"k\", \"coverage\", \"mae\"])"
   ]
  },
  {
   "cell_type": "code",
   "execution_count": null,
   "metadata": {},
   "outputs": [],
   "source": [
    "import plotly.express as px\n",
    "\n",
    "fig = px.scatter_3d(results, x='threshold', y='k', z='coverage', color='mae')\n",
    "fig.show()"
   ]
  }
 ],
 "metadata": {
  "kernelspec": {
   "display_name": "Python 3 (ipykernel)",
   "language": "python",
   "name": "python3"
  },
  "language_info": {
   "codemirror_mode": {
    "name": "ipython",
    "version": 3
   },
   "file_extension": ".py",
   "mimetype": "text/x-python",
   "name": "python",
   "nbconvert_exporter": "python",
   "pygments_lexer": "ipython3",
   "version": "3.8.10"
  },
  "orig_nbformat": 4,
  "vscode": {
   "interpreter": {
    "hash": "916dbcbb3f70747c44a77c7bcd40155683ae19c65e1c03b4aa3499c5328201f1"
   }
  }
 },
 "nbformat": 4,
 "nbformat_minor": 2
}
