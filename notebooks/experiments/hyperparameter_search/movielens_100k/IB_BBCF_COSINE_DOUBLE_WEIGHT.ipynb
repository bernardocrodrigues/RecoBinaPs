{
 "cells": [
  {
   "cell_type": "code",
   "execution_count": 1,
   "metadata": {},
   "outputs": [],
   "source": [
    "# Setup notebook\n",
    "import random\n",
    "import numpy as np\n",
    "import evaluation.plot as plot\n",
    "\n",
    "# Load the autoreload extension\n",
    "%load_ext autoreload\n",
    "\n",
    "# Set autoreload to reload all modules every time a cell is executed\n",
    "%autoreload 2\n",
    "\n",
    "# Call the function to customize the default template\n",
    "plot.customize_default_template()\n",
    "\n",
    "seed = 0\n",
    "random.seed(seed)\n",
    "np.random.seed(seed)"
   ]
  },
  {
   "cell_type": "code",
   "execution_count": 2,
   "metadata": {},
   "outputs": [
    {
     "name": "stdout",
     "output_type": "stream",
     "text": [
      "Already downloaded!. Nothing to do.\n"
     ]
    }
   ],
   "source": [
    "from dataset.common import resolve_folds\n",
    "from dataset.movie_lens import load_ml_100k_folds\n",
    "\n",
    "data, k_fold = load_ml_100k_folds()\n",
    "folds = resolve_folds(data, k_fold)\n",
    "\n",
    "folds_without_index = [fold[1] for fold in folds]"
   ]
  },
  {
   "cell_type": "code",
   "execution_count": 3,
   "metadata": {},
   "outputs": [],
   "source": [
    "from evaluation.strategies import (\n",
    "    MAEStrategy,\n",
    "    RMSEStrategy,\n",
    "    MicroAveragedRecallStrategy,\n",
    "    MacroAveragedRecallStrategy,\n",
    "    RecallAtKStrategy,\n",
    "    MicroAveragedPrecisionStrategy,\n",
    "    MacroAveragedPrecisionStrategy,\n",
    "    PrecisionAtKStrategy,\n",
    "    NDCGStrategy,\n",
    "    F1ScoreStrategy,\n",
    "    PredictionCoverageStrategy,\n",
    "    BiclusterCountStrategy,\n",
    "    MeanBiclusterSizeStrategy,\n",
    "    MeanBiclusterIntentStrategy,\n",
    "    MeanBiclusterExtentStrategy,\n",
    "    ItemCoverage,\n",
    "    UserCoverage,\n",
    ")\n",
    "\n",
    "train_measures = [\n",
    "    BiclusterCountStrategy(),\n",
    "    MeanBiclusterSizeStrategy(),\n",
    "    MeanBiclusterIntentStrategy(),\n",
    "    MeanBiclusterExtentStrategy(),\n",
    "    ItemCoverage(),\n",
    "    UserCoverage(),\n",
    "]\n",
    "\n",
    "test_measures = [\n",
    "    MAEStrategy(verbose=False),\n",
    "    RMSEStrategy(verbose=False),\n",
    "    MicroAveragedRecallStrategy(threshold=4.0),\n",
    "    MacroAveragedRecallStrategy(threshold=4.0),\n",
    "    RecallAtKStrategy(k=20, threshold=4.0),\n",
    "    MicroAveragedPrecisionStrategy(threshold=4.0),\n",
    "    MacroAveragedPrecisionStrategy(threshold=4.0),\n",
    "    PrecisionAtKStrategy(k=20, threshold=4.0),\n",
    "    NDCGStrategy(k=20, threshold=4.0),\n",
    "    F1ScoreStrategy(k=20, threshold=4.0),\n",
    "    PredictionCoverageStrategy(),\n",
    "]"
   ]
  },
  {
   "cell_type": "code",
   "execution_count": 4,
   "metadata": {},
   "outputs": [
    {
     "name": "stderr",
     "output_type": "stream",
     "text": [
      "2024-07-03 00:22:35,586 - recommenders - INFO - Forcing Numba compilation...\n",
      "2024-07-03 00:22:40,195 - recommenders - INFO - Forcing Numba compilation OK\n"
     ]
    },
    {
     "name": "stdout",
     "output_type": "stream",
     "text": [
      "Completed 384/384 | Avg. time/task: 0m 56.5s | Time left: 0m 0.0s | Estimated completion time: 21:22:40690\n",
      "All tasks completed.\n",
      "Total time: 6h 1m 44.1s\r"
     ]
    }
   ],
   "source": [
    "from pattern_mining.strategies import QUBIC2Strategy\n",
    "from recommenders.BBCF import BBCF\n",
    "from recommenders.common import double_weight_frequency\n",
    "from evaluation.benchmark import GridSearch, generate_parameter_combinations\n",
    "\n",
    "\n",
    "qubic_parameters_grid = {\n",
    "    \"bicluster_number\": [100000],\n",
    "    \"max_overlap\": [0.35, 0.75, 1.0],\n",
    "    \"consistency\": [0.75, 1.0],\n",
    "    \"minimum_column_width\": [5, 20, 50, 100],\n",
    "}\n",
    "\n",
    "qubic_strategies = [\n",
    "    QUBIC2Strategy(**named_parameters)\n",
    "    for named_parameters in generate_parameter_combinations(qubic_parameters_grid)\n",
    "]\n",
    "\n",
    "parameters_grid = {\n",
    "    \"mining_strategy\": qubic_strategies,\n",
    "    \"knn_type\": [\"item\"],\n",
    "    \"number_of_top_k_biclusters\": [10, 50, 100, 200],\n",
    "    \"bicluster_similarity_strategy\": [double_weight_frequency],\n",
    "    \"knn_k\": [20, 50, 100, 200],\n",
    "}\n",
    "\n",
    "grid_search = GridSearch(\n",
    "    BBCF,\n",
    "    parameters_grid,\n",
    "    test_measures,\n",
    "    train_measures,\n",
    "    max_workers=16,\n",
    ")\n",
    "\n",
    "from numba.core.errors import NumbaWarning\n",
    "import warnings\n",
    "\n",
    "\n",
    "with warnings.catch_warnings():\n",
    "    warnings.simplefilter(\"ignore\", category=NumbaWarning)\n",
    "    best, ordering, raw = grid_search.fit(folds_without_index)"
   ]
  },
  {
   "cell_type": "code",
   "execution_count": 5,
   "metadata": {},
   "outputs": [
    {
     "ename": "",
     "evalue": "",
     "output_type": "error",
     "traceback": [
      "\u001b[1;31mThe Kernel crashed while executing code in the current cell or a previous cell. \n",
      "\u001b[1;31mPlease review the code in the cell(s) to identify a possible cause of the failure. \n",
      "\u001b[1;31mClick <a href='https://aka.ms/vscodeJupyterKernelCrash'>here</a> for more info. \n",
      "\u001b[1;31mView Jupyter <a href='command:jupyter.viewOutput'>log</a> for further details."
     ]
    }
   ],
   "source": [
    "import json\n",
    "from evaluation.benchmark import FallbackEncoder\n",
    "\n",
    "with open('IB_BBCF_COSINE_DOUBLE_WEIGHT_grid_best.results', 'w') as file_object:\n",
    "    json.dump(best, file_object, indent=4, cls=FallbackEncoder)\n",
    "\n",
    "with open('IB_BBCF_COSINE_DOUBLE_WEIGHT_grid_ordering.results', 'w') as file_object:\n",
    "    json.dump(ordering, file_object, indent=4, cls=FallbackEncoder)\n",
    "\n",
    "with open('IB_BBCF_COSINE_DOUBLE_WEIGHT_grid_raw.results', 'w') as file_object:\n",
    "    json.dump(raw, file_object, indent=4, cls=FallbackEncoder)"
   ]
  }
 ],
 "metadata": {
  "kernelspec": {
   "display_name": "recommender",
   "language": "python",
   "name": "recommender"
  }
 },
 "nbformat": 4,
 "nbformat_minor": 2
}
