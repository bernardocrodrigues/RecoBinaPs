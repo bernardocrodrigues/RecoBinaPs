{
 "cells": [
  {
   "cell_type": "code",
   "execution_count": 2,
   "metadata": {},
   "outputs": [],
   "source": [
    "# Setup notebook\n",
    "import random\n",
    "import numpy as np\n",
    "import evaluation.plot as plot\n",
    "\n",
    "# Load the autoreload extension\n",
    "%load_ext autoreload\n",
    "\n",
    "# Set autoreload to reload all modules every time a cell is executed\n",
    "%autoreload 2\n",
    "\n",
    "# Call the function to customize the default template\n",
    "plot.customize_default_template()\n",
    "\n",
    "seed = 0\n",
    "random.seed(seed)\n",
    "np.random.seed(seed)"
   ]
  },
  {
   "cell_type": "code",
   "execution_count": 3,
   "metadata": {},
   "outputs": [
    {
     "name": "stdout",
     "output_type": "stream",
     "text": [
      "Already downloaded!. Nothing to do.\n"
     ]
    }
   ],
   "source": [
    "from dataset.common import resolve_folds\n",
    "from dataset.movie_lens import load_ml_100k_folds\n",
    "\n",
    "data, k_fold = load_ml_100k_folds()\n",
    "folds = resolve_folds(data, k_fold)\n",
    "\n",
    "folds_without_index = [fold[1] for fold in folds]"
   ]
  },
  {
   "cell_type": "code",
   "execution_count": 3,
   "metadata": {},
   "outputs": [],
   "source": [
    "from evaluation.strategies import (\n",
    "    MAEStrategy,\n",
    "    RMSEStrategy,\n",
    "    MicroAveragedRecallStrategy,\n",
    "    MacroAveragedRecallStrategy,\n",
    "    RecallAtKStrategy,\n",
    "    MicroAveragedPrecisionStrategy,\n",
    "    MacroAveragedPrecisionStrategy,\n",
    "    PrecisionAtKStrategy,\n",
    "    NDCGStrategy,\n",
    "    F1ScoreStrategy,\n",
    "    PredictionCoverageStrategy,\n",
    "    BiclusterCountStrategy,\n",
    "    MeanBiclusterSizeStrategy,\n",
    "    MeanBiclusterIntentStrategy,\n",
    "    MeanBiclusterExtentStrategy,\n",
    "    ItemCoverage,\n",
    "    UserCoverage,\n",
    ")\n",
    "\n",
    "train_measures = [\n",
    "    BiclusterCountStrategy(),\n",
    "    MeanBiclusterSizeStrategy(),\n",
    "    MeanBiclusterIntentStrategy(),\n",
    "    MeanBiclusterExtentStrategy(),\n",
    "    ItemCoverage(),\n",
    "    UserCoverage(),\n",
    "]\n",
    "\n",
    "test_measures = [\n",
    "    MAEStrategy(verbose=False),\n",
    "    RMSEStrategy(verbose=False),\n",
    "    MicroAveragedRecallStrategy(threshold=4.0),\n",
    "    MacroAveragedRecallStrategy(threshold=4.0),\n",
    "    RecallAtKStrategy(k=20, threshold=4.0),\n",
    "    MicroAveragedPrecisionStrategy(threshold=4.0),\n",
    "    MacroAveragedPrecisionStrategy(threshold=4.0),\n",
    "    PrecisionAtKStrategy(k=20, threshold=4.0),\n",
    "    NDCGStrategy(k=20, threshold=4.0),\n",
    "    F1ScoreStrategy(k=20, threshold=4.0),\n",
    "    PredictionCoverageStrategy(),\n",
    "]"
   ]
  },
  {
   "cell_type": "code",
   "execution_count": 1,
   "metadata": {},
   "outputs": [
    {
     "ename": "NameError",
     "evalue": "name 'test_measures' is not defined",
     "output_type": "error",
     "traceback": [
      "\u001b[0;31m---------------------------------------------------------------------------\u001b[0m",
      "\u001b[0;31mNameError\u001b[0m                                 Traceback (most recent call last)",
      "Cell \u001b[0;32mIn[1], line 29\u001b[0m\n\u001b[1;32m     14\u001b[0m qubic_strategies \u001b[38;5;241m=\u001b[39m [\n\u001b[1;32m     15\u001b[0m     QUBIC2Strategy(\u001b[38;5;241m*\u001b[39m\u001b[38;5;241m*\u001b[39mnamed_parameters) \u001b[38;5;28;01mfor\u001b[39;00m named_parameters \u001b[38;5;129;01min\u001b[39;00m expand_grid(qubic_parameters_grid)\n\u001b[1;32m     16\u001b[0m ]\n\u001b[1;32m     18\u001b[0m parameters_grid \u001b[38;5;241m=\u001b[39m {\n\u001b[1;32m     19\u001b[0m     \u001b[38;5;124m\"\u001b[39m\u001b[38;5;124mmining_strategy\u001b[39m\u001b[38;5;124m\"\u001b[39m: qubic_strategies,\n\u001b[1;32m     20\u001b[0m     \u001b[38;5;124m\"\u001b[39m\u001b[38;5;124mknn_type\u001b[39m\u001b[38;5;124m\"\u001b[39m: [\u001b[38;5;124m\"\u001b[39m\u001b[38;5;124mitem\u001b[39m\u001b[38;5;124m\"\u001b[39m],\n\u001b[0;32m   (...)\u001b[0m\n\u001b[1;32m     23\u001b[0m     \u001b[38;5;124m\"\u001b[39m\u001b[38;5;124mknn_k\u001b[39m\u001b[38;5;124m\"\u001b[39m: [\u001b[38;5;241m20\u001b[39m, \u001b[38;5;241m50\u001b[39m, \u001b[38;5;241m100\u001b[39m, \u001b[38;5;241m200\u001b[39m],\n\u001b[1;32m     24\u001b[0m }\n\u001b[1;32m     26\u001b[0m grid_search \u001b[38;5;241m=\u001b[39m GridSearch(\n\u001b[1;32m     27\u001b[0m     BBCF,\n\u001b[1;32m     28\u001b[0m     parameters_grid,\n\u001b[0;32m---> 29\u001b[0m     \u001b[43mtest_measures\u001b[49m,\n\u001b[1;32m     30\u001b[0m     train_measures,\n\u001b[1;32m     31\u001b[0m     max_workers\u001b[38;5;241m=\u001b[39m\u001b[38;5;241m16\u001b[39m,\n\u001b[1;32m     32\u001b[0m )\n\u001b[1;32m     34\u001b[0m \u001b[38;5;28;01mfrom\u001b[39;00m \u001b[38;5;21;01mnumba\u001b[39;00m\u001b[38;5;21;01m.\u001b[39;00m\u001b[38;5;21;01mcore\u001b[39;00m\u001b[38;5;21;01m.\u001b[39;00m\u001b[38;5;21;01merrors\u001b[39;00m \u001b[38;5;28;01mimport\u001b[39;00m NumbaWarning\n\u001b[1;32m     35\u001b[0m \u001b[38;5;28;01mimport\u001b[39;00m \u001b[38;5;21;01mwarnings\u001b[39;00m\n",
      "\u001b[0;31mNameError\u001b[0m: name 'test_measures' is not defined"
     ]
    }
   ],
   "source": [
    "from pattern_mining.strategies import QUBIC2Strategy\n",
    "from recommenders.BBCF import BBCF\n",
    "from recommenders.common import weight_frequency\n",
    "from evaluation.benchmark import GridSearch, expand_grid\n",
    "\n",
    "\n",
    "qubic_parameters_grid = {\n",
    "    \"bicluster_number\": [100000],\n",
    "    \"max_overlap\": [0.35, 0.75, 1.0],\n",
    "    \"consistency\": [0.75, 1.0],\n",
    "    \"minimum_column_width\": [5, 20, 50, 100],\n",
    "}\n",
    "\n",
    "qubic_strategies = [\n",
    "    QUBIC2Strategy(**named_parameters) for named_parameters in expand_grid(qubic_parameters_grid)\n",
    "]\n",
    "\n",
    "parameters_grid = {\n",
    "    \"mining_strategy\": qubic_strategies,\n",
    "    \"knn_type\": [\"item\"],\n",
    "    \"number_of_top_k_biclusters\": [10, 50, 100, 200],\n",
    "    \"bicluster_similarity_strategy\": [weight_frequency],\n",
    "    \"knn_k\": [20, 50, 100, 200],\n",
    "}\n",
    "\n",
    "grid_search = GridSearch(\n",
    "    BBCF,\n",
    "    parameters_grid,\n",
    "    test_measures,\n",
    "    train_measures,\n",
    "    max_workers=16,\n",
    ")\n",
    "\n",
    "from numba.core.errors import NumbaWarning\n",
    "import warnings\n",
    "\n",
    "\n",
    "with warnings.catch_warnings():\n",
    "    warnings.simplefilter('ignore', category=NumbaWarning)\n",
    "    best, ordering, raw = grid_search.fit(folds_without_index)"
   ]
  },
  {
   "cell_type": "code",
   "execution_count": null,
   "metadata": {},
   "outputs": [],
   "source": [
    "print(raw)"
   ]
  },
  {
   "cell_type": "code",
   "execution_count": null,
   "metadata": {},
   "outputs": [],
   "source": [
    "import json\n",
    "from evaluation.benchmark import FallbackEncoder\n",
    "\n",
    "with open('IB_BBCF_VANILLA_grid_best.results', 'w') as file_object:\n",
    "    json.dump(best, file_object, indent=4, cls=FallbackEncoder)\n",
    "\n",
    "with open('IB_BBCF_VANILLA_grid_ordering.results', 'w') as file_object:\n",
    "    json.dump(ordering, file_object, indent=4, cls=FallbackEncoder)\n",
    "\n",
    "with open('IB_BBCF_VANILLA_grid_raw.results', 'w') as file_object:\n",
    "    json.dump(raw, file_object, indent=4, cls=FallbackEncoder)"
   ]
  }
 ],
 "metadata": {
  "kernelspec": {
   "display_name": "recommender",
   "language": "python",
   "name": "recommender"
  },
  "language_info": {
   "codemirror_mode": {
    "name": "ipython",
    "version": 3
   },
   "file_extension": ".py",
   "mimetype": "text/x-python",
   "name": "python",
   "nbconvert_exporter": "python",
   "pygments_lexer": "ipython3",
   "version": "3.10.12"
  }
 },
 "nbformat": 4,
 "nbformat_minor": 2
}
