{
 "cells": [
  {
   "cell_type": "code",
   "execution_count": 2,
   "metadata": {},
   "outputs": [],
   "source": [
    "# Setup notebook\n",
    "import random\n",
    "import numpy as np\n",
    "\n",
    "# Load the autoreload extension\n",
    "%load_ext autoreload\n",
    "\n",
    "# Set autoreload to reload all modules every time a cell is executed\n",
    "%autoreload 2\n",
    "\n",
    "seed = 0\n",
    "random.seed(seed)\n",
    "np.random.seed(seed)"
   ]
  },
  {
   "cell_type": "code",
   "execution_count": 3,
   "metadata": {},
   "outputs": [
    {
     "name": "stdout",
     "output_type": "stream",
     "text": [
      "Already downloaded!. Nothing to do.\n"
     ]
    }
   ],
   "source": [
    "from dataset.common import resolve_folds\n",
    "from dataset.movie_lens import load_ml_100k_folds\n",
    "\n",
    "data, k_fold = load_ml_100k_folds()\n",
    "folds = resolve_folds(data, k_fold)\n",
    "\n",
    "folds_without_index = [fold[1] for fold in folds]"
   ]
  },
  {
   "cell_type": "code",
   "execution_count": 4,
   "metadata": {},
   "outputs": [],
   "source": [
    "from evaluation.strategies import (\n",
    "    MAEStrategy,\n",
    "    RMSEStrategy,\n",
    "    MicroAveragedRecallStrategy,\n",
    "    MacroAveragedRecallStrategy,\n",
    "    RecallAtKStrategy,\n",
    "    MicroAveragedPrecisionStrategy,\n",
    "    MacroAveragedPrecisionStrategy,\n",
    "    PrecisionAtKStrategy,\n",
    "    NDCGStrategy,\n",
    "    F1ScoreStrategy,\n",
    "    PredictionCoverageStrategy,\n",
    "    BiclusterCountStrategy,\n",
    "    MeanBiclusterSizeStrategy,\n",
    "    MeanBiclusterIntentStrategy,\n",
    "    MeanBiclusterExtentStrategy,\n",
    "    ItemCoverage,\n",
    "    UserCoverage,\n",
    ")\n",
    "\n",
    "train_measures = [\n",
    "    BiclusterCountStrategy(),\n",
    "    MeanBiclusterSizeStrategy(),\n",
    "    MeanBiclusterIntentStrategy(),\n",
    "    MeanBiclusterExtentStrategy(),\n",
    "    ItemCoverage(),\n",
    "    UserCoverage(),\n",
    "]\n",
    "\n",
    "test_measures = [\n",
    "    MAEStrategy(verbose=False),\n",
    "    RMSEStrategy(verbose=False),\n",
    "    MicroAveragedRecallStrategy(threshold=4.0),\n",
    "    MacroAveragedRecallStrategy(threshold=4.0),\n",
    "    RecallAtKStrategy(k=20, threshold=4.0),\n",
    "    MicroAveragedPrecisionStrategy(threshold=4.0),\n",
    "    MacroAveragedPrecisionStrategy(threshold=4.0),\n",
    "    PrecisionAtKStrategy(k=20, threshold=4.0),\n",
    "    NDCGStrategy(k=20, threshold=4.0),\n",
    "    F1ScoreStrategy(k=20, threshold=4.0),\n",
    "    PredictionCoverageStrategy(),\n",
    "]"
   ]
  },
  {
   "cell_type": "code",
   "execution_count": 5,
   "metadata": {},
   "outputs": [
    {
     "name": "stderr",
     "output_type": "stream",
     "text": [
      "/home/brodrigues/Projects/RecoBinaPs/recommenders/BBCF.py:257: RuntimeWarning: divide by zero encountered in scalar divide\n",
      "  prediction += sum_ratings / sum_similarities\n",
      "/home/brodrigues/Projects/RecoBinaPs/recommenders/BBCF.py:257: RuntimeWarning: divide by zero encountered in scalar divide\n",
      "  prediction += sum_ratings / sum_similarities\n",
      "/home/brodrigues/Projects/RecoBinaPs/recommenders/BBCF.py:257: RuntimeWarning: divide by zero encountered in scalar divide\n",
      "  prediction += sum_ratings / sum_similarities\n"
     ]
    },
    {
     "name": "stdout",
     "output_type": "stream",
     "text": [
      "Completed 4/288 | Avg. time/task: 0m 28.4s | Time left: 134m 12.8s | Estimated completion time: 20:50:43\r"
     ]
    },
    {
     "name": "stderr",
     "output_type": "stream",
     "text": [
      "/home/brodrigues/Projects/RecoBinaPs/recommenders/BBCF.py:257: RuntimeWarning: divide by zero encountered in scalar divide\n",
      "  prediction += sum_ratings / sum_similarities\n",
      "/home/brodrigues/Projects/RecoBinaPs/recommenders/BBCF.py:257: RuntimeWarning: divide by zero encountered in scalar divide\n",
      "  prediction += sum_ratings / sum_similarities\n",
      "/home/brodrigues/Projects/RecoBinaPs/recommenders/BBCF.py:257: RuntimeWarning: divide by zero encountered in scalar divide\n",
      "  prediction += sum_ratings / sum_similarities\n",
      "/home/brodrigues/Projects/RecoBinaPs/recommenders/BBCF.py:257: RuntimeWarning: divide by zero encountered in scalar divide\n",
      "  prediction += sum_ratings / sum_similarities\n"
     ]
    },
    {
     "name": "stdout",
     "output_type": "stream",
     "text": [
      "Completed 6/288 | Avg. time/task: 0m 58.0s | Time left: 272m 26.5s | Estimated completion time: 23:08:57\r"
     ]
    },
    {
     "name": "stderr",
     "output_type": "stream",
     "text": [
      "/home/brodrigues/Projects/RecoBinaPs/recommenders/BBCF.py:257: RuntimeWarning: divide by zero encountered in scalar divide\n",
      "  prediction += sum_ratings / sum_similarities\n"
     ]
    },
    {
     "name": "stdout",
     "output_type": "stream",
     "text": [
      "Completed 7/288 | Avg. time/task: 0m 57.3s | Time left: 268m 10.9s | Estimated completion time: 23:04:41\r"
     ]
    },
    {
     "name": "stderr",
     "output_type": "stream",
     "text": [
      "/home/brodrigues/Projects/RecoBinaPs/recommenders/BBCF.py:257: RuntimeWarning: divide by zero encountered in scalar divide\n",
      "  prediction += sum_ratings / sum_similarities\n"
     ]
    },
    {
     "name": "stdout",
     "output_type": "stream",
     "text": [
      "Completed 8/288 | Avg. time/task: 0m 56.3s | Time left: 262m 32.8s | Estimated completion time: 22:59:03\r"
     ]
    },
    {
     "name": "stderr",
     "output_type": "stream",
     "text": [
      "/home/brodrigues/Projects/RecoBinaPs/recommenders/BBCF.py:257: RuntimeWarning: divide by zero encountered in scalar divide\n",
      "  prediction += sum_ratings / sum_similarities\n",
      "/home/brodrigues/Projects/RecoBinaPs/recommenders/BBCF.py:257: RuntimeWarning: divide by zero encountered in scalar divide\n",
      "  prediction += sum_ratings / sum_similarities\n"
     ]
    },
    {
     "name": "stdout",
     "output_type": "stream",
     "text": [
      "Completed 9/288 | Avg. time/task: 1m 14.4s | Time left: 345m 43.8s | Estimated completion time: 00:22:14\r"
     ]
    },
    {
     "name": "stderr",
     "output_type": "stream",
     "text": [
      "/home/brodrigues/Projects/RecoBinaPs/recommenders/BBCF.py:257: RuntimeWarning: divide by zero encountered in scalar divide\n",
      "  prediction += sum_ratings / sum_similarities\n"
     ]
    },
    {
     "name": "stdout",
     "output_type": "stream",
     "text": [
      "Completed 10/288 | Avg. time/task: 1m 15.1s | Time left: 348m 0.6s | Estimated completion time: 00:24:31\r"
     ]
    },
    {
     "name": "stderr",
     "output_type": "stream",
     "text": [
      "/home/brodrigues/Projects/RecoBinaPs/recommenders/BBCF.py:257: RuntimeWarning: divide by zero encountered in scalar divide\n",
      "  prediction += sum_ratings / sum_similarities\n"
     ]
    },
    {
     "name": "stdout",
     "output_type": "stream",
     "text": [
      "Completed 12/288 | Avg. time/task: 1m 21.2s | Time left: 373m 43.0s | Estimated completion time: 00:50:13\r"
     ]
    },
    {
     "name": "stderr",
     "output_type": "stream",
     "text": [
      "/home/brodrigues/Projects/RecoBinaPs/recommenders/BBCF.py:257: RuntimeWarning: divide by zero encountered in scalar divide\n",
      "  prediction += sum_ratings / sum_similarities\n"
     ]
    },
    {
     "name": "stdout",
     "output_type": "stream",
     "text": [
      "Completed 16/288 | Avg. time/task: 1m 6.5s | Time left: 301m 29.0s | Estimated completion time: 23:37:591\r"
     ]
    },
    {
     "name": "stderr",
     "output_type": "stream",
     "text": [
      "/home/brodrigues/Projects/RecoBinaPs/recommenders/BBCF.py:257: RuntimeWarning: divide by zero encountered in scalar divide\n",
      "  prediction += sum_ratings / sum_similarities\n",
      "/home/brodrigues/Projects/RecoBinaPs/recommenders/BBCF.py:257: RuntimeWarning: divide by zero encountered in scalar divide\n",
      "  prediction += sum_ratings / sum_similarities\n"
     ]
    },
    {
     "name": "stdout",
     "output_type": "stream",
     "text": [
      "Completed 19/288 | Avg. time/task: 0m 59.3s | Time left: 266m 2.9s | Estimated completion time: 23:02:33\r"
     ]
    },
    {
     "name": "stderr",
     "output_type": "stream",
     "text": [
      "/home/brodrigues/Projects/RecoBinaPs/recommenders/BBCF.py:257: RuntimeWarning: divide by zero encountered in scalar divide\n",
      "  prediction += sum_ratings / sum_similarities\n",
      "/home/brodrigues/Projects/RecoBinaPs/recommenders/BBCF.py:257: RuntimeWarning: divide by zero encountered in scalar divide\n",
      "  prediction += sum_ratings / sum_similarities\n",
      "/home/brodrigues/Projects/RecoBinaPs/recommenders/BBCF.py:257: RuntimeWarning: divide by zero encountered in scalar divide\n",
      "  prediction += sum_ratings / sum_similarities\n"
     ]
    },
    {
     "name": "stdout",
     "output_type": "stream",
     "text": [
      "Completed 22/288 | Avg. time/task: 0m 52.7s | Time left: 233m 32.0s | Estimated completion time: 22:30:02\r"
     ]
    },
    {
     "name": "stderr",
     "output_type": "stream",
     "text": [
      "/home/brodrigues/Projects/RecoBinaPs/recommenders/BBCF.py:257: RuntimeWarning: divide by zero encountered in scalar divide\n",
      "  prediction += sum_ratings / sum_similarities\n"
     ]
    },
    {
     "name": "stdout",
     "output_type": "stream",
     "text": [
      "Completed 23/288 | Avg. time/task: 0m 51.5s | Time left: 227m 20.9s | Estimated completion time: 22:23:51\r"
     ]
    },
    {
     "name": "stderr",
     "output_type": "stream",
     "text": [
      "/home/brodrigues/Projects/RecoBinaPs/recommenders/BBCF.py:257: RuntimeWarning: divide by zero encountered in scalar divide\n",
      "  prediction += sum_ratings / sum_similarities\n"
     ]
    },
    {
     "name": "stdout",
     "output_type": "stream",
     "text": [
      "Completed 26/288 | Avg. time/task: 0m 46.7s | Time left: 204m 7.6s | Estimated completion time: 22:00:383\r"
     ]
    },
    {
     "name": "stderr",
     "output_type": "stream",
     "text": [
      "/home/brodrigues/Projects/RecoBinaPs/recommenders/BBCF.py:257: RuntimeWarning: divide by zero encountered in scalar divide\n",
      "  prediction += sum_ratings / sum_similarities\n"
     ]
    },
    {
     "name": "stdout",
     "output_type": "stream",
     "text": [
      "Completed 27/288 | Avg. time/task: 0m 45.9s | Time left: 199m 27.0s | Estimated completion time: 21:55:57\r"
     ]
    },
    {
     "name": "stderr",
     "output_type": "stream",
     "text": [
      "/home/brodrigues/Projects/RecoBinaPs/recommenders/BBCF.py:257: RuntimeWarning: divide by zero encountered in scalar divide\n",
      "  prediction += sum_ratings / sum_similarities\n",
      "/home/brodrigues/Projects/RecoBinaPs/recommenders/BBCF.py:257: RuntimeWarning: divide by zero encountered in scalar divide\n",
      "  prediction += sum_ratings / sum_similarities\n"
     ]
    },
    {
     "name": "stdout",
     "output_type": "stream",
     "text": [
      "Completed 35/288 | Avg. time/task: 0m 38.2s | Time left: 160m 57.4s | Estimated completion time: 21:17:28\r"
     ]
    },
    {
     "name": "stderr",
     "output_type": "stream",
     "text": [
      "/home/brodrigues/Projects/RecoBinaPs/recommenders/BBCF.py:257: RuntimeWarning: divide by zero encountered in scalar divide\n",
      "  prediction += sum_ratings / sum_similarities\n",
      "/home/brodrigues/Projects/RecoBinaPs/recommenders/BBCF.py:257: RuntimeWarning: divide by zero encountered in scalar divide\n",
      "  prediction += sum_ratings / sum_similarities\n",
      "/home/brodrigues/Projects/RecoBinaPs/recommenders/BBCF.py:257: RuntimeWarning: divide by zero encountered in scalar divide\n",
      "  prediction += sum_ratings / sum_similarities\n"
     ]
    },
    {
     "name": "stdout",
     "output_type": "stream",
     "text": [
      "Completed 41/288 | Avg. time/task: 0m 35.0s | Time left: 143m 55.0s | Estimated completion time: 21:00:25\r"
     ]
    },
    {
     "name": "stderr",
     "output_type": "stream",
     "text": [
      "/home/brodrigues/Projects/RecoBinaPs/recommenders/BBCF.py:257: RuntimeWarning: divide by zero encountered in scalar divide\n",
      "  prediction += sum_ratings / sum_similarities\n"
     ]
    },
    {
     "name": "stdout",
     "output_type": "stream",
     "text": [
      "Completed 45/288 | Avg. time/task: 0m 32.5s | Time left: 131m 36.2s | Estimated completion time: 20:48:06\r"
     ]
    },
    {
     "name": "stderr",
     "output_type": "stream",
     "text": [
      "/home/brodrigues/Projects/RecoBinaPs/recommenders/BBCF.py:257: RuntimeWarning: divide by zero encountered in scalar divide\n",
      "  prediction += sum_ratings / sum_similarities\n",
      "/home/brodrigues/Projects/RecoBinaPs/recommenders/BBCF.py:257: RuntimeWarning: divide by zero encountered in scalar divide\n",
      "  prediction += sum_ratings / sum_similarities\n"
     ]
    },
    {
     "name": "stdout",
     "output_type": "stream",
     "text": [
      "Completed 48/288 | Avg. time/task: 0m 32.6s | Time left: 130m 34.0s | Estimated completion time: 20:47:04\r"
     ]
    },
    {
     "name": "stderr",
     "output_type": "stream",
     "text": [
      "/home/brodrigues/Projects/RecoBinaPs/recommenders/BBCF.py:257: RuntimeWarning: divide by zero encountered in scalar divide\n",
      "  prediction += sum_ratings / sum_similarities\n",
      "/home/brodrigues/Projects/RecoBinaPs/recommenders/BBCF.py:257: RuntimeWarning: divide by zero encountered in scalar divide\n",
      "  prediction += sum_ratings / sum_similarities\n",
      "/home/brodrigues/Projects/RecoBinaPs/recommenders/BBCF.py:257: RuntimeWarning: divide by zero encountered in scalar divide\n",
      "  prediction += sum_ratings / sum_similarities\n",
      "/home/brodrigues/Projects/RecoBinaPs/recommenders/BBCF.py:257: RuntimeWarning: divide by zero encountered in scalar divide\n",
      "  prediction += sum_ratings / sum_similarities\n",
      "/home/brodrigues/Projects/RecoBinaPs/recommenders/BBCF.py:257: RuntimeWarning: divide by zero encountered in scalar divide\n",
      "  prediction += sum_ratings / sum_similarities\n"
     ]
    },
    {
     "name": "stdout",
     "output_type": "stream",
     "text": [
      "Completed 52/288 | Avg. time/task: 0m 39.3s | Time left: 154m 42.8s | Estimated completion time: 21:11:13\r"
     ]
    },
    {
     "name": "stderr",
     "output_type": "stream",
     "text": [
      "/home/brodrigues/Projects/RecoBinaPs/recommenders/BBCF.py:257: RuntimeWarning: divide by zero encountered in scalar divide\n",
      "  prediction += sum_ratings / sum_similarities\n",
      "/home/brodrigues/Projects/RecoBinaPs/recommenders/BBCF.py:257: RuntimeWarning: divide by zero encountered in scalar divide\n",
      "  prediction += sum_ratings / sum_similarities\n",
      "/home/brodrigues/Projects/RecoBinaPs/recommenders/BBCF.py:257: RuntimeWarning: divide by zero encountered in scalar divide\n",
      "  prediction += sum_ratings / sum_similarities\n",
      "/home/brodrigues/Projects/RecoBinaPs/recommenders/BBCF.py:257: RuntimeWarning: divide by zero encountered in scalar divide\n",
      "  prediction += sum_ratings / sum_similarities\n"
     ]
    },
    {
     "name": "stdout",
     "output_type": "stream",
     "text": [
      "Completed 54/288 | Avg. time/task: 0m 45.2s | Time left: 176m 8.9s | Estimated completion time: 21:32:393\r"
     ]
    },
    {
     "name": "stderr",
     "output_type": "stream",
     "text": [
      "/home/brodrigues/Projects/RecoBinaPs/recommenders/BBCF.py:257: RuntimeWarning: divide by zero encountered in scalar divide\n",
      "  prediction += sum_ratings / sum_similarities\n",
      "/home/brodrigues/Projects/RecoBinaPs/recommenders/BBCF.py:257: RuntimeWarning: divide by zero encountered in scalar divide\n",
      "  prediction += sum_ratings / sum_similarities\n"
     ]
    },
    {
     "name": "stdout",
     "output_type": "stream",
     "text": [
      "Completed 56/288 | Avg. time/task: 0m 52.3s | Time left: 202m 6.9s | Estimated completion time: 21:58:375\r"
     ]
    },
    {
     "name": "stderr",
     "output_type": "stream",
     "text": [
      "/home/brodrigues/Projects/RecoBinaPs/recommenders/BBCF.py:257: RuntimeWarning: divide by zero encountered in scalar divide\n",
      "  prediction += sum_ratings / sum_similarities\n",
      "/home/brodrigues/Projects/RecoBinaPs/recommenders/BBCF.py:257: RuntimeWarning: divide by zero encountered in scalar divide\n",
      "  prediction += sum_ratings / sum_similarities\n"
     ]
    },
    {
     "name": "stdout",
     "output_type": "stream",
     "text": [
      "Completed 57/288 | Avg. time/task: 1m 3.6s | Time left: 244m 44.4s | Estimated completion time: 22:41:15\r"
     ]
    },
    {
     "name": "stderr",
     "output_type": "stream",
     "text": [
      "/home/brodrigues/Projects/RecoBinaPs/recommenders/BBCF.py:257: RuntimeWarning: divide by zero encountered in scalar divide\n",
      "  prediction += sum_ratings / sum_similarities\n"
     ]
    },
    {
     "name": "stdout",
     "output_type": "stream",
     "text": [
      "Completed 63/288 | Avg. time/task: 1m 16.8s | Time left: 287m 50.4s | Estimated completion time: 23:24:21\r"
     ]
    },
    {
     "name": "stderr",
     "output_type": "stream",
     "text": [
      "/home/brodrigues/Projects/RecoBinaPs/recommenders/BBCF.py:257: RuntimeWarning: divide by zero encountered in scalar divide\n",
      "  prediction += sum_ratings / sum_similarities\n"
     ]
    },
    {
     "name": "stdout",
     "output_type": "stream",
     "text": [
      "Completed 64/288 | Avg. time/task: 1m 18.1s | Time left: 291m 24.9s | Estimated completion time: 23:27:55\r"
     ]
    },
    {
     "name": "stderr",
     "output_type": "stream",
     "text": [
      "/home/brodrigues/Projects/RecoBinaPs/recommenders/BBCF.py:257: RuntimeWarning: divide by zero encountered in scalar divide\n",
      "  prediction += sum_ratings / sum_similarities\n",
      "/home/brodrigues/Projects/RecoBinaPs/recommenders/BBCF.py:257: RuntimeWarning: divide by zero encountered in scalar divide\n",
      "  prediction += sum_ratings / sum_similarities\n"
     ]
    },
    {
     "name": "stdout",
     "output_type": "stream",
     "text": [
      "Completed 65/288 | Avg. time/task: 1m 20.9s | Time left: 300m 38.4s | Estimated completion time: 23:37:09\r"
     ]
    },
    {
     "name": "stderr",
     "output_type": "stream",
     "text": [
      "/home/brodrigues/Projects/RecoBinaPs/recommenders/BBCF.py:257: RuntimeWarning: divide by zero encountered in scalar divide\n",
      "  prediction += sum_ratings / sum_similarities\n"
     ]
    },
    {
     "name": "stdout",
     "output_type": "stream",
     "text": [
      "Completed 67/288 | Avg. time/task: 1m 21.3s | Time left: 299m 20.1s | Estimated completion time: 23:35:50\r"
     ]
    },
    {
     "name": "stderr",
     "output_type": "stream",
     "text": [
      "/home/brodrigues/Projects/RecoBinaPs/recommenders/BBCF.py:257: RuntimeWarning: divide by zero encountered in scalar divide\n",
      "  prediction += sum_ratings / sum_similarities\n",
      "/home/brodrigues/Projects/RecoBinaPs/recommenders/BBCF.py:257: RuntimeWarning: divide by zero encountered in scalar divide\n",
      "  prediction += sum_ratings / sum_similarities\n"
     ]
    },
    {
     "name": "stdout",
     "output_type": "stream",
     "text": [
      "Completed 70/288 | Avg. time/task: 1m 24.3s | Time left: 306m 18.8s | Estimated completion time: 23:42:49\r"
     ]
    },
    {
     "name": "stderr",
     "output_type": "stream",
     "text": [
      "/home/brodrigues/Projects/RecoBinaPs/recommenders/BBCF.py:257: RuntimeWarning: divide by zero encountered in scalar divide\n",
      "  prediction += sum_ratings / sum_similarities\n",
      "/home/brodrigues/Projects/RecoBinaPs/recommenders/BBCF.py:257: RuntimeWarning: divide by zero encountered in scalar divide\n",
      "  prediction += sum_ratings / sum_similarities\n"
     ]
    },
    {
     "name": "stdout",
     "output_type": "stream",
     "text": [
      "Completed 72/288 | Avg. time/task: 1m 25.2s | Time left: 306m 52.1s | Estimated completion time: 23:43:22\r"
     ]
    },
    {
     "name": "stderr",
     "output_type": "stream",
     "text": [
      "/home/brodrigues/Projects/RecoBinaPs/recommenders/BBCF.py:257: RuntimeWarning: divide by zero encountered in scalar divide\n",
      "  prediction += sum_ratings / sum_similarities\n",
      "/home/brodrigues/Projects/RecoBinaPs/recommenders/BBCF.py:257: RuntimeWarning: divide by zero encountered in scalar divide\n",
      "  prediction += sum_ratings / sum_similarities\n"
     ]
    },
    {
     "name": "stdout",
     "output_type": "stream",
     "text": [
      "Completed 74/288 | Avg. time/task: 1m 27.2s | Time left: 311m 10.1s | Estimated completion time: 23:47:40\r"
     ]
    },
    {
     "name": "stderr",
     "output_type": "stream",
     "text": [
      "/home/brodrigues/Projects/RecoBinaPs/recommenders/BBCF.py:257: RuntimeWarning: divide by zero encountered in scalar divide\n",
      "  prediction += sum_ratings / sum_similarities\n"
     ]
    },
    {
     "name": "stdout",
     "output_type": "stream",
     "text": [
      "Completed 75/288 | Avg. time/task: 1m 28.1s | Time left: 312m 35.5s | Estimated completion time: 23:49:06\r"
     ]
    },
    {
     "name": "stderr",
     "output_type": "stream",
     "text": [
      "/home/brodrigues/Projects/RecoBinaPs/recommenders/BBCF.py:257: RuntimeWarning: divide by zero encountered in scalar divide\n",
      "  prediction += sum_ratings / sum_similarities\n"
     ]
    },
    {
     "name": "stdout",
     "output_type": "stream",
     "text": [
      "Completed 76/288 | Avg. time/task: 1m 27.9s | Time left: 310m 27.9s | Estimated completion time: 23:46:58\r"
     ]
    },
    {
     "name": "stderr",
     "output_type": "stream",
     "text": [
      "/home/brodrigues/Projects/RecoBinaPs/recommenders/BBCF.py:257: RuntimeWarning: divide by zero encountered in scalar divide\n",
      "  prediction += sum_ratings / sum_similarities\n"
     ]
    },
    {
     "name": "stdout",
     "output_type": "stream",
     "text": [
      "Completed 78/288 | Avg. time/task: 1m 27.9s | Time left: 307m 34.6s | Estimated completion time: 23:44:05\r"
     ]
    },
    {
     "name": "stderr",
     "output_type": "stream",
     "text": [
      "/home/brodrigues/Projects/RecoBinaPs/recommenders/BBCF.py:257: RuntimeWarning: divide by zero encountered in scalar divide\n",
      "  prediction += sum_ratings / sum_similarities\n"
     ]
    },
    {
     "name": "stdout",
     "output_type": "stream",
     "text": [
      "Completed 82/288 | Avg. time/task: 1m 29.3s | Time left: 306m 38.3s | Estimated completion time: 23:43:09\r"
     ]
    },
    {
     "name": "stderr",
     "output_type": "stream",
     "text": [
      "/home/brodrigues/Projects/RecoBinaPs/recommenders/BBCF.py:257: RuntimeWarning: divide by zero encountered in scalar divide\n",
      "  prediction += sum_ratings / sum_similarities\n",
      "/home/brodrigues/Projects/RecoBinaPs/recommenders/BBCF.py:257: RuntimeWarning: divide by zero encountered in scalar divide\n",
      "  prediction += sum_ratings / sum_similarities\n"
     ]
    },
    {
     "name": "stdout",
     "output_type": "stream",
     "text": [
      "Completed 84/288 | Avg. time/task: 1m 28.8s | Time left: 301m 58.6s | Estimated completion time: 23:38:29\r"
     ]
    },
    {
     "name": "stderr",
     "output_type": "stream",
     "text": [
      "/home/brodrigues/Projects/RecoBinaPs/recommenders/BBCF.py:257: RuntimeWarning: divide by zero encountered in scalar divide\n",
      "  prediction += sum_ratings / sum_similarities\n",
      "/home/brodrigues/Projects/RecoBinaPs/recommenders/BBCF.py:257: RuntimeWarning: divide by zero encountered in scalar divide\n",
      "  prediction += sum_ratings / sum_similarities\n",
      "/home/brodrigues/Projects/RecoBinaPs/recommenders/BBCF.py:257: RuntimeWarning: divide by zero encountered in scalar divide\n",
      "  prediction += sum_ratings / sum_similarities\n",
      "/home/brodrigues/Projects/RecoBinaPs/recommenders/BBCF.py:257: RuntimeWarning: divide by zero encountered in scalar divide\n",
      "  prediction += sum_ratings / sum_similarities\n"
     ]
    },
    {
     "name": "stdout",
     "output_type": "stream",
     "text": [
      "Completed 87/288 | Avg. time/task: 1m 31.5s | Time left: 306m 36.3s | Estimated completion time: 23:43:07\r"
     ]
    },
    {
     "name": "stderr",
     "output_type": "stream",
     "text": [
      "/home/brodrigues/Projects/RecoBinaPs/recommenders/BBCF.py:257: RuntimeWarning: divide by zero encountered in scalar divide\n",
      "  prediction += sum_ratings / sum_similarities\n"
     ]
    },
    {
     "name": "stdout",
     "output_type": "stream",
     "text": [
      "Completed 89/288 | Avg. time/task: 1m 31.1s | Time left: 302m 8.1s | Estimated completion time: 23:38:383\r"
     ]
    },
    {
     "name": "stderr",
     "output_type": "stream",
     "text": [
      "/home/brodrigues/Projects/RecoBinaPs/recommenders/BBCF.py:257: RuntimeWarning: divide by zero encountered in scalar divide\n",
      "  prediction += sum_ratings / sum_similarities\n"
     ]
    },
    {
     "name": "stdout",
     "output_type": "stream",
     "text": [
      "Completed 90/288 | Avg. time/task: 1m 30.8s | Time left: 299m 36.6s | Estimated completion time: 23:36:07\r"
     ]
    },
    {
     "name": "stderr",
     "output_type": "stream",
     "text": [
      "/home/brodrigues/Projects/RecoBinaPs/recommenders/BBCF.py:257: RuntimeWarning: divide by zero encountered in scalar divide\n",
      "  prediction += sum_ratings / sum_similarities\n",
      "/home/brodrigues/Projects/RecoBinaPs/recommenders/BBCF.py:257: RuntimeWarning: divide by zero encountered in scalar divide\n",
      "  prediction += sum_ratings / sum_similarities\n"
     ]
    },
    {
     "name": "stdout",
     "output_type": "stream",
     "text": [
      "Completed 94/288 | Avg. time/task: 1m 32.7s | Time left: 299m 48.2s | Estimated completion time: 23:36:18\r"
     ]
    },
    {
     "name": "stderr",
     "output_type": "stream",
     "text": [
      "/home/brodrigues/Projects/RecoBinaPs/recommenders/BBCF.py:257: RuntimeWarning: divide by zero encountered in scalar divide\n",
      "  prediction += sum_ratings / sum_similarities\n"
     ]
    },
    {
     "name": "stdout",
     "output_type": "stream",
     "text": [
      "Completed 96/288 | Avg. time/task: 1m 32.2s | Time left: 295m 11.7s | Estimated completion time: 23:31:42\r"
     ]
    },
    {
     "name": "stderr",
     "output_type": "stream",
     "text": [
      "/home/brodrigues/Projects/RecoBinaPs/recommenders/BBCF.py:257: RuntimeWarning: divide by zero encountered in scalar divide\n",
      "  prediction += sum_ratings / sum_similarities\n",
      "/home/brodrigues/Projects/RecoBinaPs/recommenders/BBCF.py:257: RuntimeWarning: divide by zero encountered in scalar divide\n",
      "  prediction += sum_ratings / sum_similarities\n",
      "/home/brodrigues/Projects/RecoBinaPs/recommenders/BBCF.py:257: RuntimeWarning: divide by zero encountered in scalar divide\n",
      "  prediction += sum_ratings / sum_similarities\n",
      "/home/brodrigues/Projects/RecoBinaPs/recommenders/BBCF.py:257: RuntimeWarning: divide by zero encountered in scalar divide\n",
      "  prediction += sum_ratings / sum_similarities\n",
      "/home/brodrigues/Projects/RecoBinaPs/recommenders/BBCF.py:257: RuntimeWarning: divide by zero encountered in scalar divide\n",
      "  prediction += sum_ratings / sum_similarities\n"
     ]
    },
    {
     "name": "stdout",
     "output_type": "stream",
     "text": [
      "Completed 100/288 | Avg. time/task: 1m 39.4s | Time left: 311m 21.0s | Estimated completion time: 23:47:51\r"
     ]
    },
    {
     "name": "stderr",
     "output_type": "stream",
     "text": [
      "/home/brodrigues/Projects/RecoBinaPs/recommenders/BBCF.py:257: RuntimeWarning: divide by zero encountered in scalar divide\n",
      "  prediction += sum_ratings / sum_similarities\n",
      "/home/brodrigues/Projects/RecoBinaPs/recommenders/BBCF.py:257: RuntimeWarning: divide by zero encountered in scalar divide\n",
      "  prediction += sum_ratings / sum_similarities\n",
      "/home/brodrigues/Projects/RecoBinaPs/recommenders/BBCF.py:257: RuntimeWarning: divide by zero encountered in scalar divide\n",
      "  prediction += sum_ratings / sum_similarities\n",
      "/home/brodrigues/Projects/RecoBinaPs/recommenders/BBCF.py:257: RuntimeWarning: divide by zero encountered in scalar divide\n",
      "  prediction += sum_ratings / sum_similarities\n"
     ]
    },
    {
     "name": "stdout",
     "output_type": "stream",
     "text": [
      "Completed 102/288 | Avg. time/task: 1m 43.3s | Time left: 320m 15.1s | Estimated completion time: 23:56:45\r"
     ]
    },
    {
     "name": "stderr",
     "output_type": "stream",
     "text": [
      "/home/brodrigues/Projects/RecoBinaPs/recommenders/BBCF.py:257: RuntimeWarning: divide by zero encountered in scalar divide\n",
      "  prediction += sum_ratings / sum_similarities\n",
      "/home/brodrigues/Projects/RecoBinaPs/recommenders/BBCF.py:257: RuntimeWarning: divide by zero encountered in scalar divide\n",
      "  prediction += sum_ratings / sum_similarities\n"
     ]
    },
    {
     "name": "stdout",
     "output_type": "stream",
     "text": [
      "Completed 103/288 | Avg. time/task: 1m 47.9s | Time left: 332m 34.9s | Estimated completion time: 00:09:05\r"
     ]
    },
    {
     "name": "stderr",
     "output_type": "stream",
     "text": [
      "/home/brodrigues/Projects/RecoBinaPs/recommenders/BBCF.py:257: RuntimeWarning: divide by zero encountered in scalar divide\n",
      "  prediction += sum_ratings / sum_similarities\n"
     ]
    },
    {
     "name": "stdout",
     "output_type": "stream",
     "text": [
      "Completed 104/288 | Avg. time/task: 1m 48.0s | Time left: 331m 7.6s | Estimated completion time: 00:07:38\r"
     ]
    },
    {
     "name": "stderr",
     "output_type": "stream",
     "text": [
      "/home/brodrigues/Projects/RecoBinaPs/recommenders/BBCF.py:257: RuntimeWarning: divide by zero encountered in scalar divide\n",
      "  prediction += sum_ratings / sum_similarities\n"
     ]
    },
    {
     "name": "stdout",
     "output_type": "stream",
     "text": [
      "Completed 106/288 | Avg. time/task: 1m 53.4s | Time left: 343m 53.1s | Estimated completion time: 00:20:23\r"
     ]
    },
    {
     "name": "stderr",
     "output_type": "stream",
     "text": [
      "/home/brodrigues/Projects/RecoBinaPs/recommenders/BBCF.py:257: RuntimeWarning: divide by zero encountered in scalar divide\n",
      "  prediction += sum_ratings / sum_similarities\n",
      "/home/brodrigues/Projects/RecoBinaPs/recommenders/BBCF.py:257: RuntimeWarning: divide by zero encountered in scalar divide\n",
      "  prediction += sum_ratings / sum_similarities\n"
     ]
    },
    {
     "name": "stdout",
     "output_type": "stream",
     "text": [
      "Completed 113/288 | Avg. time/task: 2m 3.4s | Time left: 359m 51.5s | Estimated completion time: 00:36:220\r"
     ]
    },
    {
     "name": "stderr",
     "output_type": "stream",
     "text": [
      "/home/brodrigues/Projects/RecoBinaPs/recommenders/BBCF.py:257: RuntimeWarning: divide by zero encountered in scalar divide\n",
      "  prediction += sum_ratings / sum_similarities\n",
      "/home/brodrigues/Projects/RecoBinaPs/recommenders/BBCF.py:257: RuntimeWarning: divide by zero encountered in scalar divide\n",
      "  prediction += sum_ratings / sum_similarities\n",
      "/home/brodrigues/Projects/RecoBinaPs/recommenders/BBCF.py:257: RuntimeWarning: divide by zero encountered in scalar divide\n",
      "  prediction += sum_ratings / sum_similarities\n"
     ]
    },
    {
     "name": "stdout",
     "output_type": "stream",
     "text": [
      "Completed 114/288 | Avg. time/task: 2m 4.3s | Time left: 360m 32.4s | Estimated completion time: 00:37:03\r"
     ]
    },
    {
     "name": "stderr",
     "output_type": "stream",
     "text": [
      "/home/brodrigues/Projects/RecoBinaPs/recommenders/BBCF.py:257: RuntimeWarning: divide by zero encountered in scalar divide\n",
      "  prediction += sum_ratings / sum_similarities\n"
     ]
    },
    {
     "name": "stdout",
     "output_type": "stream",
     "text": [
      "Completed 115/288 | Avg. time/task: 2m 4.8s | Time left: 359m 51.2s | Estimated completion time: 00:36:21\r"
     ]
    },
    {
     "name": "stderr",
     "output_type": "stream",
     "text": [
      "/home/brodrigues/Projects/RecoBinaPs/recommenders/BBCF.py:257: RuntimeWarning: divide by zero encountered in scalar divide\n",
      "  prediction += sum_ratings / sum_similarities\n"
     ]
    },
    {
     "name": "stdout",
     "output_type": "stream",
     "text": [
      "Completed 116/288 | Avg. time/task: 2m 5.8s | Time left: 360m 40.6s | Estimated completion time: 00:37:11\r"
     ]
    },
    {
     "name": "stderr",
     "output_type": "stream",
     "text": [
      "/home/brodrigues/Projects/RecoBinaPs/recommenders/BBCF.py:257: RuntimeWarning: divide by zero encountered in scalar divide\n",
      "  prediction += sum_ratings / sum_similarities\n"
     ]
    },
    {
     "name": "stdout",
     "output_type": "stream",
     "text": [
      "Completed 119/288 | Avg. time/task: 2m 5.8s | Time left: 354m 26.6s | Estimated completion time: 00:30:57\r"
     ]
    },
    {
     "name": "stderr",
     "output_type": "stream",
     "text": [
      "/home/brodrigues/Projects/RecoBinaPs/recommenders/BBCF.py:257: RuntimeWarning: divide by zero encountered in scalar divide\n",
      "  prediction += sum_ratings / sum_similarities\n",
      "/home/brodrigues/Projects/RecoBinaPs/recommenders/BBCF.py:257: RuntimeWarning: divide by zero encountered in scalar divide\n",
      "  prediction += sum_ratings / sum_similarities\n",
      "/home/brodrigues/Projects/RecoBinaPs/recommenders/BBCF.py:257: RuntimeWarning: divide by zero encountered in scalar divide\n",
      "  prediction += sum_ratings / sum_similarities\n"
     ]
    },
    {
     "name": "stdout",
     "output_type": "stream",
     "text": [
      "Completed 120/288 | Avg. time/task: 2m 7.1s | Time left: 355m 48.5s | Estimated completion time: 00:32:19\r"
     ]
    },
    {
     "name": "stderr",
     "output_type": "stream",
     "text": [
      "/home/brodrigues/Projects/RecoBinaPs/recommenders/BBCF.py:257: RuntimeWarning: divide by zero encountered in scalar divide\n",
      "  prediction += sum_ratings / sum_similarities\n"
     ]
    },
    {
     "name": "stdout",
     "output_type": "stream",
     "text": [
      "Completed 122/288 | Avg. time/task: 2m 10.5s | Time left: 361m 11.0s | Estimated completion time: 00:37:41\r"
     ]
    },
    {
     "name": "stderr",
     "output_type": "stream",
     "text": [
      "/home/brodrigues/Projects/RecoBinaPs/recommenders/BBCF.py:257: RuntimeWarning: divide by zero encountered in scalar divide\n",
      "  prediction += sum_ratings / sum_similarities\n"
     ]
    },
    {
     "name": "stdout",
     "output_type": "stream",
     "text": [
      "Completed 123/288 | Avg. time/task: 2m 11.2s | Time left: 360m 53.3s | Estimated completion time: 00:37:24\r"
     ]
    },
    {
     "name": "stderr",
     "output_type": "stream",
     "text": [
      "/home/brodrigues/Projects/RecoBinaPs/recommenders/BBCF.py:257: RuntimeWarning: divide by zero encountered in scalar divide\n",
      "  prediction += sum_ratings / sum_similarities\n"
     ]
    },
    {
     "name": "stdout",
     "output_type": "stream",
     "text": [
      "Completed 128/288 | Avg. time/task: 2m 14.3s | Time left: 358m 7.3s | Estimated completion time: 00:34:388\r"
     ]
    },
    {
     "name": "stderr",
     "output_type": "stream",
     "text": [
      "/home/brodrigues/Projects/RecoBinaPs/recommenders/BBCF.py:257: RuntimeWarning: divide by zero encountered in scalar divide\n",
      "  prediction += sum_ratings / sum_similarities\n",
      "/home/brodrigues/Projects/RecoBinaPs/recommenders/BBCF.py:257: RuntimeWarning: divide by zero encountered in scalar divide\n",
      "  prediction += sum_ratings / sum_similarities\n"
     ]
    },
    {
     "name": "stdout",
     "output_type": "stream",
     "text": [
      "Completed 133/288 | Avg. time/task: 2m 15.5s | Time left: 349m 56.7s | Estimated completion time: 00:26:27\r"
     ]
    },
    {
     "name": "stderr",
     "output_type": "stream",
     "text": [
      "/home/brodrigues/Projects/RecoBinaPs/recommenders/BBCF.py:257: RuntimeWarning: divide by zero encountered in scalar divide\n",
      "  prediction += sum_ratings / sum_similarities\n"
     ]
    },
    {
     "name": "stdout",
     "output_type": "stream",
     "text": [
      "Completed 134/288 | Avg. time/task: 2m 16.8s | Time left: 351m 11.2s | Estimated completion time: 00:27:41\r"
     ]
    },
    {
     "name": "stderr",
     "output_type": "stream",
     "text": [
      "/home/brodrigues/Projects/RecoBinaPs/recommenders/BBCF.py:257: RuntimeWarning: divide by zero encountered in scalar divide\n",
      "  prediction += sum_ratings / sum_similarities\n",
      "/home/brodrigues/Projects/RecoBinaPs/recommenders/BBCF.py:257: RuntimeWarning: divide by zero encountered in scalar divide\n",
      "  prediction += sum_ratings / sum_similarities\n",
      "/home/brodrigues/Projects/RecoBinaPs/recommenders/BBCF.py:257: RuntimeWarning: divide by zero encountered in scalar divide\n",
      "  prediction += sum_ratings / sum_similarities\n"
     ]
    },
    {
     "name": "stdout",
     "output_type": "stream",
     "text": [
      "Completed 135/288 | Avg. time/task: 2m 19.8s | Time left: 356m 24.0s | Estimated completion time: 00:32:54\r"
     ]
    },
    {
     "name": "stderr",
     "output_type": "stream",
     "text": [
      "/home/brodrigues/Projects/RecoBinaPs/recommenders/BBCF.py:257: RuntimeWarning: divide by zero encountered in scalar divide\n",
      "  prediction += sum_ratings / sum_similarities\n"
     ]
    },
    {
     "name": "stdout",
     "output_type": "stream",
     "text": [
      "Completed 136/288 | Avg. time/task: 2m 18.9s | Time left: 351m 47.5s | Estimated completion time: 00:28:18\r"
     ]
    },
    {
     "name": "stderr",
     "output_type": "stream",
     "text": [
      "/home/brodrigues/Projects/RecoBinaPs/recommenders/BBCF.py:257: RuntimeWarning: divide by zero encountered in scalar divide\n",
      "  prediction += sum_ratings / sum_similarities\n"
     ]
    },
    {
     "name": "stdout",
     "output_type": "stream",
     "text": [
      "Completed 137/288 | Avg. time/task: 2m 19.3s | Time left: 350m 28.1s | Estimated completion time: 00:26:58\r"
     ]
    },
    {
     "name": "stderr",
     "output_type": "stream",
     "text": [
      "/home/brodrigues/Projects/RecoBinaPs/recommenders/BBCF.py:257: RuntimeWarning: divide by zero encountered in scalar divide\n",
      "  prediction += sum_ratings / sum_similarities\n",
      "/home/brodrigues/Projects/RecoBinaPs/recommenders/BBCF.py:257: RuntimeWarning: divide by zero encountered in scalar divide\n",
      "  prediction += sum_ratings / sum_similarities\n"
     ]
    },
    {
     "name": "stdout",
     "output_type": "stream",
     "text": [
      "Completed 139/288 | Avg. time/task: 2m 18.2s | Time left: 343m 6.6s | Estimated completion time: 00:19:372\r"
     ]
    },
    {
     "name": "stderr",
     "output_type": "stream",
     "text": [
      "/home/brodrigues/Projects/RecoBinaPs/recommenders/BBCF.py:257: RuntimeWarning: divide by zero encountered in scalar divide\n",
      "  prediction += sum_ratings / sum_similarities\n"
     ]
    },
    {
     "name": "stdout",
     "output_type": "stream",
     "text": [
      "Completed 144/288 | Avg. time/task: 2m 16.1s | Time left: 326m 31.2s | Estimated completion time: 00:03:01\r"
     ]
    },
    {
     "name": "stderr",
     "output_type": "stream",
     "text": [
      "/home/brodrigues/Projects/RecoBinaPs/recommenders/BBCF.py:257: RuntimeWarning: divide by zero encountered in scalar divide\n",
      "  prediction += sum_ratings / sum_similarities\n"
     ]
    },
    {
     "name": "stdout",
     "output_type": "stream",
     "text": [
      "Completed 146/288 | Avg. time/task: 2m 16.0s | Time left: 321m 50.1s | Estimated completion time: 23:58:20\r"
     ]
    },
    {
     "name": "stderr",
     "output_type": "stream",
     "text": [
      "/home/brodrigues/Projects/RecoBinaPs/recommenders/BBCF.py:257: RuntimeWarning: divide by zero encountered in scalar divide\n",
      "  prediction += sum_ratings / sum_similarities\n",
      "/home/brodrigues/Projects/RecoBinaPs/recommenders/BBCF.py:257: RuntimeWarning: divide by zero encountered in scalar divide\n",
      "  prediction += sum_ratings / sum_similarities\n"
     ]
    },
    {
     "name": "stdout",
     "output_type": "stream",
     "text": [
      "Completed 147/288 | Avg. time/task: 2m 16.0s | Time left: 319m 33.3s | Estimated completion time: 23:56:03\r"
     ]
    },
    {
     "name": "stderr",
     "output_type": "stream",
     "text": [
      "/home/brodrigues/Projects/RecoBinaPs/recommenders/BBCF.py:257: RuntimeWarning: divide by zero encountered in scalar divide\n",
      "  prediction += sum_ratings / sum_similarities\n"
     ]
    },
    {
     "name": "stdout",
     "output_type": "stream",
     "text": [
      "Completed 148/288 | Avg. time/task: 2m 15.2s | Time left: 315m 25.3s | Estimated completion time: 23:51:56\r"
     ]
    },
    {
     "name": "stderr",
     "output_type": "stream",
     "text": [
      "/home/brodrigues/Projects/RecoBinaPs/recommenders/BBCF.py:257: RuntimeWarning: divide by zero encountered in scalar divide\n",
      "  prediction += sum_ratings / sum_similarities\n",
      "/home/brodrigues/Projects/RecoBinaPs/recommenders/BBCF.py:257: RuntimeWarning: divide by zero encountered in scalar divide\n",
      "  prediction += sum_ratings / sum_similarities\n"
     ]
    },
    {
     "name": "stdout",
     "output_type": "stream",
     "text": [
      "Completed 151/288 | Avg. time/task: 2m 13.3s | Time left: 304m 15.6s | Estimated completion time: 23:40:46\r"
     ]
    },
    {
     "name": "stderr",
     "output_type": "stream",
     "text": [
      "/home/brodrigues/Projects/RecoBinaPs/recommenders/BBCF.py:257: RuntimeWarning: divide by zero encountered in scalar divide\n",
      "  prediction += sum_ratings / sum_similarities\n",
      "/home/brodrigues/Projects/RecoBinaPs/recommenders/BBCF.py:257: RuntimeWarning: divide by zero encountered in scalar divide\n",
      "  prediction += sum_ratings / sum_similarities\n"
     ]
    },
    {
     "name": "stdout",
     "output_type": "stream",
     "text": [
      "Completed 152/288 | Avg. time/task: 2m 12.6s | Time left: 300m 32.1s | Estimated completion time: 23:37:02\r"
     ]
    },
    {
     "name": "stderr",
     "output_type": "stream",
     "text": [
      "/home/brodrigues/Projects/RecoBinaPs/recommenders/BBCF.py:257: RuntimeWarning: divide by zero encountered in scalar divide\n",
      "  prediction += sum_ratings / sum_similarities\n"
     ]
    },
    {
     "name": "stdout",
     "output_type": "stream",
     "text": [
      "Completed 156/288 | Avg. time/task: 2m 11.4s | Time left: 289m 2.6s | Estimated completion time: 23:25:334\r"
     ]
    },
    {
     "name": "stderr",
     "output_type": "stream",
     "text": [
      "/home/brodrigues/Projects/RecoBinaPs/recommenders/BBCF.py:257: RuntimeWarning: divide by zero encountered in scalar divide\n",
      "  prediction += sum_ratings / sum_similarities\n"
     ]
    },
    {
     "name": "stdout",
     "output_type": "stream",
     "text": [
      "Completed 160/288 | Avg. time/task: 2m 8.5s | Time left: 274m 7.3s | Estimated completion time: 23:10:3807\r"
     ]
    },
    {
     "name": "stderr",
     "output_type": "stream",
     "text": [
      "/home/brodrigues/Projects/RecoBinaPs/recommenders/BBCF.py:257: RuntimeWarning: divide by zero encountered in scalar divide\n",
      "  prediction += sum_ratings / sum_similarities\n"
     ]
    },
    {
     "name": "stdout",
     "output_type": "stream",
     "text": [
      "Completed 163/288 | Avg. time/task: 2m 6.4s | Time left: 263m 15.2s | Estimated completion time: 22:59:45\r"
     ]
    },
    {
     "name": "stderr",
     "output_type": "stream",
     "text": [
      "/home/brodrigues/Projects/RecoBinaPs/recommenders/BBCF.py:257: RuntimeWarning: divide by zero encountered in scalar divide\n",
      "  prediction += sum_ratings / sum_similarities\n",
      "/home/brodrigues/Projects/RecoBinaPs/recommenders/BBCF.py:257: RuntimeWarning: divide by zero encountered in scalar divide\n",
      "  prediction += sum_ratings / sum_similarities\n"
     ]
    },
    {
     "name": "stdout",
     "output_type": "stream",
     "text": [
      "Completed 164/288 | Avg. time/task: 2m 5.7s | Time left: 259m 48.7s | Estimated completion time: 22:56:19\r"
     ]
    },
    {
     "name": "stderr",
     "output_type": "stream",
     "text": [
      "/home/brodrigues/Projects/RecoBinaPs/recommenders/BBCF.py:257: RuntimeWarning: divide by zero encountered in scalar divide\n",
      "  prediction += sum_ratings / sum_similarities\n"
     ]
    },
    {
     "name": "stdout",
     "output_type": "stream",
     "text": [
      "Completed 166/288 | Avg. time/task: 2m 4.3s | Time left: 252m 47.1s | Estimated completion time: 22:49:17\r"
     ]
    },
    {
     "name": "stderr",
     "output_type": "stream",
     "text": [
      "/home/brodrigues/Projects/RecoBinaPs/recommenders/BBCF.py:257: RuntimeWarning: divide by zero encountered in scalar divide\n",
      "  prediction += sum_ratings / sum_similarities\n"
     ]
    },
    {
     "name": "stdout",
     "output_type": "stream",
     "text": [
      "Completed 169/288 | Avg. time/task: 2m 2.3s | Time left: 242m 37.7s | Estimated completion time: 22:39:08\r"
     ]
    },
    {
     "name": "stderr",
     "output_type": "stream",
     "text": [
      "/home/brodrigues/Projects/RecoBinaPs/recommenders/BBCF.py:257: RuntimeWarning: divide by zero encountered in scalar divide\n",
      "  prediction += sum_ratings / sum_similarities\n"
     ]
    },
    {
     "name": "stdout",
     "output_type": "stream",
     "text": [
      "Completed 170/288 | Avg. time/task: 2m 1.7s | Time left: 239m 19.3s | Estimated completion time: 22:35:50\r"
     ]
    },
    {
     "name": "stderr",
     "output_type": "stream",
     "text": [
      "/home/brodrigues/Projects/RecoBinaPs/recommenders/BBCF.py:257: RuntimeWarning: divide by zero encountered in scalar divide\n",
      "  prediction += sum_ratings / sum_similarities\n",
      "/home/brodrigues/Projects/RecoBinaPs/recommenders/BBCF.py:257: RuntimeWarning: divide by zero encountered in scalar divide\n",
      "  prediction += sum_ratings / sum_similarities\n"
     ]
    },
    {
     "name": "stdout",
     "output_type": "stream",
     "text": [
      "Completed 192/288 | Avg. time/task: 1m 49.0s | Time left: 174m 19.7s | Estimated completion time: 21:30:50\r"
     ]
    },
    {
     "name": "stderr",
     "output_type": "stream",
     "text": [
      "/home/brodrigues/Projects/RecoBinaPs/recommenders/BBCF.py:257: RuntimeWarning: divide by zero encountered in scalar divide\n",
      "  prediction += sum_ratings / sum_similarities\n",
      "/home/brodrigues/Projects/RecoBinaPs/recommenders/BBCF.py:257: RuntimeWarning: divide by zero encountered in scalar divide\n",
      "  prediction += sum_ratings / sum_similarities\n",
      "/home/brodrigues/Projects/RecoBinaPs/recommenders/BBCF.py:257: RuntimeWarning: divide by zero encountered in scalar divide\n",
      "  prediction += sum_ratings / sum_similarities\n",
      "/home/brodrigues/Projects/RecoBinaPs/recommenders/BBCF.py:257: RuntimeWarning: divide by zero encountered in scalar divide\n",
      "  prediction += sum_ratings / sum_similarities\n",
      "/home/brodrigues/Projects/RecoBinaPs/recommenders/BBCF.py:257: RuntimeWarning: divide by zero encountered in scalar divide\n",
      "  prediction += sum_ratings / sum_similarities\n",
      "/home/brodrigues/Projects/RecoBinaPs/recommenders/BBCF.py:257: RuntimeWarning: divide by zero encountered in scalar divide\n",
      "  prediction += sum_ratings / sum_similarities\n"
     ]
    },
    {
     "name": "stdout",
     "output_type": "stream",
     "text": [
      "Completed 196/288 | Avg. time/task: 1m 48.8s | Time left: 166m 46.9s | Estimated completion time: 21:23:17\r"
     ]
    },
    {
     "name": "stderr",
     "output_type": "stream",
     "text": [
      "/home/brodrigues/Projects/RecoBinaPs/recommenders/BBCF.py:257: RuntimeWarning: divide by zero encountered in scalar divide\n",
      "  prediction += sum_ratings / sum_similarities\n",
      "/home/brodrigues/Projects/RecoBinaPs/recommenders/BBCF.py:257: RuntimeWarning: divide by zero encountered in scalar divide\n",
      "  prediction += sum_ratings / sum_similarities\n",
      "/home/brodrigues/Projects/RecoBinaPs/recommenders/BBCF.py:257: RuntimeWarning: divide by zero encountered in scalar divide\n",
      "  prediction += sum_ratings / sum_similarities\n"
     ]
    },
    {
     "name": "stdout",
     "output_type": "stream",
     "text": [
      "Completed 198/288 | Avg. time/task: 1m 48.8s | Time left: 163m 13.9s | Estimated completion time: 21:19:44\r"
     ]
    },
    {
     "name": "stderr",
     "output_type": "stream",
     "text": [
      "/home/brodrigues/Projects/RecoBinaPs/recommenders/BBCF.py:257: RuntimeWarning: divide by zero encountered in scalar divide\n",
      "  prediction += sum_ratings / sum_similarities\n",
      "/home/brodrigues/Projects/RecoBinaPs/recommenders/BBCF.py:257: RuntimeWarning: divide by zero encountered in scalar divide\n",
      "  prediction += sum_ratings / sum_similarities\n",
      "/home/brodrigues/Projects/RecoBinaPs/recommenders/BBCF.py:257: RuntimeWarning: divide by zero encountered in scalar divide\n",
      "  prediction += sum_ratings / sum_similarities\n"
     ]
    },
    {
     "name": "stdout",
     "output_type": "stream",
     "text": [
      "Completed 200/288 | Avg. time/task: 1m 49.1s | Time left: 160m 0.6s | Estimated completion time: 21:16:312\r"
     ]
    },
    {
     "name": "stderr",
     "output_type": "stream",
     "text": [
      "/home/brodrigues/Projects/RecoBinaPs/recommenders/BBCF.py:257: RuntimeWarning: divide by zero encountered in scalar divide\n",
      "  prediction += sum_ratings / sum_similarities\n",
      "/home/brodrigues/Projects/RecoBinaPs/recommenders/BBCF.py:257: RuntimeWarning: divide by zero encountered in scalar divide\n",
      "  prediction += sum_ratings / sum_similarities\n"
     ]
    },
    {
     "name": "stdout",
     "output_type": "stream",
     "text": [
      "Completed 202/288 | Avg. time/task: 1m 49.9s | Time left: 157m 33.2s | Estimated completion time: 21:14:03\r"
     ]
    },
    {
     "name": "stderr",
     "output_type": "stream",
     "text": [
      "/home/brodrigues/Projects/RecoBinaPs/recommenders/BBCF.py:257: RuntimeWarning: divide by zero encountered in scalar divide\n",
      "  prediction += sum_ratings / sum_similarities\n",
      "/home/brodrigues/Projects/RecoBinaPs/recommenders/BBCF.py:257: RuntimeWarning: divide by zero encountered in scalar divide\n",
      "  prediction += sum_ratings / sum_similarities\n"
     ]
    },
    {
     "name": "stdout",
     "output_type": "stream",
     "text": [
      "Completed 204/288 | Avg. time/task: 1m 49.7s | Time left: 153m 35.3s | Estimated completion time: 21:10:06\r"
     ]
    },
    {
     "name": "stderr",
     "output_type": "stream",
     "text": [
      "/home/brodrigues/Projects/RecoBinaPs/recommenders/BBCF.py:257: RuntimeWarning: divide by zero encountered in scalar divide\n",
      "  prediction += sum_ratings / sum_similarities\n",
      "/home/brodrigues/Projects/RecoBinaPs/recommenders/BBCF.py:257: RuntimeWarning: divide by zero encountered in scalar divide\n",
      "  prediction += sum_ratings / sum_similarities\n"
     ]
    },
    {
     "name": "stdout",
     "output_type": "stream",
     "text": [
      "Completed 206/288 | Avg. time/task: 1m 49.9s | Time left: 150m 9.0s | Estimated completion time: 21:06:393\r"
     ]
    },
    {
     "name": "stderr",
     "output_type": "stream",
     "text": [
      "/home/brodrigues/Projects/RecoBinaPs/recommenders/BBCF.py:257: RuntimeWarning: divide by zero encountered in scalar divide\n",
      "  prediction += sum_ratings / sum_similarities\n",
      "/home/brodrigues/Projects/RecoBinaPs/recommenders/BBCF.py:257: RuntimeWarning: divide by zero encountered in scalar divide\n",
      "  prediction += sum_ratings / sum_similarities\n"
     ]
    },
    {
     "name": "stdout",
     "output_type": "stream",
     "text": [
      "Completed 208/288 | Avg. time/task: 1m 50.0s | Time left: 146m 42.5s | Estimated completion time: 21:03:13\r"
     ]
    },
    {
     "name": "stderr",
     "output_type": "stream",
     "text": [
      "/home/brodrigues/Projects/RecoBinaPs/recommenders/BBCF.py:257: RuntimeWarning: divide by zero encountered in scalar divide\n",
      "  prediction += sum_ratings / sum_similarities\n",
      "/home/brodrigues/Projects/RecoBinaPs/recommenders/BBCF.py:257: RuntimeWarning: divide by zero encountered in scalar divide\n",
      "  prediction += sum_ratings / sum_similarities\n"
     ]
    },
    {
     "name": "stdout",
     "output_type": "stream",
     "text": [
      "Completed 210/288 | Avg. time/task: 1m 49.6s | Time left: 142m 27.8s | Estimated completion time: 20:58:58\r"
     ]
    },
    {
     "name": "stderr",
     "output_type": "stream",
     "text": [
      "/home/brodrigues/Projects/RecoBinaPs/recommenders/BBCF.py:257: RuntimeWarning: divide by zero encountered in scalar divide\n",
      "  prediction += sum_ratings / sum_similarities\n",
      "/home/brodrigues/Projects/RecoBinaPs/recommenders/BBCF.py:257: RuntimeWarning: divide by zero encountered in scalar divide\n",
      "  prediction += sum_ratings / sum_similarities\n"
     ]
    },
    {
     "name": "stdout",
     "output_type": "stream",
     "text": [
      "Completed 212/288 | Avg. time/task: 1m 49.4s | Time left: 138m 33.2s | Estimated completion time: 20:55:03\r"
     ]
    },
    {
     "name": "stderr",
     "output_type": "stream",
     "text": [
      "/home/brodrigues/Projects/RecoBinaPs/recommenders/BBCF.py:257: RuntimeWarning: divide by zero encountered in scalar divide\n",
      "  prediction += sum_ratings / sum_similarities\n",
      "/home/brodrigues/Projects/RecoBinaPs/recommenders/BBCF.py:257: RuntimeWarning: divide by zero encountered in scalar divide\n",
      "  prediction += sum_ratings / sum_similarities\n"
     ]
    },
    {
     "name": "stdout",
     "output_type": "stream",
     "text": [
      "Completed 216/288 | Avg. time/task: 1m 48.3s | Time left: 129m 59.3s | Estimated completion time: 20:46:30\r"
     ]
    },
    {
     "name": "stderr",
     "output_type": "stream",
     "text": [
      "/home/brodrigues/Projects/RecoBinaPs/recommenders/BBCF.py:257: RuntimeWarning: divide by zero encountered in scalar divide\n",
      "  prediction += sum_ratings / sum_similarities\n",
      "/home/brodrigues/Projects/RecoBinaPs/recommenders/BBCF.py:257: RuntimeWarning: divide by zero encountered in scalar divide\n",
      "  prediction += sum_ratings / sum_similarities\n",
      "/home/brodrigues/Projects/RecoBinaPs/recommenders/BBCF.py:257: RuntimeWarning: divide by zero encountered in scalar divide\n",
      "  prediction += sum_ratings / sum_similarities\n",
      "/home/brodrigues/Projects/RecoBinaPs/recommenders/BBCF.py:257: RuntimeWarning: divide by zero encountered in scalar divide\n",
      "  prediction += sum_ratings / sum_similarities\n"
     ]
    },
    {
     "name": "stdout",
     "output_type": "stream",
     "text": [
      "Completed 218/288 | Avg. time/task: 1m 48.9s | Time left: 127m 5.4s | Estimated completion time: 20:43:366\r"
     ]
    },
    {
     "name": "stderr",
     "output_type": "stream",
     "text": [
      "/home/brodrigues/Projects/RecoBinaPs/recommenders/BBCF.py:257: RuntimeWarning: divide by zero encountered in scalar divide\n",
      "  prediction += sum_ratings / sum_similarities\n",
      "/home/brodrigues/Projects/RecoBinaPs/recommenders/BBCF.py:257: RuntimeWarning: divide by zero encountered in scalar divide\n",
      "  prediction += sum_ratings / sum_similarities\n"
     ]
    },
    {
     "name": "stdout",
     "output_type": "stream",
     "text": [
      "Completed 221/288 | Avg. time/task: 1m 48.1s | Time left: 120m 41.8s | Estimated completion time: 20:37:12\r"
     ]
    },
    {
     "name": "stderr",
     "output_type": "stream",
     "text": [
      "/home/brodrigues/Projects/RecoBinaPs/recommenders/BBCF.py:257: RuntimeWarning: divide by zero encountered in scalar divide\n",
      "  prediction += sum_ratings / sum_similarities\n"
     ]
    },
    {
     "name": "stdout",
     "output_type": "stream",
     "text": [
      "Completed 222/288 | Avg. time/task: 1m 48.1s | Time left: 118m 54.6s | Estimated completion time: 20:35:25\r"
     ]
    },
    {
     "name": "stderr",
     "output_type": "stream",
     "text": [
      "/home/brodrigues/Projects/RecoBinaPs/recommenders/BBCF.py:257: RuntimeWarning: divide by zero encountered in scalar divide\n",
      "  prediction += sum_ratings / sum_similarities\n",
      "/home/brodrigues/Projects/RecoBinaPs/recommenders/BBCF.py:257: RuntimeWarning: divide by zero encountered in scalar divide\n",
      "  prediction += sum_ratings / sum_similarities\n"
     ]
    },
    {
     "name": "stdout",
     "output_type": "stream",
     "text": [
      "Completed 225/288 | Avg. time/task: 1m 47.9s | Time left: 113m 15.0s | Estimated completion time: 20:29:45\r"
     ]
    },
    {
     "name": "stderr",
     "output_type": "stream",
     "text": [
      "/home/brodrigues/Projects/RecoBinaPs/recommenders/BBCF.py:257: RuntimeWarning: divide by zero encountered in scalar divide\n",
      "  prediction += sum_ratings / sum_similarities\n",
      "/home/brodrigues/Projects/RecoBinaPs/recommenders/BBCF.py:257: RuntimeWarning: divide by zero encountered in scalar divide\n",
      "  prediction += sum_ratings / sum_similarities\n"
     ]
    },
    {
     "name": "stdout",
     "output_type": "stream",
     "text": [
      "Completed 226/288 | Avg. time/task: 1m 47.8s | Time left: 111m 21.5s | Estimated completion time: 20:27:52\r"
     ]
    },
    {
     "name": "stderr",
     "output_type": "stream",
     "text": [
      "/home/brodrigues/Projects/RecoBinaPs/recommenders/BBCF.py:257: RuntimeWarning: divide by zero encountered in scalar divide\n",
      "  prediction += sum_ratings / sum_similarities\n"
     ]
    },
    {
     "name": "stdout",
     "output_type": "stream",
     "text": [
      "Completed 227/288 | Avg. time/task: 1m 47.5s | Time left: 109m 16.5s | Estimated completion time: 20:25:47\r"
     ]
    },
    {
     "name": "stderr",
     "output_type": "stream",
     "text": [
      "/home/brodrigues/Projects/RecoBinaPs/recommenders/BBCF.py:257: RuntimeWarning: divide by zero encountered in scalar divide\n",
      "  prediction += sum_ratings / sum_similarities\n",
      "/home/brodrigues/Projects/RecoBinaPs/recommenders/BBCF.py:257: RuntimeWarning: divide by zero encountered in scalar divide\n",
      "  prediction += sum_ratings / sum_similarities\n"
     ]
    },
    {
     "name": "stdout",
     "output_type": "stream",
     "text": [
      "Completed 228/288 | Avg. time/task: 1m 47.2s | Time left: 107m 14.2s | Estimated completion time: 20:23:44\r"
     ]
    },
    {
     "name": "stderr",
     "output_type": "stream",
     "text": [
      "/home/brodrigues/Projects/RecoBinaPs/recommenders/BBCF.py:257: RuntimeWarning: divide by zero encountered in scalar divide\n",
      "  prediction += sum_ratings / sum_similarities\n",
      "/home/brodrigues/Projects/RecoBinaPs/recommenders/BBCF.py:257: RuntimeWarning: divide by zero encountered in scalar divide\n",
      "  prediction += sum_ratings / sum_similarities\n"
     ]
    },
    {
     "name": "stdout",
     "output_type": "stream",
     "text": [
      "Completed 231/288 | Avg. time/task: 1m 47.0s | Time left: 101m 39.0s | Estimated completion time: 20:18:09\r"
     ]
    },
    {
     "name": "stderr",
     "output_type": "stream",
     "text": [
      "/home/brodrigues/Projects/RecoBinaPs/recommenders/BBCF.py:257: RuntimeWarning: divide by zero encountered in scalar divide\n",
      "  prediction += sum_ratings / sum_similarities\n"
     ]
    },
    {
     "name": "stdout",
     "output_type": "stream",
     "text": [
      "Completed 233/288 | Avg. time/task: 1m 46.6s | Time left: 97m 43.7s | Estimated completion time: 20:14:14\r"
     ]
    },
    {
     "name": "stderr",
     "output_type": "stream",
     "text": [
      "/home/brodrigues/Projects/RecoBinaPs/recommenders/BBCF.py:257: RuntimeWarning: divide by zero encountered in scalar divide\n",
      "  prediction += sum_ratings / sum_similarities\n",
      "/home/brodrigues/Projects/RecoBinaPs/recommenders/BBCF.py:257: RuntimeWarning: divide by zero encountered in scalar divide\n",
      "  prediction += sum_ratings / sum_similarities\n"
     ]
    },
    {
     "name": "stdout",
     "output_type": "stream",
     "text": [
      "Completed 234/288 | Avg. time/task: 1m 46.4s | Time left: 95m 47.7s | Estimated completion time: 20:12:18\r"
     ]
    },
    {
     "name": "stderr",
     "output_type": "stream",
     "text": [
      "/home/brodrigues/Projects/RecoBinaPs/recommenders/BBCF.py:257: RuntimeWarning: divide by zero encountered in scalar divide\n",
      "  prediction += sum_ratings / sum_similarities\n",
      "/home/brodrigues/Projects/RecoBinaPs/recommenders/BBCF.py:257: RuntimeWarning: divide by zero encountered in scalar divide\n",
      "  prediction += sum_ratings / sum_similarities\n"
     ]
    },
    {
     "name": "stdout",
     "output_type": "stream",
     "text": [
      "Completed 235/288 | Avg. time/task: 1m 46.8s | Time left: 94m 21.2s | Estimated completion time: 20:10:51\r"
     ]
    },
    {
     "name": "stderr",
     "output_type": "stream",
     "text": [
      "/home/brodrigues/Projects/RecoBinaPs/recommenders/BBCF.py:257: RuntimeWarning: divide by zero encountered in scalar divide\n",
      "  prediction += sum_ratings / sum_similarities\n"
     ]
    },
    {
     "name": "stdout",
     "output_type": "stream",
     "text": [
      "Completed 237/288 | Avg. time/task: 1m 46.3s | Time left: 90m 21.4s | Estimated completion time: 20:06:52\r"
     ]
    },
    {
     "name": "stderr",
     "output_type": "stream",
     "text": [
      "/home/brodrigues/Projects/RecoBinaPs/recommenders/BBCF.py:257: RuntimeWarning: divide by zero encountered in scalar divide\n",
      "  prediction += sum_ratings / sum_similarities\n"
     ]
    },
    {
     "name": "stdout",
     "output_type": "stream",
     "text": [
      "Completed 239/288 | Avg. time/task: 1m 45.8s | Time left: 86m 25.5s | Estimated completion time: 20:02:56\r"
     ]
    },
    {
     "name": "stderr",
     "output_type": "stream",
     "text": [
      "/home/brodrigues/Projects/RecoBinaPs/recommenders/BBCF.py:257: RuntimeWarning: divide by zero encountered in scalar divide\n",
      "  prediction += sum_ratings / sum_similarities\n",
      "/home/brodrigues/Projects/RecoBinaPs/recommenders/BBCF.py:257: RuntimeWarning: divide by zero encountered in scalar divide\n",
      "  prediction += sum_ratings / sum_similarities\n"
     ]
    },
    {
     "name": "stdout",
     "output_type": "stream",
     "text": [
      "Completed 240/288 | Avg. time/task: 1m 45.8s | Time left: 84m 37.2s | Estimated completion time: 20:01:07\r"
     ]
    },
    {
     "name": "stderr",
     "output_type": "stream",
     "text": [
      "/home/brodrigues/Projects/RecoBinaPs/recommenders/BBCF.py:257: RuntimeWarning: divide by zero encountered in scalar divide\n",
      "  prediction += sum_ratings / sum_similarities\n",
      "/home/brodrigues/Projects/RecoBinaPs/recommenders/BBCF.py:257: RuntimeWarning: divide by zero encountered in scalar divide\n",
      "  prediction += sum_ratings / sum_similarities\n",
      "/home/brodrigues/Projects/RecoBinaPs/recommenders/BBCF.py:257: RuntimeWarning: divide by zero encountered in scalar divide\n",
      "  prediction += sum_ratings / sum_similarities\n"
     ]
    },
    {
     "name": "stdout",
     "output_type": "stream",
     "text": [
      "Completed 243/288 | Avg. time/task: 1m 47.3s | Time left: 80m 28.6s | Estimated completion time: 19:56:59\r"
     ]
    },
    {
     "name": "stderr",
     "output_type": "stream",
     "text": [
      "/home/brodrigues/Projects/RecoBinaPs/recommenders/BBCF.py:257: RuntimeWarning: divide by zero encountered in scalar divide\n",
      "  prediction += sum_ratings / sum_similarities\n"
     ]
    },
    {
     "name": "stdout",
     "output_type": "stream",
     "text": [
      "Completed 244/288 | Avg. time/task: 1m 47.2s | Time left: 78m 35.8s | Estimated completion time: 19:55:06\r"
     ]
    },
    {
     "name": "stderr",
     "output_type": "stream",
     "text": [
      "/home/brodrigues/Projects/RecoBinaPs/recommenders/BBCF.py:257: RuntimeWarning: divide by zero encountered in scalar divide\n",
      "  prediction += sum_ratings / sum_similarities\n",
      "/home/brodrigues/Projects/RecoBinaPs/recommenders/BBCF.py:257: RuntimeWarning: divide by zero encountered in scalar divide\n",
      "  prediction += sum_ratings / sum_similarities\n",
      "/home/brodrigues/Projects/RecoBinaPs/recommenders/BBCF.py:257: RuntimeWarning: divide by zero encountered in scalar divide\n",
      "  prediction += sum_ratings / sum_similarities\n"
     ]
    },
    {
     "name": "stdout",
     "output_type": "stream",
     "text": [
      "Completed 246/288 | Avg. time/task: 1m 47.3s | Time left: 75m 6.3s | Estimated completion time: 19:51:37\r"
     ]
    },
    {
     "name": "stderr",
     "output_type": "stream",
     "text": [
      "/home/brodrigues/Projects/RecoBinaPs/recommenders/BBCF.py:257: RuntimeWarning: divide by zero encountered in scalar divide\n",
      "  prediction += sum_ratings / sum_similarities\n",
      "/home/brodrigues/Projects/RecoBinaPs/recommenders/BBCF.py:257: RuntimeWarning: divide by zero encountered in scalar divide\n",
      "  prediction += sum_ratings / sum_similarities\n"
     ]
    },
    {
     "name": "stdout",
     "output_type": "stream",
     "text": [
      "Completed 248/288 | Avg. time/task: 1m 48.4s | Time left: 72m 16.9s | Estimated completion time: 19:48:47\r"
     ]
    },
    {
     "name": "stderr",
     "output_type": "stream",
     "text": [
      "/home/brodrigues/Projects/RecoBinaPs/recommenders/BBCF.py:257: RuntimeWarning: divide by zero encountered in scalar divide\n",
      "  prediction += sum_ratings / sum_similarities\n",
      "/home/brodrigues/Projects/RecoBinaPs/recommenders/BBCF.py:257: RuntimeWarning: divide by zero encountered in scalar divide\n",
      "  prediction += sum_ratings / sum_similarities\n"
     ]
    },
    {
     "name": "stdout",
     "output_type": "stream",
     "text": [
      "Completed 250/288 | Avg. time/task: 1m 49.1s | Time left: 69m 5.7s | Estimated completion time: 19:45:361\r"
     ]
    },
    {
     "name": "stderr",
     "output_type": "stream",
     "text": [
      "/home/brodrigues/Projects/RecoBinaPs/recommenders/BBCF.py:257: RuntimeWarning: divide by zero encountered in scalar divide\n",
      "  prediction += sum_ratings / sum_similarities\n"
     ]
    },
    {
     "name": "stdout",
     "output_type": "stream",
     "text": [
      "Completed 252/288 | Avg. time/task: 1m 49.0s | Time left: 65m 24.8s | Estimated completion time: 19:41:55\r"
     ]
    },
    {
     "name": "stderr",
     "output_type": "stream",
     "text": [
      "/home/brodrigues/Projects/RecoBinaPs/recommenders/BBCF.py:257: RuntimeWarning: divide by zero encountered in scalar divide\n",
      "  prediction += sum_ratings / sum_similarities\n",
      "/home/brodrigues/Projects/RecoBinaPs/recommenders/BBCF.py:257: RuntimeWarning: divide by zero encountered in scalar divide\n",
      "  prediction += sum_ratings / sum_similarities\n",
      "/home/brodrigues/Projects/RecoBinaPs/recommenders/BBCF.py:257: RuntimeWarning: divide by zero encountered in scalar divide\n",
      "  prediction += sum_ratings / sum_similarities\n"
     ]
    },
    {
     "name": "stdout",
     "output_type": "stream",
     "text": [
      "Completed 254/288 | Avg. time/task: 1m 50.4s | Time left: 62m 33.8s | Estimated completion time: 19:39:04\r"
     ]
    },
    {
     "name": "stderr",
     "output_type": "stream",
     "text": [
      "/home/brodrigues/Projects/RecoBinaPs/recommenders/BBCF.py:257: RuntimeWarning: divide by zero encountered in scalar divide\n",
      "  prediction += sum_ratings / sum_similarities\n",
      "/home/brodrigues/Projects/RecoBinaPs/recommenders/BBCF.py:257: RuntimeWarning: divide by zero encountered in scalar divide\n",
      "  prediction += sum_ratings / sum_similarities\n"
     ]
    },
    {
     "name": "stdout",
     "output_type": "stream",
     "text": [
      "Completed 258/288 | Avg. time/task: 1m 50.4s | Time left: 55m 12.1s | Estimated completion time: 19:31:42\r"
     ]
    },
    {
     "name": "stderr",
     "output_type": "stream",
     "text": [
      "/home/brodrigues/Projects/RecoBinaPs/recommenders/BBCF.py:257: RuntimeWarning: divide by zero encountered in scalar divide\n",
      "  prediction += sum_ratings / sum_similarities\n"
     ]
    },
    {
     "name": "stdout",
     "output_type": "stream",
     "text": [
      "Completed 259/288 | Avg. time/task: 1m 50.6s | Time left: 53m 26.0s | Estimated completion time: 19:29:56\r"
     ]
    },
    {
     "name": "stderr",
     "output_type": "stream",
     "text": [
      "/home/brodrigues/Projects/RecoBinaPs/recommenders/BBCF.py:257: RuntimeWarning: divide by zero encountered in scalar divide\n",
      "  prediction += sum_ratings / sum_similarities\n",
      "/home/brodrigues/Projects/RecoBinaPs/recommenders/BBCF.py:257: RuntimeWarning: divide by zero encountered in scalar divide\n",
      "  prediction += sum_ratings / sum_similarities\n",
      "/home/brodrigues/Projects/RecoBinaPs/recommenders/BBCF.py:257: RuntimeWarning: divide by zero encountered in scalar divide\n",
      "  prediction += sum_ratings / sum_similarities\n"
     ]
    },
    {
     "name": "stdout",
     "output_type": "stream",
     "text": [
      "Completed 260/288 | Avg. time/task: 1m 50.3s | Time left: 51m 29.1s | Estimated completion time: 19:27:59\r"
     ]
    },
    {
     "name": "stderr",
     "output_type": "stream",
     "text": [
      "/home/brodrigues/Projects/RecoBinaPs/recommenders/BBCF.py:257: RuntimeWarning: divide by zero encountered in scalar divide\n",
      "  prediction += sum_ratings / sum_similarities\n",
      "/home/brodrigues/Projects/RecoBinaPs/recommenders/BBCF.py:257: RuntimeWarning: divide by zero encountered in scalar divide\n",
      "  prediction += sum_ratings / sum_similarities\n"
     ]
    },
    {
     "name": "stdout",
     "output_type": "stream",
     "text": [
      "Completed 261/288 | Avg. time/task: 1m 52.0s | Time left: 50m 24.1s | Estimated completion time: 19:26:54\r"
     ]
    },
    {
     "name": "stderr",
     "output_type": "stream",
     "text": [
      "/home/brodrigues/Projects/RecoBinaPs/recommenders/BBCF.py:257: RuntimeWarning: divide by zero encountered in scalar divide\n",
      "  prediction += sum_ratings / sum_similarities\n"
     ]
    },
    {
     "name": "stdout",
     "output_type": "stream",
     "text": [
      "Completed 265/288 | Avg. time/task: 1m 51.6s | Time left: 42m 47.9s | Estimated completion time: 19:19:18\r"
     ]
    },
    {
     "name": "stderr",
     "output_type": "stream",
     "text": [
      "/home/brodrigues/Projects/RecoBinaPs/recommenders/BBCF.py:257: RuntimeWarning: divide by zero encountered in scalar divide\n",
      "  prediction += sum_ratings / sum_similarities\n",
      "/home/brodrigues/Projects/RecoBinaPs/recommenders/BBCF.py:257: RuntimeWarning: divide by zero encountered in scalar divide\n",
      "  prediction += sum_ratings / sum_similarities\n",
      "/home/brodrigues/Projects/RecoBinaPs/recommenders/BBCF.py:257: RuntimeWarning: divide by zero encountered in scalar divide\n",
      "  prediction += sum_ratings / sum_similarities\n",
      "/home/brodrigues/Projects/RecoBinaPs/recommenders/BBCF.py:257: RuntimeWarning: divide by zero encountered in scalar divide\n",
      "  prediction += sum_ratings / sum_similarities\n"
     ]
    },
    {
     "name": "stdout",
     "output_type": "stream",
     "text": [
      "Completed 266/288 | Avg. time/task: 1m 51.5s | Time left: 40m 54.1s | Estimated completion time: 19:17:24\r"
     ]
    },
    {
     "name": "stderr",
     "output_type": "stream",
     "text": [
      "/home/brodrigues/Projects/RecoBinaPs/recommenders/BBCF.py:257: RuntimeWarning: divide by zero encountered in scalar divide\n",
      "  prediction += sum_ratings / sum_similarities\n"
     ]
    },
    {
     "name": "stdout",
     "output_type": "stream",
     "text": [
      "Completed 268/288 | Avg. time/task: 1m 53.0s | Time left: 37m 40.5s | Estimated completion time: 19:14:11\r"
     ]
    },
    {
     "name": "stderr",
     "output_type": "stream",
     "text": [
      "/home/brodrigues/Projects/RecoBinaPs/recommenders/BBCF.py:257: RuntimeWarning: divide by zero encountered in scalar divide\n",
      "  prediction += sum_ratings / sum_similarities\n",
      "/home/brodrigues/Projects/RecoBinaPs/recommenders/BBCF.py:257: RuntimeWarning: divide by zero encountered in scalar divide\n",
      "  prediction += sum_ratings / sum_similarities\n"
     ]
    },
    {
     "name": "stdout",
     "output_type": "stream",
     "text": [
      "Completed 272/288 | Avg. time/task: 1m 52.9s | Time left: 30m 7.0s | Estimated completion time: 19:06:37\r"
     ]
    },
    {
     "name": "stderr",
     "output_type": "stream",
     "text": [
      "/home/brodrigues/Projects/RecoBinaPs/recommenders/BBCF.py:257: RuntimeWarning: divide by zero encountered in scalar divide\n",
      "  prediction += sum_ratings / sum_similarities\n",
      "/home/brodrigues/Projects/RecoBinaPs/recommenders/BBCF.py:257: RuntimeWarning: divide by zero encountered in scalar divide\n",
      "  prediction += sum_ratings / sum_similarities\n"
     ]
    },
    {
     "name": "stdout",
     "output_type": "stream",
     "text": [
      "Completed 274/288 | Avg. time/task: 1m 53.1s | Time left: 26m 22.9s | Estimated completion time: 19:02:53\r"
     ]
    },
    {
     "name": "stderr",
     "output_type": "stream",
     "text": [
      "/home/brodrigues/Projects/RecoBinaPs/recommenders/BBCF.py:257: RuntimeWarning: divide by zero encountered in scalar divide\n",
      "  prediction += sum_ratings / sum_similarities\n",
      "/home/brodrigues/Projects/RecoBinaPs/recommenders/BBCF.py:257: RuntimeWarning: divide by zero encountered in scalar divide\n",
      "  prediction += sum_ratings / sum_similarities\n",
      "/home/brodrigues/Projects/RecoBinaPs/recommenders/BBCF.py:257: RuntimeWarning: divide by zero encountered in scalar divide\n",
      "  prediction += sum_ratings / sum_similarities\n",
      "/home/brodrigues/Projects/RecoBinaPs/recommenders/BBCF.py:257: RuntimeWarning: divide by zero encountered in scalar divide\n",
      "  prediction += sum_ratings / sum_similarities\n"
     ]
    },
    {
     "name": "stdout",
     "output_type": "stream",
     "text": [
      "Completed 278/288 | Avg. time/task: 1m 54.0s | Time left: 19m 0.0s | Estimated completion time: 18:55:306\r"
     ]
    },
    {
     "name": "stderr",
     "output_type": "stream",
     "text": [
      "/home/brodrigues/Projects/RecoBinaPs/recommenders/BBCF.py:257: RuntimeWarning: divide by zero encountered in scalar divide\n",
      "  prediction += sum_ratings / sum_similarities\n",
      "/home/brodrigues/Projects/RecoBinaPs/recommenders/BBCF.py:257: RuntimeWarning: divide by zero encountered in scalar divide\n",
      "  prediction += sum_ratings / sum_similarities\n",
      "/home/brodrigues/Projects/RecoBinaPs/recommenders/BBCF.py:257: RuntimeWarning: divide by zero encountered in scalar divide\n",
      "  prediction += sum_ratings / sum_similarities\n",
      "/home/brodrigues/Projects/RecoBinaPs/recommenders/BBCF.py:257: RuntimeWarning: divide by zero encountered in scalar divide\n",
      "  prediction += sum_ratings / sum_similarities\n"
     ]
    },
    {
     "name": "stdout",
     "output_type": "stream",
     "text": [
      "Completed 280/288 | Avg. time/task: 1m 54.0s | Time left: 15m 11.7s | Estimated completion time: 18:51:42\r"
     ]
    },
    {
     "name": "stderr",
     "output_type": "stream",
     "text": [
      "/home/brodrigues/Projects/RecoBinaPs/recommenders/BBCF.py:257: RuntimeWarning: divide by zero encountered in scalar divide\n",
      "  prediction += sum_ratings / sum_similarities\n",
      "/home/brodrigues/Projects/RecoBinaPs/recommenders/BBCF.py:257: RuntimeWarning: divide by zero encountered in scalar divide\n",
      "  prediction += sum_ratings / sum_similarities\n"
     ]
    },
    {
     "name": "stdout",
     "output_type": "stream",
     "text": [
      "Completed 284/288 | Avg. time/task: 1m 54.7s | Time left: 7m 38.8s | Estimated completion time: 18:44:092\r"
     ]
    },
    {
     "name": "stderr",
     "output_type": "stream",
     "text": [
      "/home/brodrigues/Projects/RecoBinaPs/recommenders/BBCF.py:257: RuntimeWarning: divide by zero encountered in scalar divide\n",
      "  prediction += sum_ratings / sum_similarities\n",
      "/home/brodrigues/Projects/RecoBinaPs/recommenders/BBCF.py:257: RuntimeWarning: divide by zero encountered in scalar divide\n",
      "  prediction += sum_ratings / sum_similarities\n"
     ]
    },
    {
     "name": "stdout",
     "output_type": "stream",
     "text": [
      "Completed 288/288 | Avg. time/task: 1m 54.7s | Time left: 0m 0.0s | Estimated completion time: 18:36:305\n",
      "All tasks completed.\n",
      "Total time: 9h 10m 38.2s\r"
     ]
    }
   ],
   "source": [
    "from pattern_mining.strategies import BinaPsStrategy\n",
    "from recommenders.BBCF import BBCF\n",
    "from recommenders.common import weight_frequency\n",
    "from evaluation.benchmark import GridSearch, generate_parameter_combinations\n",
    "\n",
    "binaps_parameters_grid = {\n",
    "    \"dataset_binarization_threshold\": [1.0, 4.0],\n",
    "    \"hidden_dimension_neurons_number\": [None],\n",
    "    \"epochs\": [100, 1000, 2000],\n",
    "    \"weights_binarization_threshold\": [0.1, 0.2, 0.3],\n",
    "}\n",
    "\n",
    "binaps_strategies = [\n",
    "    BinaPsStrategy(**named_parameters)\n",
    "    for named_parameters in generate_parameter_combinations(binaps_parameters_grid)\n",
    "]\n",
    "\n",
    "parameters_grid = {\n",
    "    \"mining_strategy\": binaps_strategies,\n",
    "    \"knn_type\": [\"item\"],\n",
    "    \"number_of_top_k_biclusters\": [10, 50, 100, 200],\n",
    "    \"bicluster_similarity_strategy\": [weight_frequency],\n",
    "    \"knn_k\": [20, 50, 100, 200],\n",
    "}\n",
    "\n",
    "grid_search = GridSearch(\n",
    "    BBCF,\n",
    "    parameters_grid,\n",
    "    test_measures,\n",
    "    train_measures,\n",
    "    max_workers=6,\n",
    ")\n",
    "\n",
    "from numba.core.errors import NumbaWarning\n",
    "import warnings\n",
    "\n",
    "\n",
    "with warnings.catch_warnings():\n",
    "    warnings.simplefilter(\"ignore\", category=NumbaWarning)\n",
    "    best, ordering, raw = grid_search.fit(folds_without_index)"
   ]
  },
  {
   "cell_type": "code",
   "execution_count": 7,
   "metadata": {},
   "outputs": [
    {
     "ename": "",
     "evalue": "",
     "output_type": "error",
     "traceback": [
      "\u001b[1;31mThe Kernel crashed while executing code in the current cell or a previous cell. \n",
      "\u001b[1;31mPlease review the code in the cell(s) to identify a possible cause of the failure. \n",
      "\u001b[1;31mClick <a href='https://aka.ms/vscodeJupyterKernelCrash'>here</a> for more info. \n",
      "\u001b[1;31mView Jupyter <a href='command:jupyter.viewOutput'>log</a> for further details."
     ]
    }
   ],
   "source": [
    "import json\n",
    "from evaluation.benchmark import FallbackEncoder\n",
    "\n",
    "with open('IB_BBCF_BINAPS_grid_best.results', 'w') as file_object:\n",
    "    json.dump(best, file_object, indent=4, cls=FallbackEncoder)\n",
    "\n",
    "with open('IB_BBCF_BINAPS_grid_ordering.results', 'w') as file_object:\n",
    "    json.dump(ordering, file_object, indent=4, cls=FallbackEncoder)\n",
    "\n",
    "with open('IB_BBCF_BINAPS_grid_raw.results', 'w') as file_object:\n",
    "    json.dump(raw, file_object, indent=4, cls=FallbackEncoder)"
   ]
  }
 ],
 "metadata": {
  "kernelspec": {
   "display_name": "recommender",
   "language": "python",
   "name": "recommender"
  }
 },
 "nbformat": 4,
 "nbformat_minor": 2
}
