{
 "cells": [
  {
   "cell_type": "code",
   "execution_count": 1,
   "metadata": {},
   "outputs": [],
   "source": [
    "# Setup notebook\n",
    "import random\n",
    "import numpy as np\n",
    "import evaluation.plot as plot\n",
    "\n",
    "# Load the autoreload extension\n",
    "%load_ext autoreload\n",
    "\n",
    "# Set autoreload to reload all modules every time a cell is executed\n",
    "%autoreload 2\n",
    "\n",
    "# Call the function to customize the default template\n",
    "plot.customize_default_template()\n",
    "\n",
    "seed = 0\n",
    "random.seed(seed)\n",
    "np.random.seed(seed)"
   ]
  },
  {
   "cell_type": "code",
   "execution_count": 2,
   "metadata": {},
   "outputs": [
    {
     "name": "stdout",
     "output_type": "stream",
     "text": [
      "Already downloaded!. Nothing to do.\n"
     ]
    }
   ],
   "source": [
    "from dataset.common import resolve_folds\n",
    "from dataset.movie_lens import load_ml_100k_folds\n",
    "\n",
    "data, k_fold = load_ml_100k_folds()\n",
    "folds = resolve_folds(data, k_fold)\n",
    "\n",
    "folds_without_index = [fold[1] for fold in folds]"
   ]
  },
  {
   "cell_type": "code",
   "execution_count": 3,
   "metadata": {},
   "outputs": [],
   "source": [
    "from evaluation.strategies import (\n",
    "    MAEStrategy,\n",
    "    RMSEStrategy,\n",
    "    MicroAveragedRecallStrategy,\n",
    "    MacroAveragedRecallStrategy,\n",
    "    RecallAtKStrategy,\n",
    "    MicroAveragedPrecisionStrategy,\n",
    "    MacroAveragedPrecisionStrategy,\n",
    "    PrecisionAtKStrategy,\n",
    "    NDCGStrategy,\n",
    "    F1ScoreStrategy,\n",
    "    PredictionCoverageStrategy,\n",
    "    BiclusterCountStrategy,\n",
    "    MeanBiclusterSizeStrategy,\n",
    "    MeanBiclusterIntentStrategy,\n",
    "    MeanBiclusterExtentStrategy,\n",
    "    ItemCoverage,\n",
    "    UserCoverage,\n",
    ")\n",
    "\n",
    "train_measures = [\n",
    "    BiclusterCountStrategy(),\n",
    "    MeanBiclusterSizeStrategy(),\n",
    "    MeanBiclusterIntentStrategy(),\n",
    "    MeanBiclusterExtentStrategy(),\n",
    "    ItemCoverage(),\n",
    "    UserCoverage(),\n",
    "]\n",
    "\n",
    "test_measures = [\n",
    "    MAEStrategy(verbose=False),\n",
    "    RMSEStrategy(verbose=False),\n",
    "    MicroAveragedRecallStrategy(threshold=4.0),\n",
    "    MacroAveragedRecallStrategy(threshold=4.0),\n",
    "    RecallAtKStrategy(k=20, threshold=4.0),\n",
    "    MicroAveragedPrecisionStrategy(threshold=4.0),\n",
    "    MacroAveragedPrecisionStrategy(threshold=4.0),\n",
    "    PrecisionAtKStrategy(k=20, threshold=4.0),\n",
    "    NDCGStrategy(k=20, threshold=4.0),\n",
    "    F1ScoreStrategy(k=20, threshold=4.0),\n",
    "    PredictionCoverageStrategy(),\n",
    "]"
   ]
  },
  {
   "cell_type": "code",
   "execution_count": 8,
   "metadata": {},
   "outputs": [
    {
     "name": "stdout",
     "output_type": "stream",
     "text": [
      "Completed 4/4 | Avg. time/task: 0m 11.7s | Time left: 0m 0.0s | Estimated completion time: 15:00:005\n",
      "All tasks completed.\n",
      "Total time: 0h 0m 47.0s\r"
     ]
    }
   ],
   "source": [
    "from pattern_mining.strategies import BinaPsStrategy\n",
    "from recommenders.BBCF import BBCF\n",
    "from recommenders.common import weight_frequency\n",
    "from evaluation.benchmark import GridSearch, expand_grid\n",
    "\n",
    "\n",
    "binaps_parameters_grid = {\n",
    "    \"dataset_binarization_threshold\": [1.0, 4.0],\n",
    "    \"hidden_dimension_neurons_number\": [None],\n",
    "    \"epochs\": [100, 1000, 2000],\n",
    "    \"weights_binarization_threshold\": [0.1, 0.2, 0.3],\n",
    "}\n",
    "\n",
    "binaps_strategies = [\n",
    "    BinaPsStrategy(**named_parameters) for named_parameters in expand_grid(binaps_parameters_grid)\n",
    "]\n",
    "\n",
    "parameters_grid = {\n",
    "    \"mining_strategy\": binaps_strategies,\n",
    "    \"knn_type\": [\"item\"],\n",
    "    \"number_of_top_k_biclusters\": [10, 50, 100, 200],\n",
    "    \"bicluster_similarity_strategy\": [weight_frequency],\n",
    "    \"knn_k\": [20, 50, 100, 200],\n",
    "}\n",
    "\n",
    "grid_search = GridSearch(\n",
    "    BBCF,\n",
    "    parameters_grid,\n",
    "    test_measures,\n",
    "    train_measures,\n",
    "    max_workers=14,\n",
    ")\n",
    "\n",
    "from numba.core.errors import NumbaWarning\n",
    "import warnings\n",
    "\n",
    "\n",
    "with warnings.catch_warnings():\n",
    "    warnings.simplefilter(\"ignore\", category=NumbaWarning)\n",
    "    best, ordering, raw = grid_search.fit(folds_without_index)"
   ]
  },
  {
   "cell_type": "code",
   "execution_count": 9,
   "metadata": {},
   "outputs": [],
   "source": [
    "import json\n",
    "from evaluation.benchmark import FallbackEncoder\n",
    "\n",
    "with open('IB_BBCF_BINAPS_grid_best.results', 'w') as file_object:\n",
    "    json.dump(best, file_object, indent=4, cls=FallbackEncoder)\n",
    "\n",
    "with open('IB_BBCF_BINAPS_grid_ordering.results', 'w') as file_object:\n",
    "    json.dump(ordering, file_object, indent=4, cls=FallbackEncoder)\n",
    "\n",
    "with open('IB_BBCF_BINAPS_grid_raw.results', 'w') as file_object:\n",
    "    json.dump(raw, file_object, indent=4, cls=FallbackEncoder)"
   ]
  }
 ],
 "metadata": {
  "kernelspec": {
   "display_name": "recommender",
   "language": "python",
   "name": "recommender"
  }
 },
 "nbformat": 4,
 "nbformat_minor": 2
}
