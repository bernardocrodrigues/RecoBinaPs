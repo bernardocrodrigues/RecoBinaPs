{
 "cells": [
  {
   "cell_type": "code",
   "execution_count": 1,
   "metadata": {},
   "outputs": [],
   "source": [
    "# Setup notebook\n",
    "import random\n",
    "import numpy as np\n",
    "import evaluation.plot as plot\n",
    "\n",
    "# Load the autoreload extension\n",
    "%load_ext autoreload\n",
    "\n",
    "# Set autoreload to reload all modules every time a cell is executed\n",
    "%autoreload 2\n",
    "\n",
    "# Call the function to customize the default template\n",
    "plot.customize_default_template()\n",
    "\n",
    "seed = 0\n",
    "random.seed(seed)\n",
    "np.random.seed(seed)"
   ]
  },
  {
   "cell_type": "code",
   "execution_count": 2,
   "metadata": {},
   "outputs": [
    {
     "name": "stdout",
     "output_type": "stream",
     "text": [
      "Already downloaded!. Nothing to do.\n"
     ]
    }
   ],
   "source": [
    "from dataset.common import resolve_folds\n",
    "from dataset.movie_lens import load_ml_100k_folds\n",
    "\n",
    "data, k_fold = load_ml_100k_folds()\n",
    "folds = resolve_folds(data, k_fold)\n",
    "\n",
    "folds_without_index = [fold[1] for fold in folds]\n",
    "\n",
    "_, (trainset, testset) = folds[0]"
   ]
  },
  {
   "cell_type": "code",
   "execution_count": 3,
   "metadata": {},
   "outputs": [],
   "source": [
    "from evaluation.strategies import (\n",
    "    MAEStrategy,\n",
    "    RMSEStrategy,\n",
    "    MicroAveragedRecallStrategy,\n",
    "    MacroAveragedRecallStrategy,\n",
    "    RecallAtKStrategy,\n",
    "    MicroAveragedPrecisionStrategy,\n",
    "    MacroAveragedPrecisionStrategy,\n",
    "    PrecisionAtKStrategy,\n",
    "    NDCGStrategy,\n",
    "    F1ScoreStrategy,\n",
    "    PredictionCoverageStrategy,\n",
    ")\n",
    "\n",
    "train_measures = [ ]\n",
    "\n",
    "test_measures = [\n",
    "    MAEStrategy(verbose=False),\n",
    "    RMSEStrategy(verbose=False),\n",
    "    MicroAveragedRecallStrategy(threshold=4.0),\n",
    "    MacroAveragedRecallStrategy(threshold=4.0),\n",
    "    RecallAtKStrategy(k=20, threshold=4.0),\n",
    "    MicroAveragedPrecisionStrategy(threshold=4.0),\n",
    "    MacroAveragedPrecisionStrategy(threshold=4.0),\n",
    "    PrecisionAtKStrategy(k=20, threshold=4.0),\n",
    "    NDCGStrategy(k=20, threshold=4.0),\n",
    "    F1ScoreStrategy(k=20, threshold=4.0),\n",
    "    PredictionCoverageStrategy(),\n",
    "]\n"
   ]
  },
  {
   "cell_type": "code",
   "execution_count": 5,
   "metadata": {},
   "outputs": [
    {
     "name": "stdout",
     "output_type": "stream",
     "text": [
      "Completed 108/108 | Avg. time/task: 0m 35.8s | Time left: 0m 0.0s | Estimated completion time: 14:28:528\n",
      "All tasks completed.\n",
      "Total time: 1h 4m 30.6s\r"
     ]
    }
   ],
   "source": [
    "from surprise.prediction_algorithms import SVDpp\n",
    "from evaluation.benchmark import GridSearch\n",
    "\n",
    "parameters_grid = {\n",
    "    \"n_factors\": [20, 50, 100, 200],\n",
    "    \"n_epochs\": [10, 20, 40],\n",
    "    \"lr_all\": [0.002, 0.005, 0.01],\n",
    "    \"reg_all\": [0.01, 0.02, 0.3],\n",
    "}\n",
    "\n",
    "grid_search = GridSearch(\n",
    "    SVDpp,\n",
    "    parameters_grid,\n",
    "    test_measures,\n",
    "    train_measures,\n",
    "    max_workers=16,\n",
    ")\n",
    "\n",
    "best, ordering, raw = grid_search.fit(folds_without_index)"
   ]
  },
  {
   "cell_type": "code",
   "execution_count": 6,
   "metadata": {},
   "outputs": [
    {
     "ename": "",
     "evalue": "",
     "output_type": "error",
     "traceback": [
      "\u001b[1;31mThe Kernel crashed while executing code in the current cell or a previous cell. \n",
      "\u001b[1;31mPlease review the code in the cell(s) to identify a possible cause of the failure. \n",
      "\u001b[1;31mClick <a href='https://aka.ms/vscodeJupyterKernelCrash'>here</a> for more info. \n",
      "\u001b[1;31mView Jupyter <a href='command:jupyter.viewOutput'>log</a> for further details."
     ]
    }
   ],
   "source": [
    "import json\n",
    "\n",
    "with open('SVD++_grid_best.results', 'w') as file_object:\n",
    "    json.dump(best, file_object, indent=4)\n",
    "\n",
    "with open('SVD++_grid_ordering.results', 'w') as file_object:\n",
    "    json.dump(ordering, file_object, indent=4)\n",
    "\n",
    "with open('SVD++_grid_raw.results', 'w') as file_object:\n",
    "    json.dump(raw, file_object, indent=4)\n"
   ]
  }
 ],
 "metadata": {
  "kernelspec": {
   "display_name": "recommender",
   "language": "python",
   "name": "recommender"
  },
  "language_info": {
   "codemirror_mode": {
    "name": "ipython",
    "version": 3
   },
   "file_extension": ".py",
   "mimetype": "text/x-python",
   "name": "python",
   "nbconvert_exporter": "python",
   "pygments_lexer": "ipython3",
   "version": "3.10.12"
  }
 },
 "nbformat": 4,
 "nbformat_minor": 2
}
