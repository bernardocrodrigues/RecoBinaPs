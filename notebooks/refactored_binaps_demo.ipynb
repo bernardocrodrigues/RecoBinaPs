{
 "cells": [
  {
   "cell_type": "markdown",
   "metadata": {},
   "source": [
    "# Refactored BinaPs Demo\n",
    "\n",
    "Copyright 2022 Bernardo C. Rodrigues\n",
    "\n",
    "This program is free software: you can redistribute it and/or modify it under the terms of the GNU General Public\n",
    "License as published by the Free Software Foundation, either version 3 of the License, or (at your option) any later\n",
    "version. This program is distributed in the hope that it will be useful, but WITHOUT ANY WARRANTY; without even the\n",
    "implied warranty of MERCHANTABILITY or FITNESS FOR A PARTICULAR PURPOSE. See the GNU General Public License for more\n",
    "details. You should have received a copy of the GNU General Public License along with this program. If not, \n",
    "see <https://www.gnu.org/licenses/>. \n",
    "\n",
    "This notebook demonstrates the usability of an overhauled BinaPs implementation that is supposed to be more flexible and\n",
    "developer friendly. It consists on three steps:\n",
    "\n",
    "**1. Generate synthetic data:** With one of the provided scripts, we generate synthetic data in which a set of known\n",
    "patterns are planted.\n",
    "\n",
    "**2. Run BinaPs:** We'll run BinaPs over this synthetic dataset and get a list of inferred patterns\n"
   ]
  },
  {
   "cell_type": "code",
   "execution_count": 1,
   "metadata": {},
   "outputs": [
    {
     "name": "stdout",
     "output_type": "stream",
     "text": [
      "CUDA Device: NVIDIA GeForce GTX 1050\n"
     ]
    }
   ],
   "source": [
    "import torch\n",
    "\n",
    "# Check if CUDA is available\n",
    "if(torch.cuda.is_available()):\n",
    "    print(f\"CUDA Device: {torch.cuda.get_device_name(0)}\")\n",
    "else:\n",
    "    print(\"No CUDA device avaiable\")"
   ]
  },
  {
   "cell_type": "code",
   "execution_count": 2,
   "metadata": {},
   "outputs": [
    {
     "name": "stdout",
     "output_type": "stream",
     "text": [
      "Rscript binaps/Data/Synthetic_data/generate_toy.R AND 20 10000 10 data 0.001 0.05\n",
      "[1] 108\n",
      "[1] 10000   108\n",
      "[1] \"Added noise.\"\n",
      "[1] \"Converted to dat file.\"\n",
      "[1] \"Removed rows without content.\"\n",
      "         used (Mb) gc trigger (Mb) max used (Mb)\n",
      "Ncells 367397 19.7     641325 34.3   641325 34.3\n",
      "Vcells 720519  5.5    8388608 64.0  5384870 41.1\n",
      "[1] 10000    86\n",
      "\n"
     ]
    }
   ],
   "source": [
    "from lib.BinapsWrapper import generate_synthetic_data\n",
    "\n",
    "output_file = f\"data\"\n",
    "\n",
    "row_quantity = 10000\n",
    "column_quantity = 20\n",
    "max_pattern_size = 10\n",
    "noise = 0.001\n",
    "density = 0.05\n",
    "\n",
    "generate_synthetic_data(row_quantity, column_quantity, output_file, max_pattern_size, noise, density)"
   ]
  },
  {
   "cell_type": "code",
   "execution_count": 3,
   "metadata": {},
   "outputs": [],
   "source": [
    "%load_ext autoreload\n",
    "%autoreload 2"
   ]
  },
  {
   "cell_type": "code",
   "execution_count": 10,
   "metadata": {},
   "outputs": [
    {
     "name": "stdout",
     "output_type": "stream",
     "text": [
      "on 9: Test set: Average loss: 10.157369, Accuracy: 22/683 (3%)                                                          \n",
      "on 19: Test set: Average loss: 10.201138, Accuracy: 13/683 (2%)                                                         \n",
      "on 29: Test set: Average loss: 9.945162, Accuracy: 29/683 (4%)                                                          \n",
      "on 39: Test set: Average loss: 10.445082, Accuracy: 11/683 (2%)                                                         \n",
      "on 49: Test set: Average loss: 9.255984, Accuracy: 11/683 (2%)                                                          \n",
      "on 59: Test set: Average loss: 9.823914, Accuracy: 26/683 (4%)                                                          \n",
      "on 69: Test set: Average loss: 9.510533, Accuracy: 30/683 (4%)                                                          \n",
      "on 79: Test set: Average loss: 10.414618, Accuracy: 32/683 (5%)                                                         \n",
      "on 89: Test set: Average loss: 10.485984, Accuracy: 18/683 (3%)                                                         \n",
      "on 99: Test set: Average loss: 10.547787, Accuracy: 14/683 (2%)                                                         \n",
      "|████████████████████████████████████████| 100/100 [100%] in 41.4s (2.42/s)                                             \n"
     ]
    }
   ],
   "source": [
    "from torch import device, cuda\n",
    "\n",
    "import numpy as np\n",
    "\n",
    "from lib.binaps.network import learn, get_patterns\n",
    "from lib.binaps.dataset import BinaryDataset, parse_dat_file, divide_data\n",
    "\n",
    "data_file = \"data.dat\"\n",
    "proportion = 0.9\n",
    "\n",
    "device = device(\"cuda:0\" if cuda.is_available() else \"cpu\")\n",
    "\n",
    "data = parse_dat_file(data_file)\n",
    "train_data, test_data = divide_data(data, 0.9)\n",
    "\n",
    "train_dataset = BinaryDataset(train_data, device)\n",
    "test_dataset = BinaryDataset(test_data, device)\n",
    "\n",
    "batch_size = 64\n",
    "test_batch_size = 64\n",
    "hidden_dim = 20\n",
    "lr = 0.01\n",
    "weight_decay = 0\n",
    "gamma = 0.1\n",
    "epochs = 100\n",
    "\n",
    "model, weights = learn(train_dataset, \n",
    "                       test_dataset,\n",
    "                       batch_size,\n",
    "                       test_batch_size,\n",
    "                       hidden_dim,\n",
    "                       lr,\n",
    "                       weight_decay,\n",
    "                       gamma,\n",
    "                       epochs)\n"
   ]
  },
  {
   "cell_type": "code",
   "execution_count": 11,
   "metadata": {},
   "outputs": [
    {
     "name": "stdout",
     "output_type": "stream",
     "text": [
      "[38 39 65 66 67 68 69 70 88]\n",
      "[46 47 48 49 50 51 52 53 54]\n",
      "[0 1 2 3 4 5 6 7 8]\n",
      "[ 9 10 11 12 13 14 45]\n",
      "[55 56 57 58 59 60 61 62 63 64]\n",
      "[ 23  24  25  26  27  99 100 101 102 103]\n",
      "[ 9 10 11 12 13 14]\n",
      "[15 16 17 28 29 30 38 39 44 45 87 88 89 90]\n",
      "[46 47 48 49 50 51 52 53 54]\n",
      "[ 38  39  44  45  87  88  89  90 104 105 106 107]\n",
      "[18 19 20 21 22 87]\n",
      "[91 92 93 94 95 96 97 98]\n",
      "[104 105 106 107]\n",
      "[71 72 73 74 75 76 77 78]\n",
      "[31 32 33 34 35 36 37]\n",
      "[79 80 81 82 83 84 85 86]\n",
      "[0 1 2 3 4 5 6 7 8]\n",
      "[40 41 42 43 44]\n",
      "[55 56 57 58 59 60 61 62 63 64]\n",
      "[46 47 48 49 50 51 52 53 54]\n"
     ]
    }
   ],
   "source": [
    "patterns = get_patterns(weights)\n",
    "\n",
    "for pattern in patterns:\n",
    "    print(pattern)"
   ]
  }
 ],
 "metadata": {
  "kernelspec": {
   "display_name": "binaps",
   "language": "python",
   "name": "binaps"
  },
  "language_info": {
   "codemirror_mode": {
    "name": "ipython",
    "version": 3
   },
   "file_extension": ".py",
   "mimetype": "text/x-python",
   "name": "python",
   "nbconvert_exporter": "python",
   "pygments_lexer": "ipython3",
   "version": "3.10.7"
  },
  "orig_nbformat": 4,
  "vscode": {
   "interpreter": {
    "hash": "31f2aee4e71d21fbe5cf8b01ff0e069b9275f58929596ceb00d14d90e3e16cd6"
   }
  }
 },
 "nbformat": 4,
 "nbformat_minor": 2
}
