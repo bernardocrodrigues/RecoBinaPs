{
 "cells": [
  {
   "cell_type": "markdown",
   "metadata": {},
   "source": [
    "# Similarity Matrix Demo\n",
    "\n",
    "Copyright 2022 Bernardo C. Rodrigues\n",
    "\n",
    "See COPYING file for license details"
   ]
  },
  {
   "cell_type": "code",
   "execution_count": 1,
   "metadata": {},
   "outputs": [
    {
     "name": "stderr",
     "output_type": "stream",
     "text": [
      "2024-06-07 11:55:44,697 - recommenders - INFO - Forcing Numba compilation...\n",
      "2024-06-07 11:55:45,503 - recommenders - INFO - Forcing Numba compilation OK\n"
     ]
    },
    {
     "name": "stdout",
     "output_type": "stream",
     "text": [
      "[[1.         0.5        0.67082039 0.70710678 0.5       ]\n",
      " [0.5        1.         0.         0.70710678 0.5       ]\n",
      " [0.67082039 0.         1.         0.31622777 0.67082039]\n",
      " [0.70710678 0.70710678 0.31622777 1.         0.70710678]\n",
      " [0.5        0.5        0.67082039 0.70710678 1.        ]]\n",
      "[[1.         0.8660254  0.8660254  0.         0.         0.70710678\n",
      "  0.        ]\n",
      " [0.8660254  1.         1.         0.         0.         0.81649658\n",
      "  0.        ]\n",
      " [0.8660254  1.         1.         0.         0.         0.81649658\n",
      "  0.        ]\n",
      " [0.         0.         0.         1.         1.         0.57735027\n",
      "  0.        ]\n",
      " [0.         0.         0.         1.         1.         0.57735027\n",
      "  0.        ]\n",
      " [0.70710678 0.81649658 0.81649658 0.57735027 0.57735027 1.\n",
      "  0.        ]\n",
      " [0.         0.         0.         0.         0.         0.\n",
      "  1.        ]]\n",
      "[[1.         0.57735027 0.8660254  0.75       0.89442719 0.57735027]\n",
      " [0.57735027 1.         0.66666667 0.8660254  0.77459667 0.66666667]\n",
      " [0.8660254  0.66666667 1.         0.8660254  0.77459667 0.33333333]\n",
      " [0.75       0.8660254  0.8660254  1.         0.89442719 0.57735027]\n",
      " [0.89442719 0.77459667 0.77459667 0.89442719 1.         0.77459667]\n",
      " [0.57735027 0.66666667 0.33333333 0.57735027 0.77459667 1.        ]]\n"
     ]
    }
   ],
   "source": [
    "# Compute the similarity matrix using the Jaccard distance. \n",
    "from recommenders.common import get_similarity_matrix\n",
    "from tests.toy_datasets import belohlavek_binary_dataset, zaki_binary_dataset, my_toy_binary_dataset\n",
    "\n",
    "belohlavek_similarity_matrix = get_similarity_matrix(belohlavek_binary_dataset.astype(float))\n",
    "my_toy_similarity_matrix = get_similarity_matrix(my_toy_binary_dataset.astype(float))\n",
    "zaki_similarity_matrix = get_similarity_matrix(zaki_binary_dataset.astype(float))\n",
    "\n",
    "print(belohlavek_similarity_matrix)\n",
    "print(my_toy_similarity_matrix)\n",
    "print(zaki_similarity_matrix)"
   ]
  },
  {
   "cell_type": "code",
   "execution_count": null,
   "metadata": {},
   "outputs": [],
   "source": [
    "# Define a function to plot the similarity matrix\n",
    "import numpy as np\n",
    "import matplotlib.pyplot as plt\n",
    "\n",
    "\n",
    "def plot_similarity_matrix(matrix: np.ndarray, title: str, fig: plt.Figure, ax: plt.Axes):\n",
    "    subfig = ax.imshow(matrix, vmin=0, vmax=1, cmap=\"Greys\")\n",
    "    ax.set(xlabel=\"User\", ylabel=\"User\", title=title)\n",
    "    fig.colorbar(subfig, ax=ax).set_label(\"Similarity\")"
   ]
  },
  {
   "cell_type": "code",
   "execution_count": null,
   "metadata": {},
   "outputs": [],
   "source": [
    "# Plot the similarity matrices\n",
    "import matplotlib.pyplot as plt\n",
    "\n",
    "fig, axs = plt.subplots(1, 3, figsize=(20, 5))\n",
    "fig.suptitle(\"Similarity Matrices\")\n",
    "\n",
    "plot_similarity_matrix(belohlavek_similarity_matrix, \"Belohlavek dataset\", fig, axs[0])\n",
    "plot_similarity_matrix(my_toy_similarity_matrix, \"My Toy dataset\", fig, axs[1])\n",
    "plot_similarity_matrix(zaki_similarity_matrix, \"Zaki dataset\", fig, axs[2])\n",
    "\n",
    "fig.show()"
   ]
  }
 ],
 "metadata": {
  "kernelspec": {
   "display_name": "recommender",
   "language": "python",
   "name": "recommender"
  },
  "language_info": {
   "codemirror_mode": {
    "name": "ipython",
    "version": 3
   },
   "file_extension": ".py",
   "mimetype": "text/x-python",
   "name": "python",
   "nbconvert_exporter": "python",
   "pygments_lexer": "ipython3",
   "version": "3.10.12"
  },
  "orig_nbformat": 4
 },
 "nbformat": 4,
 "nbformat_minor": 2
}
