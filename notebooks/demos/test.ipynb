{
 "cells": [
  {
   "cell_type": "code",
   "execution_count": 1,
   "metadata": {},
   "outputs": [],
   "source": [
    "# Setup notebook\n",
    "import random\n",
    "import numpy as np\n",
    "import evaluation.plot as plot\n",
    "\n",
    "# Load the autoreload extension\n",
    "%load_ext autoreload\n",
    "\n",
    "# Set autoreload to reload all modules every time a cell is executed\n",
    "%autoreload 2\n",
    "\n",
    "# Call the function to customize the default template\n",
    "plot.customize_default_template()\n",
    "\n",
    "seed = 0\n",
    "random.seed(seed)\n",
    "np.random.seed(seed)"
   ]
  },
  {
   "cell_type": "code",
   "execution_count": 2,
   "metadata": {},
   "outputs": [
    {
     "name": "stdout",
     "output_type": "stream",
     "text": [
      "Already downloaded!. Nothing to do.\n"
     ]
    }
   ],
   "source": [
    "from dataset.common import resolve_folds\n",
    "from dataset.movie_lens import load_ml_100k_folds\n",
    "\n",
    "data, k_fold = load_ml_100k_folds()\n",
    "folds = resolve_folds(data, k_fold)\n",
    "\n",
    "folds_without_index = [fold[1] for fold in folds]\n",
    "\n",
    "_, (trainset, testset) = folds[0]"
   ]
  },
  {
   "cell_type": "code",
   "execution_count": 3,
   "metadata": {},
   "outputs": [],
   "source": [
    "from evaluation.strategies import (\n",
    "    MAEStrategy,\n",
    "    RMSEStrategy,\n",
    "    MicroAveragedRecallStrategy,\n",
    "    MacroAveragedRecallStrategy,\n",
    "    RecallAtKStrategy,\n",
    "    MicroAveragedPrecisionStrategy,\n",
    "    MacroAveragedPrecisionStrategy,\n",
    "    PrecisionAtKStrategy,\n",
    "    NDCGStrategy,\n",
    "    F1ScoreStrategy,\n",
    "    PredictionCoverageStrategy,\n",
    "    BiclusterCountStrategy,\n",
    "    MeanBiclusterSizeStrategy,\n",
    "    MeanBiclusterIntentStrategy,\n",
    "    MeanBiclusterExtentStrategy,\n",
    "    ItemCoverage,\n",
    "    UserCoverage,\n",
    ")\n",
    "\n",
    "train_measures = [\n",
    "    BiclusterCountStrategy(),\n",
    "    MeanBiclusterSizeStrategy(),\n",
    "    MeanBiclusterIntentStrategy(),\n",
    "    MeanBiclusterExtentStrategy(),\n",
    "    ItemCoverage(),\n",
    "    UserCoverage(),\n",
    "]\n",
    "\n",
    "test_measures = [\n",
    "    MAEStrategy(verbose=False),\n",
    "    RMSEStrategy(verbose=False),\n",
    "    MicroAveragedRecallStrategy(threshold=4.0),\n",
    "    MacroAveragedRecallStrategy(threshold=4.0),\n",
    "    RecallAtKStrategy(k=20, threshold=4.0),\n",
    "    MicroAveragedPrecisionStrategy(threshold=4.0),\n",
    "    MacroAveragedPrecisionStrategy(threshold=4.0),\n",
    "    PrecisionAtKStrategy(k=20, threshold=4.0),\n",
    "    NDCGStrategy(k=20, threshold=4.0),\n",
    "    F1ScoreStrategy(k=20, threshold=4.0),\n",
    "    PredictionCoverageStrategy(),\n",
    "]"
   ]
  },
  {
   "cell_type": "code",
   "execution_count": 4,
   "metadata": {},
   "outputs": [
    {
     "name": "stderr",
     "output_type": "stream",
     "text": [
      "/home/brodrigues/Projects/recommender-systems/recommenders/common.py:339: NumbaWarning:\n",
      "\n",
      "Cannot cache compiled function \"get_top_k_biclusters_for_user\" as it uses dynamic globals (such as ctypes pointers and large global arrays)\n",
      "\n"
     ]
    },
    {
     "name": "stdout",
     "output_type": "stream",
     "text": [
      "Completed 20000/20000 | Avg. time/task: 0m 0.1s | Time left: 0m 0.0sss\n",
      "All tasks completed.\n",
      "Total time: 0h 36m 5.4s\n"
     ]
    }
   ],
   "source": [
    "from evaluation.benchmark import fit_and_score\n",
    "\n",
    "from pattern_mining.strategies import GreConDStrategy, QUBIC2Strategy\n",
    "\n",
    "from recommenders.BBCF import BBCF\n",
    "from recommenders.PAkNN import PAkNN\n",
    "from recommenders.common import weight_frequency, double_weight_frequency, user_pattern_similarity\n",
    "\n",
    "from pattern_mining.strategies import BinaPsStrategy\n",
    "from recommenders.BBCF import BBCF\n",
    "from recommenders.common import weight_frequency\n",
    "from evaluation.benchmark import GridSearch, generate_parameter_combinations\n",
    "\n",
    "# recommender = BBCF(\n",
    "#     mining_strategy=BinaPsStrategy(\n",
    "#         dataset_binarization_threshold=4.0,\n",
    "#         hidden_dimension_neurons_number=None,\n",
    "#         epochs=10000,\n",
    "#         weights_binarization_threshold=0.1,\n",
    "#     ),\n",
    "#     knn_type=\"item\",\n",
    "#     number_of_top_k_biclusters=100,\n",
    "#     bicluster_similarity_strategy=weight_frequency,\n",
    "#     knn_k=50,\n",
    "# )\n",
    "\n",
    "recommender = BBCF(\n",
    "    mining_strategy=QUBIC2Strategy(bicluster_number=1000, minimum_column_width=30),\n",
    "    knn_type=\"item\",\n",
    "    number_of_top_k_biclusters=200,\n",
    "    bicluster_similarity_strategy=weight_frequency,\n",
    "    knn_k=100,\n",
    ")\n",
    "\n",
    "\n",
    "results = [\n",
    "    fit_and_score(\n",
    "        recommender_system=recommender,\n",
    "        trainset=trainset,\n",
    "        testset=testset,\n",
    "        test_measures=test_measures,\n",
    "        train_measures=train_measures,\n",
    "    )\n",
    "]"
   ]
  },
  {
   "cell_type": "code",
   "execution_count": 6,
   "metadata": {},
   "outputs": [
    {
     "name": "stdout",
     "output_type": "stream",
     "text": [
      "mae                            0.75\n",
      "rmse                           0.98\n",
      "micro_averaged_recall          0.41\n",
      "macro_averaged_recall          0.36\n",
      "recall_at_k                    0.27\n",
      "micro_averaged_precision       0.81\n",
      "macro_averaged_precision       0.75\n",
      "precision_at_k                 0.75\n",
      "nDCG_at_k                      0.40\n",
      "f1_score                       0.40\n",
      "prediction_coverage            0.44\n",
      "bicluster_count                260.00\n",
      "mean_bicluster_size            92.04\n",
      "mean_bicluster_intent          45.34\n",
      "mean_bicluster_extent          2.04\n",
      "item_coverage                  0.52\n",
      "user_coverage                  0.29\n"
     ]
    }
   ],
   "source": [
    "for key, value in results[0][0].items():\n",
    "    try:\n",
    "        print(f\"{key:30} {value:.2f}\")\n",
    "    except TypeError:\n",
    "        print(f\"{key:30} {value}\")\n",
    "\n",
    "for key, value in results[0][1].items():\n",
    "    try:\n",
    "        print(f\"{key:30} {value:.2f}\")\n",
    "    except TypeError:\n",
    "        print(f\"{key:30} {value}\")"
   ]
  }
 ],
 "metadata": {
  "kernelspec": {
   "display_name": "recommender",
   "language": "python",
   "name": "recommender"
  }
 },
 "nbformat": 4,
 "nbformat_minor": 2
}
