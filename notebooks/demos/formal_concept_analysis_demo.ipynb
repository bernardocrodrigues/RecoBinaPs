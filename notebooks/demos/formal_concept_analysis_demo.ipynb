{
 "cells": [
  {
   "cell_type": "markdown",
   "metadata": {},
   "source": [
    "# fca Demo\n",
    "\n",
    "This notebook demonstrates the usability of the FormalConceptAnalysis module.\n",
    "\n",
    "The BinaryDataset class works as a wrapper over a binary numpy matrix to add some helper functions to aid us perform FCA\n",
    "related tasks such as computation of intents/extents.\n",
    "\n",
    "# Bibliography\n",
    "[1] Discovery of optimal factors in binary data via a novel method of matrix decomposition <https://www.sciencedirect.com/science/article/pii/S0022000009000415>\n",
    "\n",
    "Copyright 2022 Bernardo C. Rodrigues\n",
    "\n",
    "See COPYING file for license details"
   ]
  },
  {
   "cell_type": "code",
   "execution_count": null,
   "metadata": {},
   "outputs": [],
   "source": [
    "import numpy as np\n",
    "from fca.formal_concept_analysis import Concept\n",
    "\n",
    "# Formal context from [1] page 10\n",
    "C1 = Concept(np.array([0, 4, 8, 10]), np.array([0, 1, 2, 4]))\n",
    "C2 = Concept(np.array([1, 3, 11]), np.array([0, 1, 5, 7]))\n",
    "C3 = Concept(np.array([2, 5, 6]), np.array([1, 4, 6]))\n",
    "C4 = Concept(np.array([2, 5, 6, 7, 9]), np.array([6]))\n",
    "C5 = Concept(np.array([0, 2, 4, 5, 6, 8, 10]), np.array([1, 4]))\n",
    "\n",
    "formal_context_1 = [C1, C2, C3, C4]"
   ]
  },
  {
   "cell_type": "code",
   "execution_count": null,
   "metadata": {},
   "outputs": [],
   "source": [
    "# Generate factor matrices from concepts\n",
    "from rich.jupyter import print\n",
    "from fca.formal_concept_analysis import get_factor_matrices_from_concepts\n",
    "from tests.ToyDatasets import belohlavek_binary_dataset_2\n",
    "\n",
    "Af, Bf = get_factor_matrices_from_concepts(formal_context_1, belohlavek_binary_dataset_2.shape[0], belohlavek_binary_dataset_2.shape[1])\n",
    "\n",
    "print(Af)\n",
    "print(Bf)"
   ]
  },
  {
   "cell_type": "code",
   "execution_count": null,
   "metadata": {},
   "outputs": [],
   "source": [
    "# Recover original matrix\n",
    "I = np.matmul(Af, Bf)\n",
    "assert (I == belohlavek_binary_dataset_2.binary_dataset).all()\n",
    "\n",
    "print(I)"
   ]
  },
  {
   "cell_type": "code",
   "execution_count": null,
   "metadata": {},
   "outputs": [],
   "source": [
    "from tests.ToyDatasets import belohlavek_binary_dataset\n",
    "from fca.formal_concept_analysis import grecond\n",
    "\n",
    "formal_context, coverage = grecond(belohlavek_binary_dataset)\n",
    "\n",
    "print(formal_context)"
   ]
  },
  {
   "cell_type": "code",
   "execution_count": null,
   "metadata": {},
   "outputs": [],
   "source": [
    "Af, Bf = get_factor_matrices_from_concepts(formal_context, belohlavek_binary_dataset.shape[0], belohlavek_binary_dataset.shape[1])\n",
    "\n",
    "print(Af)\n",
    "print(Bf)"
   ]
  },
  {
   "cell_type": "code",
   "execution_count": null,
   "metadata": {},
   "outputs": [],
   "source": [
    "I = np.matmul(Af, Bf)\n",
    "assert (I == belohlavek_binary_dataset.binary_dataset).all()\n",
    "\n",
    "print(I)"
   ]
  }
 ],
 "metadata": {
  "kernelspec": {
   "display_name": "Python 3 (ipykernel)",
   "language": "python",
   "name": "python3"
  },
  "orig_nbformat": 4
 },
 "nbformat": 4,
 "nbformat_minor": 2
}
