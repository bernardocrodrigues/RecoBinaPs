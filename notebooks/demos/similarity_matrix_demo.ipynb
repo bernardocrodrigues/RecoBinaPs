{
 "cells": [
  {
   "cell_type": "markdown",
   "metadata": {},
   "source": [
    "# Similarity Matrix Demo\n",
    "\n",
    "Copyright 2022 Bernardo C. Rodrigues\n",
    "\n",
    "See COPYING file for license details"
   ]
  },
  {
   "cell_type": "code",
   "execution_count": null,
   "metadata": {},
   "outputs": [],
   "source": [
    "# Compute the similarity matrix using the Jaccard distance. \n",
    "from recommenders.common import get_similarity_matrix\n",
    "from tests.ToyDatasets import belohlavek_binary_dataset, zaki_binary_dataset, my_toy_binary_dataset\n",
    "\n",
    "belohlavek_similarity_matrix = get_similarity_matrix(belohlavek_binary_dataset)\n",
    "my_toy_similarity_matrix = get_similarity_matrix(my_toy_binary_dataset)\n",
    "zaki_similarity_matrix = get_similarity_matrix(zaki_binary_dataset)\n",
    "\n",
    "print(belohlavek_similarity_matrix)\n",
    "print(my_toy_similarity_matrix)\n",
    "print(zaki_similarity_matrix)"
   ]
  },
  {
   "cell_type": "code",
   "execution_count": null,
   "metadata": {},
   "outputs": [],
   "source": [
    "# Define a function to plot the similarity matrix\n",
    "import numpy as np\n",
    "import matplotlib.pyplot as plt\n",
    "\n",
    "\n",
    "def plot_similarity_matrix(matrix: np.ndarray, title: str, fig: plt.Figure, ax: plt.Axes):\n",
    "    subfig = ax.imshow(matrix, vmin=0, vmax=1, cmap=\"Greys\")\n",
    "    ax.set(xlabel=\"User\", ylabel=\"User\", title=title)\n",
    "    fig.colorbar(subfig, ax=ax).set_label(\"Similarity\")"
   ]
  },
  {
   "cell_type": "code",
   "execution_count": null,
   "metadata": {},
   "outputs": [],
   "source": [
    "# Plot the similarity matrices\n",
    "import matplotlib.pyplot as plt\n",
    "\n",
    "fig, axs = plt.subplots(1, 3, figsize=(20, 5))\n",
    "fig.suptitle('Jaccard based Similarity Matrices')\n",
    "\n",
    "plot_similarity_matrix(belohlavek_similarity_matrix, \"Belohlavek dataset\", axs[0])\n",
    "plot_similarity_matrix(my_toy_similarity_matrix, \"My Toy dataset\", axs[1])\n",
    "plot_similarity_matrix(zaki_similarity_matrix, \"Zaki dataset\", axs[2])\n",
    "\n",
    "fig.show()"
   ]
  },
  {
   "cell_type": "code",
   "execution_count": null,
   "metadata": {},
   "outputs": [],
   "source": [
    "# Compute the similarity matrix using the Cosine distance.\n",
    "from recommenders.common import cosine_distance\n",
    "\n",
    "belohlavek_similarity_matrix = get_similarity_matrix(belohlavek_binary_dataset, cosine_distance)\n",
    "my_toy_similarity_matrix = get_similarity_matrix(my_toy_binary_dataset, cosine_distance)\n",
    "zaki_similarity_matrix = get_similarity_matrix(zaki_binary_dataset, cosine_distance)"
   ]
  },
  {
   "cell_type": "code",
   "execution_count": null,
   "metadata": {},
   "outputs": [],
   "source": [
    "# Plot the similarity matrices\n",
    "\n",
    "\n",
    "def plot_similarity_matrix(matrix: np.array, title: str, ax: plt.Axes):\n",
    "\n",
    "    subfig = ax.imshow(matrix, vmin=0, vmax=1, cmap=\"Greys\")\n",
    "    ax.set(xlabel=\"User\", ylabel=\"User\", title=title)\n",
    "    fig.colorbar(subfig, ax=ax).set_label(\"Similarity\")\n",
    "\n",
    "\n",
    "fig, axs = plt.subplots(1, 3, figsize=(20, 5))\n",
    "fig.suptitle(\"Cosine based Similarity Matrices\")\n",
    "\n",
    "plot_similarity_matrix(belohlavek_similarity_matrix, \"Belohlavek dataset\", axs[0])\n",
    "plot_similarity_matrix(my_toy_similarity_matrix, \"My Toy dataset\", axs[1])\n",
    "plot_similarity_matrix(zaki_similarity_matrix, \"Zaki dataset\", axs[2])"
   ]
  }
 ],
 "metadata": {
  "kernelspec": {
   "display_name": "binaps",
   "language": "python",
   "name": "binaps"
  },
  "language_info": {
   "codemirror_mode": {
    "name": "ipython",
    "version": 3
   },
   "file_extension": ".py",
   "mimetype": "text/x-python",
   "name": "python",
   "nbconvert_exporter": "python",
   "pygments_lexer": "ipython3",
   "version": "3.8.10"
  },
  "orig_nbformat": 4
 },
 "nbformat": 4,
 "nbformat_minor": 2
}
