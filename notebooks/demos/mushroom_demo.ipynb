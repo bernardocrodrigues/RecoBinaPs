{
 "cells": [
  {
   "cell_type": "markdown",
   "metadata": {},
   "source": [
    "# Mushroom Database Demo\n",
    "\n",
    "This notebook replicates the results from [1]'s Example 9 regarding GreConD's factor coverage.\n",
    "\n",
    "[1] Radim Belohlavek, Vilem Vychodil, Discovery of optimal factors in binary data via a novel method of matrix\n",
    "decomposition, Journal of Computer and System Sciences, Volume 76, Issue 1, 2010, Pages 3-20,  ISSN 0022-0000,\n",
    "https://doi.org/10.1016/j.jcss.2009.05.002.(https://www.sciencedirect.com/science/article/pii/S0022000009000415)\n",
    "\n",
    "Copyright 2023 Bernardo C. Rodrigues\n",
    "See COPYING file for license details"
   ]
  },
  {
   "cell_type": "code",
   "execution_count": null,
   "metadata": {},
   "outputs": [],
   "source": [
    "# Generates the data for the plot in the paper\n",
    "\n",
    "import numpy as np\n",
    "from dataset.mushroom_dataset import MushroomDataset\n",
    "from fca.formal_concept_analysis import GreConD\n",
    "\n",
    "dataset = MushroomDataset()\n",
    "\n",
    "coverages = np.arange(0, 1.01, 0.01)\n",
    "\n",
    "number_of_factors = []\n",
    "\n",
    "for coverage in coverages:\n",
    "    concepts, _ = GreConD(dataset, coverage=coverage)\n",
    "    number_of_factors.append(len(concepts))\n",
    "\n",
    "print(number_of_factors)"
   ]
  },
  {
   "cell_type": "code",
   "execution_count": null,
   "metadata": {},
   "outputs": [],
   "source": [
    "import plotly.express as px\n",
    "\n",
    "coverages *= 100  # scale coverages for plotting\n",
    "\n",
    "fig = px.line(\n",
    "    x=number_of_factors,\n",
    "    y=coverages,\n",
    "    markers=True,\n",
    "    title=\"Relationship between the number of factors and the approximation degree.\",\n",
    "    labels={\n",
    "        \"x\": \"Number of Factors on Algorithm 2\",\n",
    "        \"y\": \"Coverage\",\n",
    "    },\n",
    ")\n",
    "fig.show()"
   ]
  }
 ],
 "metadata": {
  "kernelspec": {
   "display_name": "binaps",
   "language": "python",
   "name": "binaps"
  },
  "orig_nbformat": 4,
  "vscode": {
   "interpreter": {
    "hash": "916dbcbb3f70747c44a77c7bcd40155683ae19c65e1c03b4aa3499c5328201f1"
   }
  }
 },
 "nbformat": 4,
 "nbformat_minor": 2
}
