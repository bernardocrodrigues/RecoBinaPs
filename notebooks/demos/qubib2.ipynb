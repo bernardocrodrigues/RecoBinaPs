{
 "cells": [
  {
   "cell_type": "code",
   "execution_count": 1,
   "metadata": {},
   "outputs": [],
   "source": [
    "from pattern_mining.qubic2 import (\n",
    "    fetch_qubic2_source_code,\n",
    "    compile_qubic2,\n",
    "    is_qubic2_available,\n",
    "    run_qubic2,\n",
    "    parse_biclusters_from_qubic_output,\n",
    "    QUBIC2_DESTINATION_PATH,\n",
    ")"
   ]
  },
  {
   "cell_type": "code",
   "execution_count": 2,
   "metadata": {},
   "outputs": [],
   "source": [
    "if not is_qubic2_available(QUBIC2_DESTINATION_PATH):\n",
    "    fetch_qubic2_source_code(QUBIC2_DESTINATION_PATH)\n",
    "    compile_qubic2(QUBIC2_DESTINATION_PATH)"
   ]
  },
  {
   "cell_type": "code",
   "execution_count": 11,
   "metadata": {},
   "outputs": [
    {
     "name": "stdout",
     "output_type": "stream",
     "text": [
      "Already downloaded!. Nothing to do.\n"
     ]
    }
   ],
   "source": [
    "from dataset.common import resolve_folds\n",
    "from dataset.movie_lens import load_ml_100k_folds\n",
    "\n",
    "data, k_fold = load_ml_100k_folds()\n",
    "folds = resolve_folds(data, k_fold)\n",
    "\n",
    "trainset = folds[0][1][0]"
   ]
  },
  {
   "cell_type": "code",
   "execution_count": 14,
   "metadata": {},
   "outputs": [],
   "source": [
    "from dataset.discrete_dataset import load_discrete_dataset_from_trainset\n",
    "\n",
    "dataset = load_discrete_dataset_from_trainset(trainset)"
   ]
  },
  {
   "cell_type": "code",
   "execution_count": 35,
   "metadata": {},
   "outputs": [
    {
     "name": "stdout",
     "output_type": "stream",
     "text": [
      "291\n"
     ]
    },
    {
     "ename": "",
     "evalue": "",
     "output_type": "error",
     "traceback": [
      "\u001b[1;31mThe Kernel crashed while executing code in the current cell or a previous cell. \n",
      "\u001b[1;31mPlease review the code in the cell(s) to identify a possible cause of the failure. \n",
      "\u001b[1;31mClick <a href='https://aka.ms/vscodeJupyterKernelCrash'>here</a> for more info. \n",
      "\u001b[1;31mView Jupyter <a href='command:jupyter.viewOutput'>log</a> for further details."
     ]
    }
   ],
   "source": [
    "from pathlib import Path\n",
    "from dataset.discrete_dataset import save_as_qubic2_compatible_input\n",
    "\n",
    "\n",
    "input_file_path = f\"dataset\"\n",
    "output_file_path = f\"dataset.blocks\"\n",
    "\n",
    "with open(input_file_path, \"w+\", encoding=\"UTF-8\") as file_object:\n",
    "    save_as_qubic2_compatible_input(dataset, file_object)\n",
    "\n",
    "run_qubic2(\n",
    "    data_path=Path(input_file_path),\n",
    "    bicluster_number=100000,\n",
    "    max_overlap=1.0,\n",
    "    consistency=0.51,\n",
    "    use_spearman_correlation=False,\n",
    "    minimum_column_width=5,\n",
    ")\n",
    "\n",
    "biclusters = parse_biclusters_from_qubic_output(output_file_path)\n",
    "\n",
    "print(len(biclusters))"
   ]
  }
 ],
 "metadata": {
  "kernelspec": {
   "display_name": "recommender",
   "language": "python",
   "name": "recommender"
  },
  "language_info": {
   "codemirror_mode": {
    "name": "ipython",
    "version": 3
   },
   "file_extension": ".py",
   "mimetype": "text/x-python",
   "name": "python",
   "nbconvert_exporter": "python",
   "pygments_lexer": "ipython3",
   "version": "3.10.12"
  }
 },
 "nbformat": 4,
 "nbformat_minor": 2
}
