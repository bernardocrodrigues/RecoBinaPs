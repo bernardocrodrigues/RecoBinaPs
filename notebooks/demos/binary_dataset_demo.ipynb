{
 "cells": [
  {
   "cell_type": "markdown",
   "metadata": {},
   "source": [
    "# BinaryDataset Demo\n",
    "\n",
    "This notebook demonstrates the usability of the BinaryDataset class.\n",
    "\n",
    "The BinaryDataset class works as a wrapper over a binary numpy matrix to add some helper functions to aid us perform FCA\n",
    "related tasks such as computation of intents/extents.\n",
    "\n",
    "Copyright 2022 Bernardo C. Rodrigues\n",
    "\n",
    "See COPYING file for license details"
   ]
  },
  {
   "cell_type": "code",
   "execution_count": null,
   "metadata": {},
   "outputs": [],
   "source": [
    "# Create BinaryDataset from raw data\n",
    "\n",
    "from dataset.binary_dataset import BinaryDataset\n",
    "from tests.ToyDatasets import  zaki_dataset_raw\n",
    "\n",
    "zaki_dataset = BinaryDataset(zaki_dataset_raw)"
   ]
  },
  {
   "cell_type": "code",
   "execution_count": null,
   "metadata": {},
   "outputs": [],
   "source": [
    "# Raw access to the datasets\n",
    "from rich.jupyter import print # provide better printing\n",
    "\n",
    "print(zaki_dataset.binary_dataset)\n",
    "print(zaki_dataset.transposed_binary_dataset)"
   ]
  },
  {
   "cell_type": "code",
   "execution_count": null,
   "metadata": {},
   "outputs": [],
   "source": [
    "# Access shape as in numpy arrays\n",
    "print(f\"Shape: {zaki_dataset.shape}\")"
   ]
  },
  {
   "cell_type": "code",
   "execution_count": null,
   "metadata": {},
   "outputs": [],
   "source": [
    "# Access the sets of rows and columns\n",
    "print(f\"Dataset Rows: {zaki_dataset.X}\")\n",
    "\n",
    "print(f\"Dataset Columns: {zaki_dataset.Y}\")"
   ]
  },
  {
   "cell_type": "code",
   "execution_count": null,
   "metadata": {},
   "outputs": [],
   "source": [
    "# Compute i over dataset given tidset T\n",
    "\n",
    "import numpy as np\n",
    "\n",
    "T = np.array([0])\n",
    "print(f\"i({T}) = {zaki_dataset.i(T)}\")\n",
    "\n",
    "T = np.array([5])\n",
    "print(f\"i({T}) = {zaki_dataset.i(T)}\")\n",
    "\n",
    "T = np.array([1, 2, 4])\n",
    "print(f\"i({T}) = {zaki_dataset.i(T)}\")\n",
    "\n",
    "T = np.array([0, 1, 2, 3, 4])\n",
    "print(f\"i({T}) = {zaki_dataset.i(T)}\")"
   ]
  },
  {
   "cell_type": "code",
   "execution_count": null,
   "metadata": {},
   "outputs": [],
   "source": [
    "# Compute t over dataset given itemset X\n",
    "\n",
    "X = np.array([0])\n",
    "print(f\"t({X}) = {zaki_dataset.t(X)}\")\n",
    "\n",
    "X = np.array([0, 4])\n",
    "print(f\"t({X}) = {zaki_dataset.t(X)}\")\n",
    "\n",
    "X = np.array([0, 2, 3])\n",
    "print(f\"t({X}) = {zaki_dataset.t(X)}\")\n",
    "\n",
    "X = np.array([0, 1, 2, 4])\n",
    "print(f\"t({X}) = {zaki_dataset.t(X)}\")"
   ]
  }
 ],
 "metadata": {
  "kernelspec": {
   "display_name": "Python 3 (ipykernel)",
   "language": "python",
   "name": "python3"
  },
  "language_info": {
   "codemirror_mode": {
    "name": "ipython",
    "version": 3
   },
   "file_extension": ".py",
   "mimetype": "text/x-python",
   "name": "python",
   "nbconvert_exporter": "python",
   "pygments_lexer": "ipython3",
   "version": "3.8.10"
  },
  "orig_nbformat": 4,
  "vscode": {
   "interpreter": {
    "hash": "31f2aee4e71d21fbe5cf8b01ff0e069b9275f58929596ceb00d14d90e3e16cd6"
   }
  }
 },
 "nbformat": 4,
 "nbformat_minor": 2
}
