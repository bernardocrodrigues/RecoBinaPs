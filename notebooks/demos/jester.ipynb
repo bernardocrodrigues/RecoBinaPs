{
 "cells": [
  {
   "cell_type": "code",
   "execution_count": 1,
   "metadata": {},
   "outputs": [],
   "source": [
    "from pathlib import Path\n",
    "\n",
    "JESTER_URL = \"https://eigentaste.berkeley.edu/dataset/archive/jester_dataset_2.zip\"\n",
    "OUTPUT_DIR = Path(\"/tmp/jester\")\n"
   ]
  },
  {
   "cell_type": "code",
   "execution_count": 2,
   "metadata": {},
   "outputs": [
    {
     "name": "stdout",
     "output_type": "stream",
     "text": [
      "Already downloaded!. Nothing to do.\n"
     ]
    }
   ],
   "source": [
    "import zipfile\n",
    "from shutil import copyfileobj\n",
    "from urllib.request import urlopen\n",
    "from pathlib import Path\n",
    "\n",
    "def download_jester(destination_dir: Path):\n",
    "    \"\"\"\n",
    "    Download the Jester dataset to the specified directory.\n",
    "\n",
    "    Args:\n",
    "        destination_dir: The directory where the dataset will be downloaded.\n",
    "    \"\"\"\n",
    "    if destination_dir.exists():\n",
    "        print(\"Already downloaded!. Nothing to do.\")\n",
    "        return\n",
    "\n",
    "    destination_dir.mkdir(parents=True, exist_ok=True)\n",
    "\n",
    "    jester_zip_file = destination_dir / \"jester_dataset_2.zip\"\n",
    "\n",
    "    if not jester_zip_file.exists():\n",
    "        print(f\"Downloading Jester to {destination_dir}...\")\n",
    "        with urlopen(JESTER_URL) as stream, open(jester_zip_file, \"wb\") as out_file:\n",
    "            copyfileobj(stream, out_file)\n",
    "        print(\"Done!\")\n",
    "\n",
    "    print(\"Extracting...\")\n",
    "    with zipfile.ZipFile(jester_zip_file, \"r\") as zip_file:\n",
    "        zip_file.extractall(destination_dir)\n",
    "\n",
    "    jester_zip_file.unlink()\n",
    "\n",
    "    print(\"Done!\")\n",
    "\n",
    "download_jester(OUTPUT_DIR)"
   ]
  },
  {
   "cell_type": "code",
   "execution_count": 3,
   "metadata": {},
   "outputs": [],
   "source": [
    "from surprise import Dataset, Reader\n",
    "from surprise.model_selection import KFold\n",
    "\n",
    "data = Dataset.load_from_file(OUTPUT_DIR / \"jester_ratings.dat\", reader=Reader(\"jester\"))\n",
    "\n",
    "k_fold = KFold(n_splits=5, random_state=42)\n",
    "\n"
   ]
  },
  {
   "cell_type": "code",
   "execution_count": 4,
   "metadata": {},
   "outputs": [
    {
     "name": "stdout",
     "output_type": "stream",
     "text": [
      "Testset:\n",
      "[('14696', '148', 3.156), ('58862', '18', -0.094), ('41679', '143', 7.812), ('25475', '72', 9.844), ('44124', '65', 6.094)]\n"
     ]
    }
   ],
   "source": [
    "from dataset.common import resolve_folds\n",
    "\n",
    "\n",
    "k_fold = KFold(n_splits=5, random_state=42)\n",
    "\n",
    "folds = resolve_folds(data, k_fold)\n",
    "folds_without_index = [fold[1] for fold in folds]\n",
    "\n",
    "for trainset, testset in folds_without_index:\n",
    "\n",
    "\n",
    "    print(\"Testset:\")\n",
    "    print(testset[:5])\n",
    "\n",
    "    break\n",
    "    "
   ]
  }
 ],
 "metadata": {
  "kernelspec": {
   "display_name": "recommender",
   "language": "python",
   "name": "recommender"
  }
 },
 "nbformat": 4,
 "nbformat_minor": 2
}
