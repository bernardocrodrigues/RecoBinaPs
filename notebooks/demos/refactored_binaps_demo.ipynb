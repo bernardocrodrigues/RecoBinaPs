{
 "cells": [
  {
   "cell_type": "markdown",
   "metadata": {},
   "source": [
    "# Refactored BinaPs Demo\n",
    "\n",
    "This notebook demonstrates the usability of an overhauled BinaPs implementation that is supposed to be more flexible and\n",
    "developer friendly. It consists on three steps:\n",
    "\n",
    "**1. Generate synthetic data:** With one of the provided scripts, we generate synthetic data in which a set of known\n",
    "patterns are planted.\n",
    "\n",
    "**2. Run BinaPs:** We'll run BinaPs over this synthetic dataset and get a list of inferred patterns\n",
    "\n",
    "Copyright 2022 Bernardo C. Rodrigues\n",
    "\n",
    "See COPYING file for license details"
   ]
  },
  {
   "cell_type": "code",
   "execution_count": null,
   "metadata": {},
   "outputs": [],
   "source": [
    "import torch\n",
    "\n",
    "# Check if CUDA is available\n",
    "if(torch.cuda.is_available()):\n",
    "    print(f\"CUDA Device: {torch.cuda.get_device_name(0)}\")\n",
    "else:\n",
    "    print(\"No CUDA device avaiable\")"
   ]
  },
  {
   "cell_type": "code",
   "execution_count": null,
   "metadata": {},
   "outputs": [],
   "source": [
    "import tempfile\n",
    "from pathlib import Path\n",
    "from binaps.binaps_wrapper import generate_synthetic_data\n",
    "\n",
    "output_file = \"data\"\n",
    "\n",
    "row_quantity = 1000\n",
    "column_quantity = 10\n",
    "max_pattern_size = 500\n",
    "noise = 0.05\n",
    "density = 0.03\n",
    "\n",
    "tmp_dir = Path(tempfile.mkdtemp())\n",
    "\n",
    "generate_synthetic_data(tmp_dir, row_quantity, column_quantity, output_file, max_pattern_size, noise, density)"
   ]
  },
  {
   "cell_type": "code",
   "execution_count": null,
   "metadata": {},
   "outputs": [],
   "source": [
    "from torch import device, cuda\n",
    "\n",
    "import numpy as np\n",
    "\n",
    "from binaps.network import learn, get_patterns\n",
    "from binaps.dataset import BinaryDataset, parse_dat_file, divide_data\n",
    "\n",
    "data_file = \"data.dat\"\n",
    "proportion = 0.9\n",
    "\n",
    "device = device(\"cuda:0\" if cuda.is_available() else \"cpu\")\n",
    "\n",
    "data = parse_dat_file(data_file)\n",
    "train_data, test_data = divide_data(data, 0.9)\n",
    "\n",
    "train_dataset = BinaryDataset(train_data, device)\n",
    "test_dataset = BinaryDataset(test_data, device)\n",
    "\n",
    "batch_size = 64\n",
    "test_batch_size = 64\n",
    "hidden_dim = 20\n",
    "lr = 0.01\n",
    "weight_decay = 0\n",
    "gamma = 0.1\n",
    "epochs = 100\n",
    "\n",
    "model, weights = learn(train_dataset, \n",
    "                       test_dataset,\n",
    "                       batch_size,\n",
    "                       test_batch_size,\n",
    "                       hidden_dim,\n",
    "                       lr,\n",
    "                       weight_decay,\n",
    "                       gamma,\n",
    "                       epochs)\n"
   ]
  },
  {
   "cell_type": "code",
   "execution_count": null,
   "metadata": {},
   "outputs": [],
   "source": [
    "patterns = get_patterns(weights)\n",
    "\n",
    "for pattern in patterns:\n",
    "    print(pattern)"
   ]
  }
 ],
 "metadata": {
  "kernelspec": {
   "display_name": "Python 3 (ipykernel)",
   "language": "python",
   "name": "python3"
  },
  "language_info": {
   "codemirror_mode": {
    "name": "ipython",
    "version": 3
   },
   "file_extension": ".py",
   "mimetype": "text/x-python",
   "name": "python",
   "nbconvert_exporter": "python",
   "pygments_lexer": "ipython3",
   "version": "3.8.10"
  },
  "orig_nbformat": 4,
  "vscode": {
   "interpreter": {
    "hash": "31f2aee4e71d21fbe5cf8b01ff0e069b9275f58929596ceb00d14d90e3e16cd6"
   }
  }
 },
 "nbformat": 4,
 "nbformat_minor": 2
}
